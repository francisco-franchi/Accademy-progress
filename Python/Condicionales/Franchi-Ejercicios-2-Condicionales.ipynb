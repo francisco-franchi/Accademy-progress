{
 "cells": [
  {
   "cell_type": "markdown",
   "metadata": {},
   "source": [
    "# Ejercicios de Condicionales"
   ]
  },
  {
   "cell_type": "markdown",
   "metadata": {},
   "source": [
    "## Ejercicio 1"
   ]
  },
  {
   "cell_type": "markdown",
   "metadata": {},
   "source": [
    "Escribir un programa que pregunte al usuario su edad y muestre por pantalla si es mayor de edad o no."
   ]
  },
  {
   "cell_type": "code",
   "execution_count": null,
   "metadata": {},
   "outputs": [],
   "source": [
    "edad = int(input('¿Cuál es su edad? '))\n",
    "if edad >= 18:\n",
    "    print('Es mayor de edad')\n",
    "else:\n",
    "    print('No es mayor de edad')"
   ]
  },
  {
   "cell_type": "markdown",
   "metadata": {},
   "source": [
    "## Ejercicio 2"
   ]
  },
  {
   "cell_type": "markdown",
   "metadata": {},
   "source": [
    "Escribir un programa que almacene la cadena de caracteres <font color=#B40431>contraseña</font> en una variable, pregunte al usuario por la contraseña e imprima por pantalla si la contraseña introducida por el usuario coincide con la guardada en la variable sin tener en cuenta mayúsculas y minúsculas."
   ]
  },
  {
   "cell_type": "code",
   "execution_count": 1,
   "metadata": {},
   "outputs": [
    {
     "name": "stdout",
     "output_type": "stream",
     "text": [
      "¿Cual es su contraseña? accenture\n",
      "La contraseña ingresada no coincide con la de la variable\n"
     ]
    }
   ],
   "source": [
    "chequeo = \"contraseña\"\n",
    "password = str(input('¿Cual es su contraseña? '))\n",
    "if (chequeo.lower() == password.lower()):\n",
    "    print(password)\n",
    "else:\n",
    "    print('La contraseña ingresada no coincide con la de la variable')"
   ]
  },
  {
   "cell_type": "markdown",
   "metadata": {},
   "source": [
    "## Ejercicio 3"
   ]
  },
  {
   "cell_type": "markdown",
   "metadata": {},
   "source": [
    "Escribir un programa que pida al usuario dos números y muestre por pantalla su división. Si el divisor es cero el programa debe mostrar un error."
   ]
  },
  {
   "cell_type": "code",
   "execution_count": null,
   "metadata": {},
   "outputs": [],
   "source": [
    "n1 = float(input('Ingrese un numero(dividendo) '))\n",
    "n2 = float(input('Ingrese otro numero(divisor) '))\n",
    "if n2 == 0:\n",
    "    print('No se puede dividir por cero')\n",
    "else:\n",
    "    print('El resultado de la division es', n1/n2)"
   ]
  },
  {
   "cell_type": "markdown",
   "metadata": {},
   "source": [
    "## Ejercicio 4"
   ]
  },
  {
   "cell_type": "markdown",
   "metadata": {},
   "source": [
    "Escribir un programa que pida al usuario un número entero y muestre por pantalla si es par o impar."
   ]
  },
  {
   "cell_type": "code",
   "execution_count": 3,
   "metadata": {},
   "outputs": [
    {
     "name": "stdout",
     "output_type": "stream",
     "text": [
      "Ingrese un número entero 4\n",
      "El numero ingresado es par\n"
     ]
    }
   ],
   "source": [
    "num = int(input('Ingrese un número entero '))\n",
    "if (num % 2) == 0:\n",
    "    print('El numero ingresado es par')\n",
    "else:\n",
    "    print('El numero ingresado es impar')"
   ]
  },
  {
   "cell_type": "markdown",
   "metadata": {},
   "source": [
    "## Ejercicio 5"
   ]
  },
  {
   "cell_type": "markdown",
   "metadata": {},
   "source": [
    "Para aplicar un determinado impuesto se debe ser mayor de 16 años y tener unos ingresos iguales o superiores a 10000 $ mensuales. Escribir un programa que pregunte al usuario su edad y sus ingresos mensuales y muestre por pantalla si el usuario tiene que pagar o no."
   ]
  },
  {
   "cell_type": "code",
   "execution_count": 11,
   "metadata": {},
   "outputs": [
    {
     "name": "stdout",
     "output_type": "stream",
     "text": [
      "Ingrese su edad 16\n",
      "Ingrese sus ingresos mensuales 23456789\n",
      "Usted no debe pagar el impuesto\n"
     ]
    }
   ],
   "source": [
    "edad = int(input('Ingrese su edad '))\n",
    "ingresos = int(input('Ingrese sus ingresos mensuales '))\n",
    "if edad > 16 and ingresos >= 10000:\n",
    "    print('Usted debe pagar el impuesto')\n",
    "else:\n",
    "    print('Usted no debe pagar el impuesto')"
   ]
  },
  {
   "cell_type": "markdown",
   "metadata": {},
   "source": [
    "## Ejercicio 6"
   ]
  },
  {
   "cell_type": "markdown",
   "metadata": {},
   "source": [
    "Los alumnos de un curso se han dividido en dos grupos A y B de acuerdo al sexo y el nombre. El grupo A esta formado por las mujeres con un nombre anterior a la M y los hombres con un nombre posterior a la N y el grupo B por el resto. Escribir un programa que pregunte al usuario su nombre y sexo, y muestre por pantalla el grupo que le corresponde."
   ]
  },
  {
   "cell_type": "code",
   "execution_count": 19,
   "metadata": {},
   "outputs": [
    {
     "name": "stdout",
     "output_type": "stream",
     "text": [
      "Ingrese su nombre Sebastian\n",
      "Ingrese su sexo Hombre\n",
      "A usted le corresponde el grupo A\n"
     ]
    }
   ],
   "source": [
    "nombre = str(input('Ingrese su nombre '))\n",
    "sexo = str(input('Ingrese su sexo (Hombre o Mujer) '))\n",
    "if (sexo == \"Mujer\" and min(nombre).upper() < 'M') or (sexo == \"Hombre\" and min(nombre).upper() > 'N'):\n",
    "    print('A usted le corresponde el grupo A')\n",
    "elif:\n",
    "    print('A usted le corresponde el grupo B')"
   ]
  },
  {
   "cell_type": "markdown",
   "metadata": {},
   "source": [
    "## Ejercicio 7"
   ]
  },
  {
   "cell_type": "markdown",
   "metadata": {},
   "source": [
    "Las franjas impositivas para la declaración de la renta en un determinado país son los siguientes:\n",
    "<table>\n",
    "<thead>\n",
    "<tr>\n",
    "<th style=\"text-align:center\">Renta en &#36;</th>\n",
    "<th style=\"text-align:center\">Impuesto </th>\n",
    "</tr>\n",
    "</thead>\n",
    "<tbody>\n",
    "<tr>\n",
    "<td style=\"text-align:center\">Menos de 10000</td>\n",
    "<td style=\"text-align:center\">5&#37; </td>\n",
    "</tr>\n",
    "<tr>\n",
    "<td style=\"text-align:center\">Entre 10000 y 20000</td>\n",
    "<td style=\"text-align:center\">15&#37;</td>\n",
    "</tr>\n",
    "<tr>\n",
    "<td style=\"text-align:center\">Entre 20000 y 35000 </td>\n",
    "<td style=\"text-align:center\">20&#37;</td>\n",
    "</tr>\n",
    "<tr>\n",
    "<td style=\"text-align:center\">Entre 35000 y 60000</td>\n",
    "<td style=\"text-align:center\">30&#37;</td>\n",
    "</tr>\n",
    "<tr>\n",
    "<td style=\"text-align:center\">Más de 60000</td>\n",
    "<td style=\"text-align:center\">45&#37;</td>\n",
    "</tr>\n",
    "</tbody>\n",
    "</table>\n",
    "Escribir un programa que pregunte al usuario su renta anual y muestre por pantalla el tipo impositivo que le corresponde."
   ]
  },
  {
   "cell_type": "code",
   "execution_count": 25,
   "metadata": {},
   "outputs": [
    {
     "name": "stdout",
     "output_type": "stream",
     "text": [
      "Ingrese su renta anual 70000\n",
      "Le corresponde un impuesto del 45%\n"
     ]
    }
   ],
   "source": [
    "renta = float(input('Ingrese su renta anual '))\n",
    "if renta < 10000:\n",
    "    print('Le corresponde un impuesto del 5%')\n",
    "elif renta >= 10000 and renta < 20000:\n",
    "    print('Le corresponde un impuesto del 15%')\n",
    "elif renta >= 20000 and renta < 35000:\n",
    "    print('Le corresponde un impuesto del 20%')\n",
    "elif renta >= 35000 and renta < 60000:\n",
    "    print('Le corresponde un impuesto del 30%')\n",
    "else:\n",
    "    print('Le corresponde un impuesto del 45%')"
   ]
  },
  {
   "cell_type": "markdown",
   "metadata": {},
   "source": [
    "## Ejercicio 8"
   ]
  },
  {
   "cell_type": "markdown",
   "metadata": {},
   "source": [
    "En una determinada empresa, sus empleados son evaluados al final de cada año. Los puntos que pueden obtener en la evaluación comienzan en 0.0 y pueden ir aumentando, traduciéndose en mejores beneficios. Los puntos que pueden conseguir los empleados pueden ser 0.0, 0.4, 0.6 o más, pero no valores intermedios entre las cifras mencionadas. A continuación se muestra una tabla con los niveles correspondientes a cada puntuación. La cantidad de dinero conseguida en cada nivel es de 2500 $ multiplicada por la puntuación del nivel.\n",
    "\n",
    "<table>\n",
    "<thead>\n",
    "<tr>\n",
    "<th style=\"text-align:center\">Nivel</th>\n",
    "<th style=\"text-align:center\">Puntuación</th>\n",
    "</tr>\n",
    "</thead>\n",
    "<tbody>\n",
    "<tr>\n",
    "<td style=\"text-align:center\">Inaceptable</td>\n",
    "<td style=\"text-align:center\">0.0</td>\n",
    "</tr>\n",
    "<tr>\n",
    "<td style=\"text-align:center\">Aceptable</td>\n",
    "<td style=\"text-align:center\">0.4</td>\n",
    "</tr>\n",
    "<tr>\n",
    "<td style=\"text-align:center\">Meritorio</td>\n",
    "<td style=\"text-align:center\">0.6 o más</td>\n",
    "</tr>\n",
    "</tbody>\n",
    "</table>\n",
    "\n",
    "\n",
    "Escribir un programa que lea la puntuación del usuario e indique su nivel de rendimiento, así como la cantidad de dinero que recibirá el usuario."
   ]
  },
  {
   "cell_type": "code",
   "execution_count": 29,
   "metadata": {},
   "outputs": [
    {
     "name": "stdout",
     "output_type": "stream",
     "text": [
      "Ingrese su puntaje 1\n",
      "Su nivel es Meritorio y su dinero conseguido es de $ 2500.0\n"
     ]
    }
   ],
   "source": [
    "puntaje = float(input('Ingrese su puntaje '))\n",
    "if puntaje == 0.0:\n",
    "    print('Su nivel es Inaceptable y su dinero conseguido es de $', puntaje * 2500)\n",
    "if puntaje == 0.4:\n",
    "    print('Su nivel es Aceptable y su dinero conseguido es de $', puntaje * 2500)\n",
    "if puntaje == 0.6 or puntaje > 0.6:\n",
    "    print('Su nivel es Meritorio y su dinero conseguido es de $', puntaje * 2500)"
   ]
  },
  {
   "cell_type": "markdown",
   "metadata": {},
   "source": [
    "## Ejercicio 9"
   ]
  },
  {
   "cell_type": "markdown",
   "metadata": {},
   "source": [
    "Escribir un programa para una empresa que tiene salas de juegos para todas las edades y quiere calcular de forma automática el precio que debe cobrar a sus clientes por entrar. El programa debe preguntar al usuario la edad del cliente y mostrar el precio de la entrada. Si el cliente es menor de 4 años puede entrar gratis, si tiene entre 4 y 18 años debe pagar 50 pesos y si es mayor de 18 años, 100 pesos."
   ]
  },
  {
   "cell_type": "code",
   "execution_count": 34,
   "metadata": {},
   "outputs": [
    {
     "name": "stdout",
     "output_type": "stream",
     "text": [
      "Ingrese su edad 80\n",
      "La entrada vale $100\n"
     ]
    }
   ],
   "source": [
    "edad = int(input('Ingrese su edad '))\n",
    "if edad < 4:\n",
    "    print('La entrada es gratis')\n",
    "elif edad >= 4 and edad < 18:\n",
    "    print('La entrada vale $50')\n",
    "else:\n",
    "    print('La entrada vale $100')"
   ]
  },
  {
   "cell_type": "markdown",
   "metadata": {},
   "source": [
    "## Ejercicio 10"
   ]
  },
  {
   "cell_type": "markdown",
   "metadata": {},
   "source": [
    "La pizzería Bella Napoli ofrece pizzas vegetarianas y no vegetarianas a sus clientes. Los ingredientes para cada tipo de pizza aparecen a continuación.\n",
    "\n",
    "<ul>\n",
    "<li>Ingredientes vegetarianos: Pimiento y tofu.</li>\n",
    "<li>Ingredientes no vegetarianos: Peperoni, Jamón y Salmón.</li>\n",
    "</ul>\n",
    "\n",
    "Escribir un programa que pregunte al usuario si quiere una pizza vegetariana o no, y en función de su respuesta le muestre un menú con los ingredientes disponibles para que elija. Solo se puede eligir un ingrediente además de la mozzarella y el tomate que están en todas la pizzas. Al final se debe mostrar por pantalla si la pizza elegida es vegetariana o no y todos los ingredientes que lleva."
   ]
  },
  {
   "cell_type": "code",
   "execution_count": 40,
   "metadata": {},
   "outputs": [
    {
     "name": "stdout",
     "output_type": "stream",
     "text": [
      "¿Quiere una pizza vegetariana? no\n",
      "Elija uno de estos tres ingredientes: Peperoni, Jamón, Salmón salmon\n",
      "La pizza elegida no es vegetariana y lleva salmon tomate y mozarella\n"
     ]
    }
   ],
   "source": [
    "respuesta = str(input('¿Quiere una pizza vegetariana? '))\n",
    "if respuesta.lower() == 'si':\n",
    "    ingveg = str(input('Elija uno de estos dos ingredientes: Pimiento, Tofu '))\n",
    "    if ingveg.lower() == 'pimiento' or ingveg.lower() == 'tofu':\n",
    "        print('La pizza elegida es vegetariana y lleva', ingveg, 'tomate y mozarella')\n",
    "else:\n",
    "    ingnoveg = str(input('Elija uno de estos tres ingredientes: Peperoni, Jamón, Salmón '))\n",
    "    if ingnoveg.lower() == 'peperoni' or ingnoveg.lower() == 'jamon' or ingnoveg.lower() == 'salmon':\n",
    "        print('La pizza elegida no es vegetariana y lleva', ingnoveg, 'tomate y mozarella')"
   ]
  }
 ],
 "metadata": {
  "kernelspec": {
   "display_name": "Python 3",
   "language": "python",
   "name": "python3"
  },
  "language_info": {
   "codemirror_mode": {
    "name": "ipython",
    "version": 3
   },
   "file_extension": ".py",
   "mimetype": "text/x-python",
   "name": "python",
   "nbconvert_exporter": "python",
   "pygments_lexer": "ipython3",
   "version": "3.8.3"
  }
 },
 "nbformat": 4,
 "nbformat_minor": 2
}
