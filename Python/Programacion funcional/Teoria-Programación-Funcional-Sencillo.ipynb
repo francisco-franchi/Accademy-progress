{
 "cells": [
  {
   "cell_type": "code",
   "execution_count": null,
   "metadata": {},
   "outputs": [],
   "source": [
    "# lambda\n",
    "def incrementar(x):\n",
    "    return x + 1\n"
   ]
  },
  {
   "cell_type": "code",
   "execution_count": null,
   "metadata": {},
   "outputs": [],
   "source": [
    "# expresion\n",
    "lambda x: x + 1\n",
    "(lambda x: x +1)(9)"
   ]
  },
  {
   "cell_type": "code",
   "execution_count": null,
   "metadata": {},
   "outputs": [],
   "source": [
    "# definir una función\n",
    "incremento = lambda x: x + 1\n",
    "incremento(24)"
   ]
  },
  {
   "cell_type": "code",
   "execution_count": null,
   "metadata": {},
   "outputs": [],
   "source": [
    "# closures\n",
    "def construir_multiplos(factor):\n",
    "    def interno(valor):\n",
    "        return valor * factor\n",
    "    return interno\n",
    "    \n",
    "multiplos_2 = construir_multiplos(2)\n",
    "multiplos_7 = construir_multiplos(7)\n",
    "\n",
    "multiplos_2(10)\n",
    "multiplos_7(2)\n",
    "\n",
    "multiplos_2"
   ]
  },
  {
   "cell_type": "markdown",
   "metadata": {},
   "source": [
    "filter(funcion, elemento_iterable)"
   ]
  },
  {
   "cell_type": "code",
   "execution_count": null,
   "metadata": {},
   "outputs": [],
   "source": [
    "# Forma Clasica\n",
    "def positivosImperativa(numeros):\n",
    "    positivos = []\n",
    "    for n in numeros:\n",
    "        if n >= 0:\n",
    "            positivos.append(n)\n",
    "    return positivos\n",
    "\n",
    "print (positivosImperativa([2, -1, 4, 0, -10, -2, 6, -8]))"
   ]
  },
  {
   "cell_type": "code",
   "execution_count": null,
   "metadata": {},
   "outputs": [],
   "source": [
    "# Usando Funciones\n",
    "def esPositivo(n):\n",
    "    return n >= 0\n",
    "\n",
    "def positivosConFilter(numeros):\n",
    "    return filter(esPositivo, numeros)\n",
    "\n",
    "print(list(positivosConFilter([2, -1, 4, 0, -10, -2, 6, -8])))"
   ]
  },
  {
   "cell_type": "code",
   "execution_count": null,
   "metadata": {},
   "outputs": [],
   "source": [
    "# Otro ejemplo usando funciones\n",
    "\n",
    "def par(n):\n",
    "    return n % 2 == 0\n",
    "\n",
    "lista = [2,3,4,0,5,2,6,7]\n",
    "\n",
    "list(filter(par,lista))"
   ]
  },
  {
   "cell_type": "markdown",
   "metadata": {},
   "source": [
    "map(funcion,elemento_iterable)"
   ]
  },
  {
   "cell_type": "code",
   "execution_count": null,
   "metadata": {},
   "outputs": [],
   "source": [
    "# Forma Tradicional\n",
    "def multiplicadosPorDosProcedural(lista):\n",
    "    multiplicados = []\n",
    "    for i in lista:\n",
    "        multiplicados.append(i * 2)\n",
    "    return multiplicados\n",
    "\n",
    "print(list(multiplicadosPorDosProcedural([1, 4, 5, 2, 3, 10])))"
   ]
  },
  {
   "cell_type": "code",
   "execution_count": null,
   "metadata": {},
   "outputs": [],
   "source": [
    "def porDos(n): return n * 2\n",
    "\n",
    "def multiplicadosPorDos(lista):\n",
    "    return map(porDos, lista)\n",
    "\n",
    "print(list(multiplicadosPorDos([1, 4, 5, 2, 3, 10])))"
   ]
  },
  {
   "cell_type": "code",
   "execution_count": null,
   "metadata": {},
   "outputs": [],
   "source": [
    "def cuadrado(n):\n",
    "    return n*n\n",
    "\n",
    "list(map(cuadrado, [6,7,8]))"
   ]
  },
  {
   "cell_type": "markdown",
   "metadata": {},
   "source": [
    "reduce(funcion, elemento_iterable)"
   ]
  },
  {
   "cell_type": "code",
   "execution_count": null,
   "metadata": {},
   "outputs": [],
   "source": [
    "from functools import reduce\n",
    "\n",
    "def sumar(a, b): return a + b\n",
    "\n",
    "def sumaConReduce(numeros):\n",
    "    return reduce(sumar,numeros)\n",
    "\n",
    "sumaConReduce([2,3,10,11])\n"
   ]
  },
  {
   "cell_type": "code",
   "execution_count": null,
   "metadata": {},
   "outputs": [],
   "source": [
    "from functools import reduce\n",
    "def producto(n,m):\n",
    "    return n*m\n",
    "\n",
    "reduce(producto, range(1,6))"
   ]
  },
  {
   "cell_type": "markdown",
   "metadata": {},
   "source": [
    "zip(c1,c2, . . . )"
   ]
  },
  {
   "cell_type": "code",
   "execution_count": 1,
   "metadata": {},
   "outputs": [
    {
     "output_type": "execute_result",
     "data": {
      "text/plain": [
       "[('Matemática', 6), ('Física', 2), ('Química', 7), ('Economía', 9)]"
      ]
     },
     "metadata": {},
     "execution_count": 1
    }
   ],
   "source": [
    "asignaturas = ['Matemática','Física', 'Química', 'Economía']\n",
    "notas = [6,2,7,9]\n",
    "list (zip(asignaturas,notas))"
   ]
  },
  {
   "cell_type": "code",
   "execution_count": 2,
   "metadata": {},
   "outputs": [
    {
     "output_type": "execute_result",
     "data": {
      "text/plain": [
       "[('Matemática', 6), ('Física', 2), ('Química', 7)]"
      ]
     },
     "metadata": {},
     "execution_count": 2
    }
   ],
   "source": [
    "asignaturas = ['Matemática','Física', 'Química', 'Economía']\n",
    "notas = [6,2,7]\n",
    "list (zip(asignaturas,notas))"
   ]
  },
  {
   "cell_type": "code",
   "execution_count": 3,
   "metadata": {},
   "outputs": [
    {
     "output_type": "execute_result",
     "data": {
      "text/plain": [
       "[('Matemática', 6, 'Adrian'),\n",
       " ('Física', 2, 'Gisela'),\n",
       " ('Química', 7, 'Facundo')]"
      ]
     },
     "metadata": {},
     "execution_count": 3
    }
   ],
   "source": [
    "asignaturas = ['Matemática','Física', 'Química', 'Economía']\n",
    "notas = [6,2,7]\n",
    "nombres = ['Adrian','Gisela','Facundo']\n",
    "list (zip(asignaturas,notas,nombres))"
   ]
  },
  {
   "cell_type": "code",
   "execution_count": null,
   "metadata": {},
   "outputs": [],
   "source": []
  }
 ],
 "metadata": {
  "kernelspec": {
   "display_name": "Python 3",
   "language": "python",
   "name": "python3"
  },
  "language_info": {
   "codemirror_mode": {
    "name": "ipython",
    "version": 3
   },
   "file_extension": ".py",
   "mimetype": "text/x-python",
   "name": "python",
   "nbconvert_exporter": "python",
   "pygments_lexer": "ipython3",
   "version": "3.8.3-final"
  }
 },
 "nbformat": 4,
 "nbformat_minor": 2
}