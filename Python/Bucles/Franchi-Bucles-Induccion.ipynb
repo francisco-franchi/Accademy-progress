{
 "cells": [
  {
   "cell_type": "code",
   "execution_count": 1,
   "metadata": {},
   "outputs": [
    {
     "name": "stdout",
     "output_type": "stream",
     "text": [
      "Introduce un numero: 1\n",
      "Introduce un numero: 2\n",
      "Introduce un numero: 3\n",
      "Introduce un numero: 4\n",
      "Introduce un numero: 5\n",
      "Introduce un numero: 0\n"
     ]
    }
   ],
   "source": [
    "num = None\n",
    "while num != 0:\n",
    "    num = int(input('Introduce un numero: '))"
   ]
  },
  {
   "cell_type": "code",
   "execution_count": 2,
   "metadata": {},
   "outputs": [
    {
     "name": "stdout",
     "output_type": "stream",
     "text": [
      "P\n",
      "y\n",
      "t\n",
      "h\n",
      "o\n",
      "n\n"
     ]
    }
   ],
   "source": [
    "palabra = 'Python'\n",
    "for letra in palabra:\n",
    "    print(letra)"
   ]
  },
  {
   "cell_type": "code",
   "execution_count": 12,
   "metadata": {},
   "outputs": [
    {
     "name": "stdout",
     "output_type": "stream",
     "text": [
      "Ingrese un tope 11\n",
      "1,3,5,7,9,"
     ]
    }
   ],
   "source": [
    "fin = int(input('Ingrese un tope '))\n",
    "for numero in range(1, fin, 2):\n",
    "    print(numero, end =',')"
   ]
  },
  {
   "cell_type": "code",
   "execution_count": null,
   "metadata": {},
   "outputs": [],
   "source": []
  }
 ],
 "metadata": {
  "kernelspec": {
   "display_name": "Python 3",
   "language": "python",
   "name": "python3"
  },
  "language_info": {
   "codemirror_mode": {
    "name": "ipython",
    "version": 3
   },
   "file_extension": ".py",
   "mimetype": "text/x-python",
   "name": "python",
   "nbconvert_exporter": "python",
   "pygments_lexer": "ipython3",
   "version": "3.8.3"
  }
 },
 "nbformat": 4,
 "nbformat_minor": 4
}
