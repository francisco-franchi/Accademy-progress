{
 "cells": [
  {
   "cell_type": "markdown",
   "metadata": {},
   "source": [
    "# Soluciones Ejercicios de Listas y Tuplas"
   ]
  },
  {
   "cell_type": "markdown",
   "metadata": {},
   "source": [
    "## Ejercicio 1"
   ]
  },
  {
   "cell_type": "markdown",
   "metadata": {},
   "source": [
    "Escribir un programa que almacene las asignaturas de un curso (por ejemplo Matemáticas, Física, Química, Historia y Lengua) en una lista y la muestre por pantalla."
   ]
  },
  {
   "cell_type": "code",
   "execution_count": 1,
   "metadata": {},
   "outputs": [
    {
     "name": "stdout",
     "output_type": "stream",
     "text": [
      "['Matemáticas', 'Física', 'Química', 'Historia', 'Lengua']\n"
     ]
    }
   ],
   "source": [
    "# Solución\n",
    "subjects = [\"Matemáticas\", \"Física\", \"Química\", \"Historia\", \"Lengua\"]\n",
    "print(subjects)"
   ]
  },
  {
   "cell_type": "code",
   "execution_count": 2,
   "metadata": {},
   "outputs": [
    {
     "name": "stdout",
     "output_type": "stream",
     "text": [
      "['Matemáticas', 'Fisica', 'Quimica', 'Lengua', 'Historia']\n"
     ]
    }
   ],
   "source": [
    "asignaturas = [\"Matemáticas\", \"Fisica\", \"Quimica\", \"Lengua\", \"Historia\"]\n",
    "print(asignaturas)"
   ]
  },
  {
   "cell_type": "markdown",
   "metadata": {},
   "source": [
    "## Ejercicio 2"
   ]
  },
  {
   "cell_type": "markdown",
   "metadata": {},
   "source": [
    "Escribir un programa que almacene las asignaturas de un curso (por ejemplo Matemáticas, Física, Química, Historia y Lengua) en una lista y la muestre por pantalla el mensaje <font color=#B40431>Yo estudio &#60;asignatura&#62;</font>, donde <font color=#B40431>&#60;asignatura&#62;</font> es cada una de las asignaturas de la lista."
   ]
  },
  {
   "cell_type": "code",
   "execution_count": 3,
   "metadata": {},
   "outputs": [
    {
     "name": "stdout",
     "output_type": "stream",
     "text": [
      "Yo estudio Matemáticas\n",
      "Yo estudio Física\n",
      "Yo estudio Química\n",
      "Yo estudio Historia\n",
      "Yo estudio Lengua\n"
     ]
    }
   ],
   "source": [
    "# Solución\n",
    "subjects = [\"Matemáticas\", \"Física\", \"Química\", \"Historia\", \"Lengua\"]\n",
    "for subject in subjects:\n",
    "    print(\"Yo estudio \" + subject)"
   ]
  },
  {
   "cell_type": "code",
   "execution_count": 4,
   "metadata": {},
   "outputs": [
    {
     "name": "stdout",
     "output_type": "stream",
     "text": [
      "Yo estudio Matemáticas\n",
      "Yo estudio Fisica\n",
      "Yo estudio Quimica\n",
      "Yo estudio Lengua\n",
      "Yo estudio Historia\n"
     ]
    }
   ],
   "source": [
    "asignaturas = [\"Matemáticas\", \"Fisica\", \"Quimica\", \"Lengua\", \"Historia\"]\n",
    "for i in range(0, len(asignaturas), 1):\n",
    "    print('Yo estudio', asignaturas[i])"
   ]
  },
  {
   "cell_type": "markdown",
   "metadata": {},
   "source": [
    "## Ejercicio 3"
   ]
  },
  {
   "cell_type": "markdown",
   "metadata": {},
   "source": [
    "Escribir un programa que almacene las asignaturas de un curso (por ejemplo Matemáticas, Física, Química, Historia y Lengua) en una lista, pregunte al usuario la nota que ha sacado en cada asignatura, y después las muestre por pantalla con el mensaje <font color=#B40431>En &#60;asignatura&#62; has sacado &#60;nota&#62;</font> donde <font color=#B40431>&#60;asignatura&#62;</font> es cada una de las asignaturas de la lista y <font color=#B40431>&#60;nota&#62;</font> cada una de las correspondientes notas introducidas por el usuario."
   ]
  },
  {
   "cell_type": "code",
   "execution_count": 9,
   "metadata": {},
   "outputs": [
    {
     "name": "stdout",
     "output_type": "stream",
     "text": [
      "¿Qué nota has sacado en Matemáticas?1\n",
      "¿Qué nota has sacado en Física?2\n",
      "¿Qué nota has sacado en Química?3\n",
      "¿Qué nota has sacado en Historia?4\n",
      "¿Qué nota has sacado en Lengua?5\n",
      "En Matemáticas has sacado 1\n",
      "En Física has sacado 2\n",
      "En Química has sacado 3\n",
      "En Historia has sacado 4\n",
      "En Lengua has sacado 5\n"
     ]
    }
   ],
   "source": [
    "# Solución\n",
    "subjects = [\"Matemáticas\", \"Física\", \"Química\", \"Historia\", \"Lengua\"]\n",
    "scores = []\n",
    "for subject in subjects:\n",
    "    score = input(\"¿Qué nota has sacado en \" + subject + \"?\")\n",
    "    scores.append(score)\n",
    "for i in range(len(subjects)):\n",
    "    print(\"En \" + subjects[i] + \" has sacado \" + scores[i])"
   ]
  },
  {
   "cell_type": "code",
   "execution_count": 10,
   "metadata": {},
   "outputs": [
    {
     "name": "stdout",
     "output_type": "stream",
     "text": [
      "Qué nota has sacado en Matemáticas ?\n",
      "10\n",
      "Qué nota has sacado en Fisica ?\n",
      "9\n",
      "Qué nota has sacado en Quimica ?\n",
      "8\n",
      "Qué nota has sacado en Lengua ?\n",
      "7\n",
      "Qué nota has sacado en Historia ?\n",
      "6\n",
      "En Matemáticas has sacado 10 \n",
      "\n",
      "En Fisica has sacado 9 \n",
      "\n",
      "En Quimica has sacado 8 \n",
      "\n",
      "En Lengua has sacado 7 \n",
      "\n",
      "En Historia has sacado 6 \n",
      "\n"
     ]
    }
   ],
   "source": [
    "listaAsignaturas = [\"Matemáticas\", \"Fisica\", \"Quimica\", \"Lengua\", \"Historia\"]\n",
    "listaNotas = []\n",
    "\n",
    "for i in range(0, len(listaAsignaturas), 1):\n",
    "    print('Qué nota has sacado en', listaAsignaturas[i], '?')\n",
    "    listaNotas.append(input())\n",
    "\n",
    "for i in range(0, len(listaAsignaturas), 1):\n",
    "    print('En', listaAsignaturas[i], 'has sacado', listaNotas[i], '\\n')"
   ]
  },
  {
   "cell_type": "markdown",
   "metadata": {},
   "source": [
    "## Ejercicio 4"
   ]
  },
  {
   "cell_type": "markdown",
   "metadata": {},
   "source": [
    "Escribir un programa que pregunte al usuario los números ganadores de la lotería primitiva, los almacene en una lista y los muestre por pantalla ordenados de menor a mayor."
   ]
  },
  {
   "cell_type": "code",
   "execution_count": null,
   "metadata": {},
   "outputs": [],
   "source": [
    "# Solución\n",
    "awarded = []\n",
    "for i in range(6):\n",
    "    awarded.append(int(input(\"Introduce un número ganador: \")))\n",
    "awarded.sort()\n",
    "print(\"Los números ganadores son \" + str(awarded))"
   ]
  },
  {
   "cell_type": "code",
   "execution_count": null,
   "metadata": {},
   "outputs": [],
   "source": [
    "listaGanadores = []\n",
    "for i in range(0, 9, 1):\n",
    "    nro = int(input('Ingrese un numero ganador de la loteria '))\n",
    "    listaGanadores.append(nro)\n",
    "\n",
    "listaGanadores.sort()\n",
    "print(listaGanadores)"
   ]
  },
  {
   "cell_type": "markdown",
   "metadata": {},
   "source": [
    "## Ejercicio 5"
   ]
  },
  {
   "cell_type": "markdown",
   "metadata": {},
   "source": [
    "Escribir un programa que almacene en una lista los números del 1 al 10 y los muestre por pantalla en orden inverso separados por comas."
   ]
  },
  {
   "cell_type": "code",
   "execution_count": null,
   "metadata": {},
   "outputs": [],
   "source": [
    "# Solución\n",
    "numbers = [1, 2, 3, 4, 5, 6, 7, 8, 9, 10]\n",
    "for i in range(1, 11):\n",
    "    print(numbers[-i], end=\", \")"
   ]
  },
  {
   "cell_type": "code",
   "execution_count": null,
   "metadata": {},
   "outputs": [],
   "source": [
    "listaNumeros = []\n",
    "for i in range (1, 11, 1):\n",
    "    listaNumeros.append(i)\n",
    "    \n",
    "listaNumeros.reverse()    \n",
    "print(listaNumeros)"
   ]
  },
  {
   "cell_type": "markdown",
   "metadata": {},
   "source": [
    "## Ejercicio 6"
   ]
  },
  {
   "cell_type": "markdown",
   "metadata": {},
   "source": [
    "Escribir un programa que almacene las asignaturas de un curso (por ejemplo Matemáticas, Física, Química, Historia y Lengua) en una lista, pregunte al usuario la nota que ha sacado en cada asignatura y elimine de la lista las asignaturas aprobadas. Al final el programa debe mostrar por pantalla las asignaturas que el usuario tiene que repetir."
   ]
  },
  {
   "cell_type": "code",
   "execution_count": null,
   "metadata": {},
   "outputs": [],
   "source": [
    "# Solución\n",
    "subjects = [\"Matemáticas\", \"Física\", \"Química\", \"Historia\", \"Lengua\"]\n",
    "passed = []\n",
    "for subject in subjects:\n",
    "    score = float(input(\"¿Qué nota has sacado en \" + subject + \"?\"))\n",
    "    if score >= 5:\n",
    "        passed.append(subject)\n",
    "for subject in passed:\n",
    "    subjects.remove(subject)\n",
    "print(\"Tienes que repetir \" + str(subjects))"
   ]
  },
  {
   "cell_type": "code",
   "execution_count": null,
   "metadata": {},
   "outputs": [],
   "source": [
    "listaAsignaturas = [\"Matemáticas\", \"Fisica\", \"Quimica\", \"Lengua\", \"Historia\"]\n",
    "listaAux = []\n",
    "\n",
    "for i in range(0, len(listaAsignaturas), 1):\n",
    "    print('Qué nota has sacado en', listaAsignaturas[i], '?')\n",
    "    nota = int(input())\n",
    "    listaAux.append(listaAsignaturas[i])\n",
    "    if nota >= 6:\n",
    "        listaAux.remove(listaAsignaturas[i])\n",
    "    \n",
    "for i in range(0, len(listaAux), 1):\n",
    "    print('Usted tiene que repetir la asignatura', listaAux[i])"
   ]
  },
  {
   "cell_type": "markdown",
   "metadata": {},
   "source": [
    "## Ejercicio 7"
   ]
  },
  {
   "cell_type": "markdown",
   "metadata": {},
   "source": [
    "Escribir un programa que almacene el abecedario en una lista, elimine de la lista las letras que ocupen posiciones múltiplos de 3, y muestre por pantalla la lista resultante."
   ]
  },
  {
   "cell_type": "code",
   "execution_count": null,
   "metadata": {},
   "outputs": [],
   "source": [
    "# Solución\n",
    "alphabet = ['a', 'b', 'c', 'd', 'e', 'f', 'g', 'h', 'i', 'j', 'k', 'l', 'm', 'n', 'ñ', 'o', 'p', 'q', 'r', 's', 't', 'u', 'v', 'w', 'x', 'y', 'z']\n",
    "for i in range(len(alphabet), 1, -1):\n",
    "    if i % 3 == 0:\n",
    "        alphabet.pop(i-1)\n",
    "print(alphabet)"
   ]
  },
  {
   "cell_type": "code",
   "execution_count": 1,
   "metadata": {},
   "outputs": [
    {
     "name": "stdout",
     "output_type": "stream",
     "text": [
      "['a', 'b', 'd', 'e', 'g', 'h', 'j', 'k', 'm', 'n', 'o', 'p', 'r', 's', 'u', 'v', 'x', 'y']\n"
     ]
    }
   ],
   "source": [
    "abecedario = ['a', 'b', 'c', 'd', 'e', 'f', 'g', 'h', 'i', 'j', 'k', 'l', 'm', 'n', 'ñ', 'o', 'p', 'q', 'r', 's', 't', 'u', 'v', 'w', 'x', 'y', 'z']\n",
    "for i in range(len(abecedario)-1, 1, -3):\n",
    "    abecedario.pop(i)\n",
    "\n",
    "print(abecedario)"
   ]
  },
  {
   "cell_type": "markdown",
   "metadata": {},
   "source": [
    "## Ejercicio 8"
   ]
  },
  {
   "cell_type": "markdown",
   "metadata": {},
   "source": [
    "Escribir un programa que pida al usuario una palabra y muestre por pantalla si es un palíndromo."
   ]
  },
  {
   "cell_type": "code",
   "execution_count": null,
   "metadata": {},
   "outputs": [],
   "source": [
    "# Solución\n",
    "word = input(\"Introduce una palabra: \")\n",
    "reversed_word = word\n",
    "word = list(word)\n",
    "reversed_word = list(reversed_word)\n",
    "reversed_word.reverse()\n",
    "if word == reversed_word:\n",
    "    print(\"Es un palíndromo\")\n",
    "else:\n",
    "    print(\"No es un palíndromo\")"
   ]
  },
  {
   "cell_type": "code",
   "execution_count": null,
   "metadata": {},
   "outputs": [],
   "source": [
    "palabra = str(input('Ingrese una palabra '))\n",
    "correcta = list(palabra)\n",
    "inversa = list(correcta)\n",
    "inversa.reverse()\n",
    "\n",
    "if correcta == inversa:\n",
    "    (print('La palabra', palabra, 'es un palindromo'))\n",
    "else:\n",
    "    (print('La palabra', palabra, 'no es un palindromo'))"
   ]
  },
  {
   "cell_type": "markdown",
   "metadata": {},
   "source": [
    "## Ejercicio 9"
   ]
  },
  {
   "cell_type": "markdown",
   "metadata": {},
   "source": [
    "Escribir un programa que pida al usuario una palabra y muestre por pantalla el número de veces que contiene cada vocal."
   ]
  },
  {
   "cell_type": "code",
   "execution_count": 8,
   "metadata": {},
   "outputs": [
    {
     "name": "stdout",
     "output_type": "stream",
     "text": [
      "Introduce una palabra: hola\n",
      "La vocal a aparece 1 veces\n",
      "La vocal e aparece 0 veces\n",
      "La vocal i aparece 0 veces\n",
      "La vocal o aparece 1 veces\n",
      "La vocal u aparece 0 veces\n"
     ]
    }
   ],
   "source": [
    "# Solución\n",
    "word = input(\"Introduce una palabra: \")\n",
    "vocals = ['a', 'e', 'i', 'o', 'u']\n",
    "for vocal in vocals: \n",
    "    times = 0\n",
    "    for letter in word: \n",
    "        if letter == vocal:\n",
    "            times += 1\n",
    "    print(\"La vocal \" + vocal + \" aparece \" + str(times) + \" veces\")"
   ]
  },
  {
   "cell_type": "code",
   "execution_count": null,
   "metadata": {},
   "outputs": [],
   "source": [
    "palabra = input('Ingrese una palabra ')\n",
    "vocales = ['a', 'e', 'i', 'o', 'u']\n",
    "for vocal in (vocales):\n",
    "    contador = 0\n",
    "    for letra in (palabra):\n",
    "        if letra == vocal:\n",
    "            contador += 1\n",
    "    print('La palabra', palabra, 'contiene', contador, 'veces la vocal', vocal)"
   ]
  },
  {
   "cell_type": "markdown",
   "metadata": {},
   "source": [
    "## Ejercicio 10"
   ]
  },
  {
   "cell_type": "markdown",
   "metadata": {},
   "source": [
    "Escribir un programa que almacene en una lista los siguientes precios, 50, 75, 46, 22, 80, 65, 8, y muestre por pantalla el menor y el mayor de los precios."
   ]
  },
  {
   "cell_type": "code",
   "execution_count": null,
   "metadata": {},
   "outputs": [],
   "source": [
    "# Solución\n",
    "prices = [50, 75, 46, 22, 80, 65, 8]\n",
    "min = max = prices[0]\n",
    "for price in prices:\n",
    "    if price < min:\n",
    "        min = price\n",
    "    elif price > max:\n",
    "        max = price \n",
    "print(\"El mínimo es \" + str(min)) \n",
    "print(\"El máximo es \" + str(max))"
   ]
  },
  {
   "cell_type": "code",
   "execution_count": null,
   "metadata": {},
   "outputs": [],
   "source": [
    "list = [50, 75, 46, 22, 80, 65, 8]\n",
    "\n",
    "print('El menor de los precios es', min(list), 'y el mayor de los precios es', max(list))"
   ]
  },
  {
   "cell_type": "markdown",
   "metadata": {},
   "source": [
    "## Ejercicio 11"
   ]
  },
  {
   "cell_type": "markdown",
   "metadata": {},
   "source": [
    "Escribir un programa que almacene los vectores (1,2,3) y (-1,0,2) en dos listas y muestre por pantalla su producto escalar."
   ]
  },
  {
   "cell_type": "code",
   "execution_count": 7,
   "metadata": {},
   "outputs": [
    {
     "name": "stdout",
     "output_type": "stream",
     "text": [
      "El producto de los vectores(1, 2, 3) y (-1, 0, 2) es 5\n"
     ]
    }
   ],
   "source": [
    "# Solución\n",
    "a = (1, 2, 3)\n",
    "b = (-1, 0, 2)\n",
    "product = 0\n",
    "for i in range(len(a)):\n",
    "    product += a[i]*b[i]\n",
    "print(\"El producto de los vectores\" + str(a) + \" y \" + str(b) + \" es \" + str(product)) "
   ]
  },
  {
   "cell_type": "code",
   "execution_count": null,
   "metadata": {},
   "outputs": [],
   "source": [
    "v1 = [1,2,3]\n",
    "v2 = [-1,0,2]\n",
    "prodEsc = 0\n",
    "\n",
    "for i in range(0, len(v1), 1):\n",
    "    prodEsc += v1[i] * v2[i]\n",
    "    \n",
    "print('El producto escalar entre', v1, 'y', v2, 'es', prodEsc)"
   ]
  },
  {
   "cell_type": "markdown",
   "metadata": {},
   "source": [
    "## Ejercicio 12"
   ]
  },
  {
   "cell_type": "markdown",
   "metadata": {},
   "source": [
    "Escribir un programa que almacene las matrices\n",
    "\n",
    "$A = \\left(\n",
    "\\begin{array}{rrr}\n",
    "1 & 2 & 3\\ \\\\\n",
    "4 & 5 & 6\n",
    "\\end{array}\n",
    "\\right)\n",
    "\\quad  y\n",
    "\\quad\n",
    "B = \\left(\n",
    "\\begin{array}{rr}\n",
    "-1 & 0\\ \\\\\n",
    "0 & 1\\ \\\\\n",
    "1 & 1\n",
    "\\end{array}\n",
    "\\right)\n",
    "$\n",
    "\n",
    "en una lista y muestre por pantalla su producto.\n",
    "Nota: Para representar matrices mediante listas usar listas anidadas, representando cada vector fila en una lista."
   ]
  },
  {
   "cell_type": "code",
   "execution_count": null,
   "metadata": {},
   "outputs": [],
   "source": [
    "# Solución\n",
    "a = ((1, 2, 3),\n",
    "     (4, 5, 6))\n",
    "b = ((-1, 0),\n",
    "     (0, 1),\n",
    "     (1,1))\n",
    "result = [[0,0],\n",
    "          [0,0]]\n",
    "for i in range(len(a)):\n",
    "    for j in range(len(b[0])):\n",
    "        for k in range(len(b)):\n",
    "            result[i][j] += a[i][k] * b[k][j]\n",
    "for i in range(len(result)):\n",
    "    result[i] = tuple(result[i])\n",
    "result = tuple(result)\n",
    "for i in range(len(result)):\n",
    "    print(result[i])"
   ]
  },
  {
   "cell_type": "code",
   "execution_count": null,
   "metadata": {},
   "outputs": [],
   "source": []
  },
  {
   "cell_type": "markdown",
   "metadata": {},
   "source": [
    "## Ejercicio 13"
   ]
  },
  {
   "cell_type": "markdown",
   "metadata": {},
   "source": [
    "Escribir un programa que pregunte por una muestra de números, separados por comas, los guarde en una lista y muestre por pantalla su media y desviación típica."
   ]
  },
  {
   "cell_type": "markdown",
   "metadata": {},
   "source": [
    "# Solución\n"
   ]
  },
  {
   "cell_type": "code",
   "execution_count": 6,
   "metadata": {},
   "outputs": [
    {
     "name": "stdout",
     "output_type": "stream",
     "text": [
      "Introduce una muestra de números separados por comas: 1,2,3\n",
      "La media es 2.0 , y la desviación típica es 0.8164965809277263\n"
     ]
    }
   ],
   "source": [
    "sample = input(\"Introduce una muestra de números separados por comas: \")\n",
    "sample = sample.split(',')\n",
    "n = len(sample)\n",
    "for i in range(n):\n",
    "    sample[i] = int(sample[i])\n",
    "sample = tuple(sample)\n",
    "sum = 0\n",
    "sumsq = 0\n",
    "for i in sample:\n",
    "    sum += i\n",
    "    sumsq += i**2\n",
    "mean = sum/n\n",
    "stdev = (sumsq/n-mean**2)**(1/2)\n",
    "print('La media es', mean, ', y la desviación típica es', stdev)"
   ]
  },
  {
   "cell_type": "code",
   "execution_count": null,
   "metadata": {},
   "outputs": [],
   "source": [
    "import math\n",
    "\n",
    "lista = input('Introduzca una muestra de numeros separados por coma ')\n",
    "lista = lista.split(',')\n",
    "n = len(lista)\n",
    "\n",
    "for i in range(0, n, 1):\n",
    "    lista[i] = int(lista[i])\n",
    "    \n",
    "sumatoria = sum(lista)\n",
    "media = sumatoria / n\n",
    "\n",
    "for i in range(0, n, 1):\n",
    "    lista[i] = (lista[i] - media)**2\n",
    "\n",
    "aux = lista\n",
    "desv = math.sqrt(sum(aux)/n)\n",
    "\n",
    "print(media)\n",
    "print(desv)"
   ]
  }
 ],
 "metadata": {
  "kernelspec": {
   "display_name": "Python 3",
   "language": "python",
   "name": "python3"
  },
  "language_info": {
   "codemirror_mode": {
    "name": "ipython",
    "version": 3
   },
   "file_extension": ".py",
   "mimetype": "text/x-python",
   "name": "python",
   "nbconvert_exporter": "python",
   "pygments_lexer": "ipython3",
   "version": "3.8.3"
  }
 },
 "nbformat": 4,
 "nbformat_minor": 2
}
