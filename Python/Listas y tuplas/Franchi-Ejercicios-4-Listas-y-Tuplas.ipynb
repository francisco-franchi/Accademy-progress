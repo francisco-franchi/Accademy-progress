{
 "cells": [
  {
   "cell_type": "markdown",
   "metadata": {},
   "source": [
    "# Ejercicios de Listas y Tuplas"
   ]
  },
  {
   "cell_type": "markdown",
   "metadata": {},
   "source": [
    "## Ejercicio 1"
   ]
  },
  {
   "cell_type": "markdown",
   "metadata": {},
   "source": [
    "Escribir un programa que almacene las asignaturas de un curso (por ejemplo Matemáticas, Física, Química, Historia y Lengua) en una lista y la muestre por pantalla."
   ]
  },
  {
   "cell_type": "code",
   "execution_count": 1,
   "metadata": {},
   "outputs": [
    {
     "name": "stdout",
     "output_type": "stream",
     "text": [
      "['Matemáticas', 'Fisica', 'Quimica', 'Lengua', 'Historia']\n"
     ]
    }
   ],
   "source": [
    "asignaturas = [\"Matemáticas\", \"Fisica\", \"Quimica\", \"Lengua\", \"Historia\"]\n",
    "print(asignaturas)"
   ]
  },
  {
   "cell_type": "markdown",
   "metadata": {},
   "source": [
    "## Ejercicio 2"
   ]
  },
  {
   "cell_type": "markdown",
   "metadata": {},
   "source": [
    "Escribir un programa que almacene las asignaturas de un curso (por ejemplo Matemáticas, Física, Química, Historia y Lengua) en una lista y la muestre por pantalla el mensaje <font color=#B40431>Yo estudio &#60;asignatura&#62;</font>, donde <font color=#B40431>&#60;asignatura&#62;</font> es cada una de las asignaturas de la lista."
   ]
  },
  {
   "cell_type": "code",
   "execution_count": 6,
   "metadata": {},
   "outputs": [
    {
     "name": "stdout",
     "output_type": "stream",
     "text": [
      "Yo estudio Matemáticas donde Matemáticas es una de las asignaturas de la lista\n",
      "Yo estudio Fisica donde Fisica es una de las asignaturas de la lista\n",
      "Yo estudio Quimica donde Quimica es una de las asignaturas de la lista\n",
      "Yo estudio Lengua donde Lengua es una de las asignaturas de la lista\n",
      "Yo estudio Historia donde Historia es una de las asignaturas de la lista\n"
     ]
    }
   ],
   "source": [
    "asignaturas = [\"Matemáticas\", \"Fisica\", \"Quimica\", \"Lengua\", \"Historia\"]\n",
    "\n",
    "for i in range(0, len(asignaturas), 1):\n",
    "    print('Yo estudio', asignaturas[i], 'donde', asignaturas[i], 'es una de las asignaturas de la lista')"
   ]
  },
  {
   "cell_type": "markdown",
   "metadata": {},
   "source": [
    "## Ejercicio 3"
   ]
  },
  {
   "cell_type": "markdown",
   "metadata": {},
   "source": [
    "Escribir un programa que almacene las asignaturas de un curso (por ejemplo Matemáticas, Física, Química, Historia y Lengua) en una lista, pregunte al usuario la nota que ha sacado en cada asignatura, y después las muestre por pantalla con el mensaje <font color=#B40431>En &#60;asignatura&#62; has sacado &#60;nota&#62;</font> donde <font color=#B40431>&#60;asignatura&#62;</font> es cada una de las asignaturas de la lista y <font color=#B40431>&#60;nota&#62;</font> cada una de las correspondientes notas introducidas por el usuario."
   ]
  },
  {
   "cell_type": "code",
   "execution_count": 5,
   "metadata": {},
   "outputs": [
    {
     "name": "stdout",
     "output_type": "stream",
     "text": [
      "Qué nota has sacado en Matemáticas ?\n",
      "10\n",
      "Qué nota has sacado en Fisica ?\n",
      "9\n",
      "Qué nota has sacado en Quimica ?\n",
      "8\n",
      "Qué nota has sacado en Lengua ?\n",
      "7\n",
      "Qué nota has sacado en Historia ?\n",
      "6\n",
      "En Matemáticas has sacado 10 \n",
      "\n",
      "En Fisica has sacado 9 \n",
      "\n",
      "En Quimica has sacado 8 \n",
      "\n",
      "En Lengua has sacado 7 \n",
      "\n",
      "En Historia has sacado 6 \n",
      "\n"
     ]
    }
   ],
   "source": [
    "listaAsignaturas = [\"Matemáticas\", \"Fisica\", \"Quimica\", \"Lengua\", \"Historia\"]\n",
    "listaNotas = []\n",
    "\n",
    "for i in range(0, len(listaAsignaturas), 1):\n",
    "    print('Qué nota has sacado en', listaAsignaturas[i], '?')\n",
    "    listaNotas.append(input())\n",
    "\n",
    "for i in range(0, len(listaAsignaturas), 1):\n",
    "    print('En', listaAsignaturas[i], 'has sacado', listaNotas[i], '\\n')"
   ]
  },
  {
   "cell_type": "markdown",
   "metadata": {},
   "source": [
    "## Ejercicio 4"
   ]
  },
  {
   "cell_type": "markdown",
   "metadata": {},
   "source": [
    "Escribir un programa que pregunte al usuario los números ganadores de la lotería primitiva, los almacene en una lista y los muestre por pantalla ordenados de menor a mayor."
   ]
  },
  {
   "cell_type": "code",
   "execution_count": 10,
   "metadata": {},
   "outputs": [
    {
     "name": "stdout",
     "output_type": "stream",
     "text": [
      "Ingrese un numero ganador de la loteria 10\n",
      "Ingrese un numero ganador de la loteria 9\n",
      "Ingrese un numero ganador de la loteria 8\n",
      "Ingrese un numero ganador de la loteria 7\n",
      "Ingrese un numero ganador de la loteria 6\n",
      "Ingrese un numero ganador de la loteria 5\n",
      "Ingrese un numero ganador de la loteria 4\n",
      "Ingrese un numero ganador de la loteria 3\n",
      "Ingrese un numero ganador de la loteria 2\n",
      "[2, 3, 4, 5, 6, 7, 8, 9, 10]\n"
     ]
    }
   ],
   "source": [
    "listaGanadores = []\n",
    "for i in range(0, 9, 1):\n",
    "    nro = int(input('Ingrese un numero ganador de la loteria '))\n",
    "    listaGanadores.append(nro)\n",
    "\n",
    "listaGanadores.sort()\n",
    "print(listaGanadores)"
   ]
  },
  {
   "cell_type": "markdown",
   "metadata": {},
   "source": [
    "# Ejercicio 5"
   ]
  },
  {
   "cell_type": "markdown",
   "metadata": {},
   "source": [
    "Escribir un programa que almacene en una lista los números del 1 al 10 y los muestre por pantalla en orden inverso separados por comas."
   ]
  },
  {
   "cell_type": "code",
   "execution_count": 45,
   "metadata": {},
   "outputs": [
    {
     "name": "stdout",
     "output_type": "stream",
     "text": [
      "[10, 9, 8, 7, 6, 5, 4, 3, 2, 1]\n"
     ]
    }
   ],
   "source": [
    "listaNumeros = []\n",
    "for i in range (1, 11, 1):\n",
    "    listaNumeros.append(i)\n",
    "    \n",
    "listaNumeros.reverse()    \n",
    "print(listaNumeros)\n",
    "    "
   ]
  },
  {
   "cell_type": "markdown",
   "metadata": {},
   "source": [
    "## Ejercicio 6"
   ]
  },
  {
   "cell_type": "markdown",
   "metadata": {},
   "source": [
    "Escribir un programa que almacene las asignaturas de un curso (por ejemplo Matemáticas, Física, Química, Historia y Lengua) en una lista, pregunte al usuario la nota que ha sacado en cada asignatura y elimine de la lista las asignaturas aprobadas. Al final el programa debe mostrar por pantalla las asignaturas que el usuario tiene que repetir."
   ]
  },
  {
   "cell_type": "code",
   "execution_count": 11,
   "metadata": {},
   "outputs": [
    {
     "name": "stdout",
     "output_type": "stream",
     "text": [
      "Qué nota has sacado en Matemáticas ?\n",
      "10\n",
      "Qué nota has sacado en Fisica ?\n",
      "9\n",
      "Qué nota has sacado en Quimica ?\n",
      "8\n",
      "Qué nota has sacado en Lengua ?\n",
      "7\n",
      "Qué nota has sacado en Historia ?\n",
      "5\n",
      "Usted tiene que repetir la asignatura Historia\n"
     ]
    }
   ],
   "source": [
    "listaAsignaturas = [\"Matemáticas\", \"Fisica\", \"Quimica\", \"Lengua\", \"Historia\"]\n",
    "listaAux = []\n",
    "\n",
    "for i in range(0, len(listaAsignaturas), 1):\n",
    "    print('Qué nota has sacado en', listaAsignaturas[i], '?')\n",
    "    nota = int(input())\n",
    "    listaAux.append(listaAsignaturas[i])\n",
    "    if nota >= 6:\n",
    "        listaAux.remove(listaAsignaturas[i])\n",
    "    \n",
    "for i in range(0, len(listaAux), 1):\n",
    "    print('Usted tiene que repetir la asignatura', listaAux[i])"
   ]
  },
  {
   "cell_type": "markdown",
   "metadata": {},
   "source": [
    "#### Ejercicio 7"
   ]
  },
  {
   "cell_type": "markdown",
   "metadata": {},
   "source": [
    "Escribir un programa que almacene el abecedario en una lista, elimine de la lista las letras que ocupen posiciones múltiplos de 3, y muestre por pantalla la lista resultante."
   ]
  },
  {
   "cell_type": "code",
   "execution_count": 37,
   "metadata": {},
   "outputs": [
    {
     "name": "stdout",
     "output_type": "stream",
     "text": [
      "['a', 'b', 'd', 'e', 'g', 'h', 'j', 'k', 'm', 'n', 'o', 'p', 'r', 's', 'u', 'v', 'x', 'y']\n"
     ]
    }
   ],
   "source": [
    "abecedario = ['a', 'b', 'c', 'd', 'e', 'f', 'g', 'h', 'i', 'j', 'k', 'l', 'm', 'n', 'ñ', 'o', 'p', 'q', 'r', 's', 't', 'u', 'v', 'w', 'x', 'y', 'z']\n",
    "for i in range(len(abecedario)-1, 1, -3):\n",
    "    abecedario.pop(i)\n",
    "\n",
    "print(abecedario)"
   ]
  },
  {
   "cell_type": "markdown",
   "metadata": {},
   "source": [
    "## Ejercicio 8"
   ]
  },
  {
   "cell_type": "markdown",
   "metadata": {},
   "source": [
    "Escribir un programa que pida al usuario una palabra y muestre por pantalla si es un palíndromo."
   ]
  },
  {
   "cell_type": "code",
   "execution_count": 15,
   "metadata": {},
   "outputs": [
    {
     "name": "stdout",
     "output_type": "stream",
     "text": [
      "Ingrese una palabra neuquen\n",
      "La palabra neuquen es un palindromo\n"
     ]
    }
   ],
   "source": [
    "palabra = str(input('Ingrese una palabra '))\n",
    "correcta = list(palabra)\n",
    "inversa = list(correcta)\n",
    "inversa.reverse()\n",
    "\n",
    "if correcta == inversa:\n",
    "    (print('La palabra', palabra, 'es un palindromo'))\n",
    "else:\n",
    "    (print('La palabra', palabra, 'no es un palindromo'))"
   ]
  },
  {
   "cell_type": "markdown",
   "metadata": {},
   "source": [
    "## Ejercicio 9"
   ]
  },
  {
   "cell_type": "markdown",
   "metadata": {},
   "source": [
    "Escribir un programa que pida al usuario una palabra y muestre por pantalla el número de veces que contiene cada vocal."
   ]
  },
  {
   "cell_type": "code",
   "execution_count": 143,
   "metadata": {},
   "outputs": [
    {
     "name": "stdout",
     "output_type": "stream",
     "text": [
      "Ingrese una palabra hola\n",
      "La palabra hola contiene 1 veces la vocal a\n",
      "La palabra hola contiene 0 veces la vocal e\n",
      "La palabra hola contiene 0 veces la vocal i\n",
      "La palabra hola contiene 1 veces la vocal o\n",
      "La palabra hola contiene 0 veces la vocal u\n"
     ]
    }
   ],
   "source": [
    "palabra = input('Ingrese una palabra ')\n",
    "vocales = ['a', 'e', 'i', 'o', 'u']\n",
    "for vocal in (vocales):\n",
    "    contador = 0\n",
    "    for letra in (palabra):\n",
    "        if letra == vocal:\n",
    "            contador += 1\n",
    "    print('La palabra', palabra, 'contiene', contador, 'veces la vocal', vocal)\n",
    "    "
   ]
  },
  {
   "cell_type": "markdown",
   "metadata": {},
   "source": [
    "## Ejercicio 10"
   ]
  },
  {
   "cell_type": "markdown",
   "metadata": {},
   "source": [
    "Escribir un programa que almacene en una lista los siguientes precios, 50, 75, 46, 22, 80, 65, 8, y muestre por pantalla el menor y el mayor de los precios."
   ]
  },
  {
   "cell_type": "code",
   "execution_count": 127,
   "metadata": {},
   "outputs": [
    {
     "name": "stdout",
     "output_type": "stream",
     "text": [
      "El menor de los precios es 8 y el mayor de los precios es 80\n"
     ]
    }
   ],
   "source": [
    "list = [50, 75, 46, 22, 80, 65, 8]\n",
    "\n",
    "print('El menor de los precios es', min(list), 'y el mayor de los precios es', max(list))"
   ]
  },
  {
   "cell_type": "markdown",
   "metadata": {},
   "source": [
    "## Ejercicio 11"
   ]
  },
  {
   "cell_type": "markdown",
   "metadata": {},
   "source": [
    "Escribir un programa que almacene los vectores (1,2,3) y (-1,0,2) en dos listas y muestre por pantalla su producto escalar."
   ]
  },
  {
   "cell_type": "code",
   "execution_count": 125,
   "metadata": {},
   "outputs": [
    {
     "name": "stdout",
     "output_type": "stream",
     "text": [
      "El producto escalar entre [1, 2, 3] y [-1, 0, 2] es 5\n"
     ]
    }
   ],
   "source": [
    "v1 = [1,2,3]\n",
    "v2 = [-1,0,2]\n",
    "prodEsc = 0\n",
    "\n",
    "for i in range(0, len(v1), 1):\n",
    "    prodEsc += v1[i] * v2[i]\n",
    "    \n",
    "print('El producto escalar entre', v1, 'y', v2, 'es', prodEsc)"
   ]
  },
  {
   "cell_type": "markdown",
   "metadata": {},
   "source": [
    "## Ejercicio 12"
   ]
  },
  {
   "cell_type": "markdown",
   "metadata": {},
   "source": [
    "Escribir un programa que almacene las matrices\n",
    "\n",
    "$A = \\left(\n",
    "\\begin{array}{rrr}\n",
    "1 & 2 & 3\\ \\\\\n",
    "4 & 5 & 6\n",
    "\\end{array}\n",
    "\\right)\n",
    "\\quad  y\n",
    "\\quad\n",
    "B = \\left(\n",
    "\\begin{array}{rr}\n",
    "-1 & 0\\ \\\\\n",
    "0 & 1\\ \\\\\n",
    "1 & 1\n",
    "\\end{array}\n",
    "\\right)\n",
    "$\n",
    "\n",
    "en una lista y muestre por pantalla su producto.\n",
    "Nota: Para representar matrices mediante listas usar listas anidadas, representando cada vector fila en una lista."
   ]
  },
  {
   "cell_type": "markdown",
   "metadata": {},
   "source": [
    "## Ejercicio 13"
   ]
  },
  {
   "cell_type": "markdown",
   "metadata": {},
   "source": [
    "Escribir un programa que pregunte por una muestra de números, separados por comas, los guarde en una lista y muestre por pantalla su media y desviación típica."
   ]
  },
  {
   "cell_type": "code",
   "execution_count": 117,
   "metadata": {},
   "outputs": [
    {
     "name": "stdout",
     "output_type": "stream",
     "text": [
      "Introduzca una muestra de numeros separados por coma 1,2,3\n",
      "2.0\n",
      "0.816496580927726\n"
     ]
    }
   ],
   "source": [
    "import math\n",
    "\n",
    "lista = input('Introduzca una muestra de numeros separados por coma ')\n",
    "lista = lista.split(',')\n",
    "n = len(lista)\n",
    "\n",
    "for i in range(0, n, 1):\n",
    "    lista[i] = int(lista[i])\n",
    "    \n",
    "sumatoria = sum(lista)\n",
    "media = sumatoria / n\n",
    "\n",
    "for i in range(0, n, 1):\n",
    "    lista[i] = (lista[i] - media)**2\n",
    "\n",
    "aux = lista\n",
    "desv = math.sqrt(sum(aux)/n)\n",
    "\n",
    "print(media)\n",
    "print(desv)"
   ]
  }
 ],
 "metadata": {
  "kernelspec": {
   "display_name": "Python 3",
   "language": "python",
   "name": "python3"
  },
  "language_info": {
   "codemirror_mode": {
    "name": "ipython",
    "version": 3
   },
   "file_extension": ".py",
   "mimetype": "text/x-python",
   "name": "python",
   "nbconvert_exporter": "python",
   "pygments_lexer": "ipython3",
   "version": "3.8.3"
  }
 },
 "nbformat": 4,
 "nbformat_minor": 2
}
