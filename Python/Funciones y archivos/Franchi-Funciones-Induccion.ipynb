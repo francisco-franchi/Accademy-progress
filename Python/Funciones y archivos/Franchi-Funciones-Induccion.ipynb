{
 "cells": [
  {
   "cell_type": "code",
   "execution_count": 3,
   "metadata": {},
   "outputs": [
    {
     "name": "stdout",
     "output_type": "stream",
     "text": [
      "Bienvenido a Python\n"
     ]
    }
   ],
   "source": [
    "def bienvenida():\n",
    "    print('Bienvenido a Python')\n",
    "    return\n",
    "\n",
    "bienvenida()"
   ]
  },
  {
   "cell_type": "code",
   "execution_count": 7,
   "metadata": {},
   "outputs": [
    {
     "data": {
      "text/plain": [
       "function"
      ]
     },
     "execution_count": 7,
     "metadata": {},
     "output_type": "execute_result"
    }
   ],
   "source": [
    "type(bienvenida)"
   ]
  },
  {
   "cell_type": "code",
   "execution_count": 8,
   "metadata": {},
   "outputs": [
    {
     "name": "stdout",
     "output_type": "stream",
     "text": [
      "Bienvenido a Python Francisco\n"
     ]
    }
   ],
   "source": [
    "def bienvenida(nombre):\n",
    "    print('Bienvenido a Python', nombre)\n",
    "    return\n",
    "\n",
    "bienvenida('Francisco')"
   ]
  },
  {
   "cell_type": "code",
   "execution_count": 9,
   "metadata": {},
   "outputs": [
    {
     "name": "stdout",
     "output_type": "stream",
     "text": [
      "Bienvenido a Python Francisco Franchi\n"
     ]
    }
   ],
   "source": [
    "def bienvenida(nombre, apellido):\n",
    "    print('Bienvenido a Python', nombre, apellido)\n",
    "    return\n",
    "\n",
    "bienvenida('Francisco', 'Franchi')"
   ]
  },
  {
   "cell_type": "code",
   "execution_count": 10,
   "metadata": {},
   "outputs": [
    {
     "name": "stdout",
     "output_type": "stream",
     "text": [
      "Bienvenido a Python Francisco Franchi\n"
     ]
    }
   ],
   "source": [
    "def bienvenida(nombre, apellido):\n",
    "    print('Bienvenido a Python', nombre, apellido)\n",
    "    return\n",
    "\n",
    "bienvenida(nombre = 'Francisco', apellido = 'Franchi')"
   ]
  },
  {
   "cell_type": "code",
   "execution_count": 11,
   "metadata": {},
   "outputs": [
    {
     "data": {
      "text/plain": [
       "300.0"
      ]
     },
     "execution_count": 11,
     "metadata": {},
     "output_type": "execute_result"
    }
   ],
   "source": [
    "def areaTriangulo(base, altura):\n",
    "    return (base*altura)/2\n",
    "\n",
    "areaTriangulo(30, 20)"
   ]
  },
  {
   "cell_type": "code",
   "execution_count": 13,
   "metadata": {},
   "outputs": [
    {
     "name": "stdout",
     "output_type": "stream",
     "text": [
      "Bienvenido a Python Francisco\n",
      "Bienvenido a C++ Francisco\n"
     ]
    }
   ],
   "source": [
    "def bienvenida(nombre, lenguaje = 'Python'):\n",
    "    print('Bienvenido a', lenguaje, nombre)\n",
    "    return\n",
    "\n",
    "bienvenida('Francisco')\n",
    "bienvenida('Francisco', 'C++')"
   ]
  },
  {
   "cell_type": "code",
   "execution_count": 1,
   "metadata": {},
   "outputs": [
    {
     "name": "stdout",
     "output_type": "stream",
     "text": [
      "Hoy tenemos para ofrecer los siguientes platos: asado, pastas, sushi, "
     ]
    }
   ],
   "source": [
    "def menu (*platos):\n",
    "    print('Hoy tenemos para ofrecer los siguientes platos: ', end = '')\n",
    "    for plato in platos:\n",
    "        print(plato, end = ', ')\n",
    "    return\n",
    "\n",
    "menu('asado', 'pastas', 'sushi')"
   ]
  },
  {
   "cell_type": "code",
   "execution_count": 3,
   "metadata": {},
   "outputs": [
    {
     "name": "stdout",
     "output_type": "stream",
     "text": [
      "Bienvenido a Wollok Francisco\n"
     ]
    },
    {
     "ename": "NameError",
     "evalue": "name 'lenguaje' is not defined",
     "output_type": "error",
     "traceback": [
      "\u001b[1;31m---------------------------------------------------------------------------\u001b[0m",
      "\u001b[1;31mNameError\u001b[0m                                 Traceback (most recent call last)",
      "\u001b[1;32m<ipython-input-3-8fd056adb9fb>\u001b[0m in \u001b[0;36m<module>\u001b[1;34m\u001b[0m\n\u001b[0;32m      4\u001b[0m     \u001b[1;32mreturn\u001b[0m\u001b[1;33m\u001b[0m\u001b[1;33m\u001b[0m\u001b[0m\n\u001b[0;32m      5\u001b[0m \u001b[0mbienvenida\u001b[0m\u001b[1;33m(\u001b[0m\u001b[1;34m'Francisco'\u001b[0m\u001b[1;33m)\u001b[0m\u001b[1;33m\u001b[0m\u001b[1;33m\u001b[0m\u001b[0m\n\u001b[1;32m----> 6\u001b[1;33m \u001b[0mlenguaje\u001b[0m\u001b[1;33m\u001b[0m\u001b[1;33m\u001b[0m\u001b[0m\n\u001b[0m",
      "\u001b[1;31mNameError\u001b[0m: name 'lenguaje' is not defined"
     ]
    }
   ],
   "source": [
    "def bienvenida(nombre):\n",
    "    lenguaje = 'Wollok'\n",
    "    print('Bienvenido a', lenguaje, nombre)\n",
    "    return\n",
    "bienvenida('Francisco')\n",
    "lenguaje"
   ]
  },
  {
   "cell_type": "code",
   "execution_count": 6,
   "metadata": {},
   "outputs": [
    {
     "name": "stdout",
     "output_type": "stream",
     "text": [
      "Bienvenido a Prolog Francisco\n",
      "Haskell\n"
     ]
    }
   ],
   "source": [
    "lenguaje = 'Haskell'\n",
    "def bienvenida(nombre):\n",
    "    lenguaje = 'Prolog'\n",
    "    print('Bienvenido a', lenguaje, nombre)\n",
    "    return\n",
    "\n",
    "bienvenida('Francisco')\n",
    "print(lenguaje)"
   ]
  },
  {
   "cell_type": "code",
   "execution_count": 8,
   "metadata": {},
   "outputs": [
    {
     "name": "stdout",
     "output_type": "stream",
     "text": [
      "['Programacion Funcional', 'Programacion orientada a objetos', 'Programacion lógica']\n"
     ]
    }
   ],
   "source": [
    "primerCurso = ['Programacion Funcional', 'Programacion orientada a objetos']\n",
    "def añadirAsignatura(curso, asignatura):\n",
    "    curso.append(asignatura)\n",
    "    return\n",
    "añadirAsignatura(primerCurso, 'Programacion lógica')\n",
    "print(primerCurso)"
   ]
  },
  {
   "cell_type": "code",
   "execution_count": 17,
   "metadata": {},
   "outputs": [
    {
     "name": "stdout",
     "output_type": "stream",
     "text": [
      "Help on function areaRectangulo in module __main__:\n",
      "\n",
      "areaRectangulo(base, altura)\n",
      "    Funcion que calcula el area de un rectangulo\n",
      "    Parámetros: -Base = la base del rectangulo\n",
      "                -Altura = la altura del rectangulo\n",
      "    Resultado: el área del rectangulo\n",
      "\n"
     ]
    }
   ],
   "source": [
    "def areaRectangulo(base, altura):\n",
    "    '''\n",
    "    Funcion que calcula el area de un rectangulo\n",
    "    Parámetros: -Base = la base del rectangulo\n",
    "                -Altura = la altura del rectangulo\n",
    "    Resultado: el área del rectangulo\n",
    "\n",
    "    '''\n",
    "\n",
    "    return base * altura\n",
    "\n",
    "help(areaRectangulo)"
   ]
  },
  {
   "cell_type": "code",
   "execution_count": 22,
   "metadata": {},
   "outputs": [
    {
     "data": {
      "text/plain": [
       "24"
      ]
     },
     "execution_count": 22,
     "metadata": {},
     "output_type": "execute_result"
    }
   ],
   "source": [
    "def factorial(n):\n",
    "    if n == 0:\n",
    "        return 1\n",
    "    else:\n",
    "        return n * factorial (n - 1)\n",
    "\n",
    "factorial(4)"
   ]
  },
  {
   "cell_type": "code",
   "execution_count": 38,
   "metadata": {},
   "outputs": [
    {
     "data": {
      "text/plain": [
       "8"
      ]
     },
     "execution_count": 38,
     "metadata": {},
     "output_type": "execute_result"
    }
   ],
   "source": [
    "def fibonacci(n):\n",
    "    if n <= 2:\n",
    "        return 1\n",
    "    else:\n",
    "        return (fibonacci(n - 1) + fibonacci(n - 2))\n",
    "\n",
    "fibonacci(6)"
   ]
  },
  {
   "cell_type": "code",
   "execution_count": 36,
   "metadata": {},
   "outputs": [
    {
     "data": {
      "text/plain": [
       "8"
      ]
     },
     "execution_count": 36,
     "metadata": {},
     "output_type": "execute_result"
    }
   ],
   "source": [
    "def fibonacci(n):\n",
    "    a, b = 0, 1\n",
    "    for i in range(n):\n",
    "        a, b = b, a + b\n",
    "    return a\n",
    "\n",
    "fibonacci(6)"
   ]
  }
 ],
 "metadata": {
  "kernelspec": {
   "display_name": "Python 3",
   "language": "python",
   "name": "python3"
  },
  "language_info": {
   "codemirror_mode": {
    "name": "ipython",
    "version": 3
   },
   "file_extension": ".py",
   "mimetype": "text/x-python",
   "name": "python",
   "nbconvert_exporter": "python",
   "pygments_lexer": "ipython3",
   "version": "3.8.3"
  }
 },
 "nbformat": 4,
 "nbformat_minor": 4
}
