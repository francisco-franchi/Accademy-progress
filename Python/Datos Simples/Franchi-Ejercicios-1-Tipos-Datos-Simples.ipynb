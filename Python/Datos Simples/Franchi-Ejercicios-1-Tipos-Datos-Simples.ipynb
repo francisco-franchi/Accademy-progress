{
 "cells": [
  {
   "cell_type": "markdown",
   "metadata": {},
   "source": [
    "# Ejercicios de Tipos de Datos Simples"
   ]
  },
  {
   "cell_type": "markdown",
   "metadata": {},
   "source": [
    "## Ejercicio 1"
   ]
  },
  {
   "cell_type": "markdown",
   "metadata": {},
   "source": [
    "Escribir un programa que muestre por pantalla la cadena <font color=#B40431>¡Hola Mundo!</font>"
   ]
  },
  {
   "cell_type": "code",
   "execution_count": null,
   "metadata": {},
   "outputs": [],
   "source": [
    "print('Hola mundo')"
   ]
  },
  {
   "cell_type": "markdown",
   "metadata": {},
   "source": [
    "## Ejercicio 2"
   ]
  },
  {
   "cell_type": "markdown",
   "metadata": {},
   "source": [
    "Escribir un programa que almacene la cadena <font color=#B40431>¡Hola Mundo!</font> en una variable y luego muestre por pantalla el contenido de la variable."
   ]
  },
  {
   "cell_type": "code",
   "execution_count": 3,
   "metadata": {},
   "outputs": [
    {
     "name": "stdout",
     "output_type": "stream",
     "text": [
      "Hola Mundo!\n"
     ]
    }
   ],
   "source": [
    "var = 'Hola Mundo!'\n",
    "print(var)"
   ]
  },
  {
   "cell_type": "markdown",
   "metadata": {},
   "source": [
    "## Ejercicio 3"
   ]
  },
  {
   "cell_type": "markdown",
   "metadata": {},
   "source": [
    "Escribir un programa que pregunte el nombre del usuario en la consola y después de que el usuario lo introduzca muestre por pantalla la cadena <font color=#B40431>¡Hola &#60;nombre&#62;!</font>, donde <font color=#B40431>&#60;nombre&#62;</font> es el nombre que el usuario haya introducido."
   ]
  },
  {
   "cell_type": "code",
   "execution_count": 7,
   "metadata": {},
   "outputs": [
    {
     "name": "stdout",
     "output_type": "stream",
     "text": [
      "¿Cual es tu nombre? Francisco\n",
      "¡Hola Francisco !\n"
     ]
    }
   ],
   "source": [
    "nombre = input('¿Cual es tu nombre? ')\n",
    "print('¡Hola', nombre,'!')"
   ]
  },
  {
   "cell_type": "markdown",
   "metadata": {},
   "source": [
    "## Ejercicio 4"
   ]
  },
  {
   "cell_type": "markdown",
   "metadata": {},
   "source": [
    "Escribir un programa que pregunte el nombre del usuario en la consola y un número entero e imprima por pantalla en líneas distintas el nombre del usuario tantas veces como el número introducido."
   ]
  },
  {
   "cell_type": "code",
   "execution_count": 19,
   "metadata": {},
   "outputs": [
    {
     "name": "stdout",
     "output_type": "stream",
     "text": [
      "¿Cual es tu nombre? Francisco\n",
      "Otorgue un número entero 9\n",
      "FranciscoFranciscoFranciscoFranciscoFranciscoFranciscoFranciscoFranciscoFrancisco\n"
     ]
    }
   ],
   "source": [
    "nombre = input('¿Cual es tu nombre? ')\n",
    "numero = input('Otorgue un número entero ')\n",
    "print((nombre) * int(numero))"
   ]
  },
  {
   "cell_type": "markdown",
   "metadata": {},
   "source": [
    "## Ejercicio 5"
   ]
  },
  {
   "cell_type": "markdown",
   "metadata": {},
   "source": [
    "Escribir un programa que pregunte el nombre del usuario en la consola y después de que el usuario lo introduzca muestre por pantalla <font color=#B40431>&#60;NOMBRE&#62; tiene &#60;n&#62; letras</font>, donde <font color=#B40431>&#60;NOMBRE&#62;</font> es el nombre de usuario en mayúsculas y <font color=#B40431>&#60;n&#62;</font> es el número de letras que tienen el nombre."
   ]
  },
  {
   "cell_type": "code",
   "execution_count": 10,
   "metadata": {},
   "outputs": [
    {
     "name": "stdout",
     "output_type": "stream",
     "text": [
      "¿Cual es tu nombre? Francisco\n",
      "Francisco tiene 9 letras\n"
     ]
    }
   ],
   "source": [
    "nombre = input('¿Cual es tu nombre? ')\n",
    "cantidad = len(nombre)\n",
    "print(nombre, 'tiene', cantidad, 'letras')"
   ]
  },
  {
   "cell_type": "markdown",
   "metadata": {},
   "source": [
    "## Ejercicio 6"
   ]
  },
  {
   "cell_type": "markdown",
   "metadata": {},
   "source": [
    "Escribir un programa que realice la siguiente operación aritmética $\\left(\\frac{3+2}{2\\cdot 5}\\right)^2$"
   ]
  },
  {
   "cell_type": "code",
   "execution_count": 13,
   "metadata": {},
   "outputs": [
    {
     "name": "stdout",
     "output_type": "stream",
     "text": [
      "4.0\n"
     ]
    }
   ],
   "source": [
    "operacion = ((3+2) / 2.5)**2\n",
    "print(operacion)"
   ]
  },
  {
   "cell_type": "markdown",
   "metadata": {},
   "source": [
    "## Ejercicio 7"
   ]
  },
  {
   "cell_type": "markdown",
   "metadata": {},
   "source": [
    "Escribir un programa que pregunte al usuario por el número de horas trabajadas y el costo por hora. Después debe mostrar por pantalla el sueldo que le corresponde."
   ]
  },
  {
   "cell_type": "code",
   "execution_count": 21,
   "metadata": {},
   "outputs": [
    {
     "name": "stdout",
     "output_type": "stream",
     "text": [
      "¿Cual es tu cantidad de horas trabajadas? 3\n",
      "¿Cual es el costo por hora? 4\n",
      "Tu sueldo correspondiente es 12\n"
     ]
    }
   ],
   "source": [
    "horas = input('¿Cual es tu cantidad de horas trabajadas? ')\n",
    "costo = input('¿Cual es el costo por hora? ')\n",
    "print('Tu sueldo correspondiente es', int(horas) * int(costo))"
   ]
  },
  {
   "cell_type": "markdown",
   "metadata": {},
   "source": [
    "## Ejercicio 8"
   ]
  },
  {
   "cell_type": "markdown",
   "metadata": {},
   "source": [
    "Escribir un programa que lea un entero positivo, $n$, introducido por el usuario y después muestre en pantalla la suma de todos los enteros desde 1 hasta $n$. La suma de los $n$ primeros enteros positivos puede ser calculada de la siguiente forma: $ \\mbox{suma} = \\frac{n(n+1)}{2} $"
   ]
  },
  {
   "cell_type": "code",
   "execution_count": 34,
   "metadata": {},
   "outputs": [
    {
     "name": "stdout",
     "output_type": "stream",
     "text": [
      "Escriba un numero entero positivo 3\n",
      "La suma de los 3 primeros enteros positivos desde 1 hasta 3 es 6\n"
     ]
    }
   ],
   "source": [
    "pos = input('Escriba un numero entero positivo ')\n",
    "suma = (int(pos)*(int(pos)+1)) / 2\n",
    "print('La suma de los',pos, 'primeros enteros positivos desde 1 hasta', int(pos), 'es', int(suma))"
   ]
  },
  {
   "cell_type": "markdown",
   "metadata": {},
   "source": [
    "## Ejercicio 9"
   ]
  },
  {
   "cell_type": "markdown",
   "metadata": {},
   "source": [
    "Escribir un programa que pida al usuario su peso (en kg) y estatura (en metros), calcule el índice de masa corporal y lo almacene en una variable, y muestre por pantalla la frase <font color=#B40431>\"Tu índice de masa corporal es\"&#60;imc&#62;</font> donde <font color=#B40431>&#60;imc&#62;</font> es el índice de masa corporal calculado redondeado con dos decimales."
   ]
  },
  {
   "cell_type": "code",
   "execution_count": 13,
   "metadata": {
    "scrolled": true
   },
   "outputs": [
    {
     "name": "stdout",
     "output_type": "stream",
     "text": [
      "Ingrese su peso(en kg.) 70\n",
      "Ingrese su estatura (en metros) 1.74\n"
     ]
    },
    {
     "data": {
      "text/plain": [
       "'Tu indice de masa corporal es 23.12'"
      ]
     },
     "execution_count": 13,
     "metadata": {},
     "output_type": "execute_result"
    }
   ],
   "source": [
    "peso = input('Ingrese su peso(en kg.) ')\n",
    "est = input('Ingrese su estatura (en metros) ')\n",
    "imc = int(peso)/(float(est))**2\n",
    "'Tu indice de masa corporal es {:4.2f}'.format(imc)"
   ]
  },
  {
   "cell_type": "markdown",
   "metadata": {},
   "source": [
    "## Ejercicio 10"
   ]
  },
  {
   "cell_type": "markdown",
   "metadata": {},
   "source": [
    "Escribir un programa que pida al usuario dos números enteros y muestre por pantalla la <font color=#B40431>&#60;n&#62;</font> entre <font color=#B40431>&#60;m&#62;</font> da un cociente <font color=#B40431>&#60;c&#62;</font> y un resto <font color=#B40431>&#60;r&#62;</font> donde <font color=#B40431>&#60;n&#62;</font> y <font color=#B40431>&#60;m&#62;</font> son los números introducidos por el usuario, y <font color=#B40431>&#60;c&#62;</font> y <font color=#B40431>&#60;r&#62;</font> son el cociente y el resto de la división entera respectivamente."
   ]
  },
  {
   "cell_type": "code",
   "execution_count": 15,
   "metadata": {},
   "outputs": [
    {
     "name": "stdout",
     "output_type": "stream",
     "text": [
      "Ingrese un númmero entero 4\n",
      "Ingrese otro númmero entero 3\n",
      "La division entre  4 y  3 da un cociente 1 donde 4 y 3 son los numeros introducidos por el usuario y 1 y 1 son el cociente y el resto de la division entera respectivamente\n"
     ]
    }
   ],
   "source": [
    "n = input('Ingrese un númmero entero ')\n",
    "m = input('Ingrese otro númmero entero ')\n",
    "c = int(n) // int(m)\n",
    "r = int(n) - int(m) * int(c)\n",
    "print('La division entre ', int(n),'y ', int(m), 'da un cociente', int(c), 'donde', int(n), 'y', int(m), 'son los numeros introducidos por el usuario y', int(c), 'y', int(r), 'son el cociente y el resto de la division entera respectivamente')"
   ]
  },
  {
   "cell_type": "markdown",
   "metadata": {},
   "source": [
    "## Ejercicio 11"
   ]
  },
  {
   "cell_type": "markdown",
   "metadata": {},
   "source": [
    "Escribir un programa que pregunte al usuario una cantidad a invertir, el interés anual y el número de años, y muestre por pantalla el capital obtenido en la inversión."
   ]
  },
  {
   "cell_type": "code",
   "execution_count": 22,
   "metadata": {},
   "outputs": [
    {
     "name": "stdout",
     "output_type": "stream",
     "text": [
      "Ingrese la cantidad a invertir 100\n",
      "Ingrese el interes anual 10\n",
      "Ingrese el numero de años 2\n",
      "El capital obtenido en la inversion es 121\n"
     ]
    }
   ],
   "source": [
    "cant = input('Ingrese la cantidad a invertir ')\n",
    "interes = input('Ingrese el interes anual ')\n",
    "anios = input('Ingrese el numero de años ')\n",
    "capital = (int(cant) * int(interes) / 100 + 1) ** int(anios) \n",
    "print('El capital obtenido en la inversion es', int(capital))"
   ]
  },
  {
   "cell_type": "markdown",
   "metadata": {},
   "source": [
    "## Ejercicio 12"
   ]
  },
  {
   "cell_type": "markdown",
   "metadata": {},
   "source": [
    "Una juguetería tiene mucho éxito en dos de sus productos: payasos y muñecas. Suele hacer venta por correo y la empresa de logística les cobra por peso de cada paquete así que deben calcular el peso de los payasos y muñecas que saldrán en cada paquete a demanda. Cada payaso pesa 112 g y cada muñeca 75 g. Escribir un programa que lea el número de payasos y muñecas vendidos en el último pedido y calcule el peso total del paquete que será enviado."
   ]
  },
  {
   "cell_type": "code",
   "execution_count": 20,
   "metadata": {},
   "outputs": [
    {
     "name": "stdout",
     "output_type": "stream",
     "text": [
      "Ingrese la cantidad de muñecas que saldran en el paquete 2\n",
      "Ingrese la cantidad de paysos que saldran en el paquete 3\n",
      "El peso total del paquete será 486\n"
     ]
    }
   ],
   "source": [
    "cant1 = input('Ingrese la cantidad de muñecas que saldran en el paquete ')\n",
    "cant2= input('Ingrese la cantidad de paysos que saldran en el paquete ')\n",
    "peso = int(cant1) * 75 + int(cant2) * 112\n",
    "print('El peso total del paquete será', peso)"
   ]
  },
  {
   "cell_type": "markdown",
   "metadata": {},
   "source": [
    "## Ejercicio 13"
   ]
  },
  {
   "cell_type": "markdown",
   "metadata": {},
   "source": [
    "Imagina que acabas de abrir una nueva cuenta de ahorros que te ofrece el 20 &#37; de interés al año. Estos ahorros debido a intereses, que no se cobran hasta finales de año, se te añaden al balance final de tu cuenta de ahorros. Escribir un programa que comience leyendo la cantidad de dinero depositada en la cuenta de ahorros, introducida por el usuario. Después el programa debe calcular y mostrar por pantalla la cantidad de ahorros tras el primer, segundo y tercer años. Redondear cada cantidad a dos decimales."
   ]
  },
  {
   "cell_type": "code",
   "execution_count": 32,
   "metadata": {},
   "outputs": [
    {
     "name": "stdout",
     "output_type": "stream",
     "text": [
      "Ingrese el deposito inicial en la cuenta 100\n",
      "La cantidad de ahorros tras el primer año es 104\n",
      "La cantidad de ahorros tras el segundo año es 108\n",
      "La cantidad de ahorros tras el tercer año es 112\n"
     ]
    }
   ],
   "source": [
    "deposito = input('Ingrese el deposito inicial en la cuenta ')\n",
    "interes = 0.04\n",
    "ahorros1 = int(deposito) * (1 + interes)\n",
    "ahorros2 = int(ahorros1) * (1 + interes)\n",
    "ahorros3 = int(ahorros2) * (1 + interes)\n",
    "ahorrosprimeranio = print('La cantidad de ahorros tras el primer año es', int(ahorros1))\n",
    "ahorrossegundoanio = print('La cantidad de ahorros tras el segundo año es', int(ahorros2))\n",
    "ahorrosterceranio = print('La cantidad de ahorros tras el tercer año es', int(ahorros3))"
   ]
  },
  {
   "cell_type": "markdown",
   "metadata": {},
   "source": [
    "## Ejercicio 14"
   ]
  },
  {
   "cell_type": "markdown",
   "metadata": {},
   "source": [
    "Una panadería vende tiras de pan a 50 \\$ cada una. El pan que no es el día tiene un descuento del 40 &#37; Escribir un programa que comience leyendo el número de tiras vendidas que no son del día. Después el programa debe mostrar el precio habitual de una tira de pan, el descuento que se le hace por no ser fresca y el costo final total."
   ]
  },
  {
   "cell_type": "code",
   "execution_count": 28,
   "metadata": {},
   "outputs": [
    {
     "name": "stdout",
     "output_type": "stream",
     "text": [
      "Ingrese el numero de tiras que no son frescas 10\n",
      "El precio total con el descuento del 0.4 % por no ser tiras del día es de $ 300.0\n"
     ]
    }
   ],
   "source": [
    "tiras = input('Ingrese el numero de tiras que no son frescas ')\n",
    "desc = 0.4\n",
    "preciotira = 50\n",
    "preciototal = (int(tiras) * preciotira) * (1 - desc)\n",
    "print('El precio total con el descuento del', desc, '% por no ser tiras del día es de $', preciototal,)"
   ]
  },
  {
   "cell_type": "code",
   "execution_count": null,
   "metadata": {},
   "outputs": [],
   "source": []
  }
 ],
 "metadata": {
  "celltoolbar": "Raw Cell Format",
  "kernelspec": {
   "display_name": "Python 3",
   "language": "python",
   "name": "python3"
  },
  "language_info": {
   "codemirror_mode": {
    "name": "ipython",
    "version": 3
   },
   "file_extension": ".py",
   "mimetype": "text/x-python",
   "name": "python",
   "nbconvert_exporter": "python",
   "pygments_lexer": "ipython3",
   "version": "3.8.3"
  }
 },
 "nbformat": 4,
 "nbformat_minor": 2
}
