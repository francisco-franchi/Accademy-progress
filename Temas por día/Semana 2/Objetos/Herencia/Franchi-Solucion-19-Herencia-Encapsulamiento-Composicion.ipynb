{
 "cells": [
  {
   "cell_type": "markdown",
   "metadata": {},
   "source": [
    "# Soluciones de Ejercicios de Herencia, Encapsulamiento y Composición"
   ]
  },
  {
   "cell_type": "markdown",
   "metadata": {},
   "source": [
    "Crear la clase Vehículo con 4 ruedas, una marca, un color, modelo y un número de patente (propiedades); así mismo todos los vehículos pueden acelerar, frenar y voltear a la izquierda o a la derecha. Para los métodos, simplemente defina en el cuerpo del método: \n",
    "print(f\"Soy {self.marca}, estoy <complete con una frase lo que hace el vehículo>\")"
   ]
  },
  {
   "cell_type": "code",
   "execution_count": null,
   "metadata": {},
   "outputs": [],
   "source": [
    "# Solución\n",
    "class Vehiculo:\n",
    "    \n",
    "    def __init__(self, marca, color, placa, modelo):\n",
    "        # Propiedades\n",
    "        self.numero_ruedas = 4\n",
    "        self.marca = marca\n",
    "        self.color = color\n",
    "        self.placa = placa\n",
    "        self.modelo = modelo\n",
    "        \n",
    "    def acelerar(self):\n",
    "        print(f\"Soy {self.marca}, estoy acelerando!!\")\n",
    "    \n",
    "    def frenar(self):\n",
    "        print(f\"Soy {self.marca}, estoy frenando!!\")\n",
    "    \n",
    "    def voltear(self, direccion):\n",
    "        print(f\"Soy {self.marca}, estoy volteando a la {direccion}\")\n",
    "    \n",
    "    def __str__(self):\n",
    "        \"\"\"Este método nos servirá para ver una representación en cadena del objeto\"\"\"\n",
    "        return self.marca"
   ]
  },
  {
   "cell_type": "code",
   "execution_count": null,
   "metadata": {},
   "outputs": [],
   "source": []
  },
  {
   "cell_type": "markdown",
   "metadata": {},
   "source": [
    "Cuando hayas implementado la clase Vehículo, deberías poder correr el siguiente código:"
   ]
  },
  {
   "cell_type": "code",
   "execution_count": null,
   "metadata": {},
   "outputs": [],
   "source": [
    "# Objetos vehiculo \n",
    "obj_mazda = Vehiculo('Mazda 6', 'Rojo', 'RED126', '2020')\n",
    "obj_renault = Vehiculo('Renault Logan', 'Negro', 'FRE009', '2021')\n",
    "obj_audi = Vehiculo('Audi Q3', 'Blanco', 'DPK312', '2016')\n",
    "\n",
    "# Miramos por consola cada objeto\n",
    "print(obj_mazda)\n",
    "print(obj_renault)\n",
    "print(obj_audi)\n",
    "\n",
    "# El Mazda 6, va a voltear a la izquierda\n",
    "obj_mazda.voltear('izquierda')\n",
    "\n",
    "# El Audi Q3, va a voltear a la derecha\n",
    "obj_audi.voltear('derecha')\n",
    "\n",
    "# El Renault Logan va a acelerar\n",
    "obj_renault.acelerar()"
   ]
  },
  {
   "cell_type": "markdown",
   "metadata": {},
   "source": [
    "Sigamos con el ejemplo de la clase **Vehiculo**, el color, marca y modelo son atributos que una motocicleta, un barco, un avión o una bicicleta también tienen. De hecho, acelerar, frenar y voltear son acciones que cualquier Vehículo puede realizar (bueno, un avión no puede frenar en el aire pero sí en el aterrizaje). Así, podemos modificar la clase Vehículo y tener en ella los atributos y métodos comunes de cualquier vehículo.\n",
    "La clase **Vehículo** es la clase padre, vamos a implementar la clase **Auto**. Fíjense que el atributo numero_ruedas inicializado en 4 es propio de la clase Auto, no debemos colocar este atributo en la clase padre ya que no todos los Vehiculos tienen 4 ruedas, Adicionalmente definir un método llamado **tocar_bocina()** muy propio de la clase **Auto**."
   ]
  },
  {
   "cell_type": "code",
   "execution_count": null,
   "metadata": {},
   "outputs": [],
   "source": [
    "# Solución\n",
    "class Vehiculo:\n",
    "    \n",
    "    def __init__(self, marca, color, placa, modelo):\n",
    "        self.marca = marca\n",
    "        self.color = color\n",
    "        self.placa = placa\n",
    "        self.modelo = modelo\n",
    "    \n",
    "    def acelerar(self):\n",
    "        print(f\"Soy {self.marca}, estoy acelerando!!\")\n",
    "    \n",
    "    def frenar(self):\n",
    "        print(f\"Soy {self.marca}, estoy frenando!!\")\n",
    "    \n",
    "    def voltear(self, direccion):\n",
    "        print(f\"Soy {self.marca}, estoy volteando a la {direccion}\")\n",
    "    \n",
    "    def __str__(self):\n",
    "        \"\"\"Este método nos servirá para ver una representación en cadena del objeto\"\"\"\n",
    "        return self.marca\n",
    "    \n",
    "class Auto (Vehiculo):\n",
    "    numero_llantas = 4\n",
    "\n",
    "    def tocar_bocina(self):\n",
    "        print(f\"Soy {self.marca}, y estoy tocando la bocina!!\")"
   ]
  },
  {
   "cell_type": "code",
   "execution_count": null,
   "metadata": {},
   "outputs": [],
   "source": []
  },
  {
   "cell_type": "markdown",
   "metadata": {},
   "source": [
    "Crear otras dos clases hijas de Vehiculo: Motocicleta y Avion, y heredar el comportamiento\n",
    "Una motocicleta tiene 2 ruedas y tiene el método **encender_con_patada**, y el Avion tiene 32 ruedas y tiene los métodos **sacar_ruedas** y **aterrizar**"
   ]
  },
  {
   "cell_type": "code",
   "execution_count": null,
   "metadata": {},
   "outputs": [],
   "source": [
    "# Solución\n",
    "class Vehiculo:\n",
    "    \n",
    "    def __init__(self, marca, color, placa, modelo):\n",
    "        self.marca = marca\n",
    "        self.color = color\n",
    "        self.placa = placa\n",
    "        self.modelo = modelo\n",
    "    \n",
    "    def acelerar(self):\n",
    "        print(f\"Soy {self.marca}, estoy acelerando!!\")\n",
    "    \n",
    "    def frenar(self):\n",
    "        print(f\"Soy {self.marca}, estoy frenando!!\")\n",
    "    \n",
    "    def voltear(self, direccion):\n",
    "        print(f\"Soy {self.marca}, estoy volteando a la {direccion}\")\n",
    "    \n",
    "    def __str__(self):\n",
    "        \"\"\"Este método nos servirá para ver una representación en cadena del objeto\"\"\"\n",
    "        return self.marca\n",
    "\n",
    "class Auto (Vehiculo):\n",
    "    numero_ruedas = 4\n",
    "\n",
    "    def tocar_claxon(self):\n",
    "        print(f\"Soy {self.marca}, y estoy tocando el claxon!!\")\n",
    "\n",
    "class Motocicleta (Vehiculo):\n",
    "    \n",
    "    numero_ruedas = 2\n",
    "\n",
    "    def encender_con_patada(self):\n",
    "        print(f\"Soy {self.marca} y estoy encendiendo con patada!!\")\n",
    "\n",
    "class Avion (Vehiculo):\n",
    "\n",
    "    numero_ruedas = 32\n",
    "    \n",
    "    def sacar_ruedas(self):\n",
    "        print(f\"Soy {self.marca} y estoy sacando las llantas!!\")\n",
    "\n",
    "    \n",
    "    def aterrizar(self):\n",
    "        print(f\"Soy {self.marca} y estoy aterrizando!!\")"
   ]
  },
  {
   "cell_type": "code",
   "execution_count": null,
   "metadata": {},
   "outputs": [],
   "source": []
  },
  {
   "cell_type": "markdown",
   "metadata": {},
   "source": [
    "Cuando hayas implementado la clase Vehículo, deberías poder correr el siguiente código:"
   ]
  },
  {
   "cell_type": "code",
   "execution_count": null,
   "metadata": {},
   "outputs": [],
   "source": [
    "# Creamos Objetos Auto\n",
    "obj_mazda = Auto('Mazda 6', 'Rojo', 'RED126', '2020')\n",
    "obj_renault = Auto('Renault Logan', 'Negro', 'FRE009', '2021')\n",
    "obj_audi = Auto('Audi Q3', 'Blanco', 'DPK312', '2016')\n",
    "\n",
    "# Creamos Objetos Motocicleta\n",
    "obj_honda = Motocicleta('Honda CB 500', 'Negro', 'XDR321', '2018')\n",
    "obj_yamaha = Motocicleta('Yamaha R10', 'Azul', 'GTR576', '2016')\n",
    "obj_suzuky = Motocicleta('Suzuky VStrom 650', 'Gris', 'RET841', '2020')\n",
    "\n",
    "# Creamos Objeto Avion\n",
    "obj_jet = Avion('Jet Privado', 'Blanco', 'G-DER4', '2014')\n",
    "\n",
    "# El Mazda 6, va a voltear a la izquierda\n",
    "obj_mazda.voltear('izquierda')\n",
    "\n",
    "# El Audi Q3, va a voltear a la derecha\n",
    "obj_audi.voltear('derecha')\n",
    "\n",
    "# El Renault Logan va a acelerar\n",
    "obj_renault.acelerar()\n",
    "\n",
    "# ---------------------------------------------------------------\n",
    "\n",
    "# La Honda va a encender con patada.\n",
    "obj_honda.encender_con_patada()\n",
    "\n",
    "# La Honda, va a voltear a la izquierda\n",
    "obj_honda.voltear('izquierda')\n",
    "\n",
    "# La Yamaha, va a voltear a la derecha\n",
    "obj_yamaha.voltear('derecha')\n",
    "\n",
    "# La Suzuky va a frenar\n",
    "obj_suzuky.frenar()\n",
    "\n",
    "# ----------------------------------------------\n",
    "\n",
    "# El Jet acelera\n",
    "obj_jet.acelerar()\n",
    "\n",
    "# El Jet voltea a la derecha\n",
    "obj_jet.voltear('derecha')\n",
    "\n",
    "# El Jet saca las llantas\n",
    "obj_jet.sacar_llantas()\n",
    "\n",
    "# Y aterriza.\n",
    "obj_jet.aterrizar()"
   ]
  },
  {
   "cell_type": "markdown",
   "metadata": {},
   "source": [
    "# Composición"
   ]
  },
  {
   "cell_type": "markdown",
   "metadata": {},
   "source": [
    "Si subiste a un Auto alguna vez sabés que dentro, existen otros objetos mas complejos, tiene una palanca de cambios, tiene cinturones de seguridad, tiene unos asientos, entre otros objetos. Cada objeto por sí mismo puede ser representado por una clase, para nuestro ejemplo implementaremos la clase **PalancaCambio**.\n",
    "La clase PalancaCambio tiene 3 atributos: numero_cambios el cual es 4 por defecto, color, el cual es ‘Negro’ por defecto y peso que es ‘50gr’ por defecto, e implementa dos métodos **subir_cambio** y **bajar_cambio**. "
   ]
  },
  {
   "cell_type": "code",
   "execution_count": null,
   "metadata": {},
   "outputs": [],
   "source": [
    "# Solución\n",
    "class PalancaCambio:\n",
    "    \n",
    "    # Suponemos que el carro arranca en Neutro (cambio 0 para nosotros)\n",
    "    cambio_actual = 0 \n",
    "\n",
    "    def __init__(self, numero_cambios = 4, color='Negro', peso='50gr'):\n",
    "        self.numero_cambios = numero_cambios\n",
    "        self.color = color\n",
    "        self.peso = peso\n",
    "\n",
    "    def subir_cambio(self):\n",
    "        self.cambio_actual = self.cambio_actual + 1\n",
    "        if (self.cambio_actual == self.numero_cambios):\n",
    "            print(\"No puedo subir mas cambios\")\n",
    "        print(f\"Palanca de cambio sube el cambio a {self.cambio_actual}\")\n",
    "    \n",
    "    def bajar_cambio(self):\n",
    "        self.cambio_actual = self.cambio_actual - 1\n",
    "        if (self.cambio_actual == 0):\n",
    "            print(\"No puedo bajar mas cambios\")\n",
    "        print(f\"Palanca de cambio baja el cambio a {self.cambio_actual}\")\n",
    "\n",
    "    def __str__(self):\n",
    "        return f\"Palanca de Cambio de {self.numero_cambios} velocidades\""
   ]
  },
  {
   "cell_type": "code",
   "execution_count": null,
   "metadata": {},
   "outputs": [],
   "source": []
  },
  {
   "cell_type": "code",
   "execution_count": null,
   "metadata": {},
   "outputs": [],
   "source": [
    "Ahora, por motivos del ejemplo supongamos que todos los vehículos deben contar con una palanca de cambios (un bote por ejemplo, es un ejemplo de un vehículo sin palanca de cambios). Teniendo esto en cuenta, decimos que todo vehículo tiene una palanca de cambios.\n",
    "La composición trata de una relación semántica entre una clase que “Tiene” y una clase que “Hace Parte”. En nuestro caso la clase Vehiculo “Tiene” un objeto PalancaCambio y a su vez, el objeto PalancaCambio “Hace Parte” de Vehiculo y semánticamente tiene sentido.\n",
    "Incorporar la palanca de cambios en Vehículo"
   ]
  },
  {
   "cell_type": "code",
   "execution_count": null,
   "metadata": {},
   "outputs": [],
   "source": [
    "#Solución\n",
    "\n",
    "class Vehiculo:\n",
    "    \n",
    "    def __init__(self, marca, color, placa, modelo):\n",
    "        self.marca = marca\n",
    "        self.color = color\n",
    "        self.placa = placa\n",
    "        self.modelo = modelo\n",
    "        # Todo Vehículo tiene una Palanca de Cambios\n",
    "        # y a su vez, toda Palanca de Cambios hace parte de un Vehículo\n",
    "        self.palanca_cambio = PalancaCambio() \n",
    "    \n",
    "    def acelerar(self):\n",
    "        print(f\"Soy {self.marca}, estoy acelerando!!\")\n",
    "    \n",
    "    def frenar(self):\n",
    "        print(f\"Soy {self.marca}, estoy frenando!!\")\n",
    "    \n",
    "    def voltear(self, direccion):\n",
    "        print(f\"Soy {self.marca}, estoy volteando a la {direccion}\")\n",
    "    \n",
    "    def __str__(self):\n",
    "        \"\"\"Este método nos servirá para ver una representación en cadena del objeto\"\"\"\n",
    "        return self.marca"
   ]
  },
  {
   "cell_type": "code",
   "execution_count": null,
   "metadata": {},
   "outputs": [],
   "source": []
  },
  {
   "cell_type": "markdown",
   "metadata": {},
   "source": [
    "Cuando hayas modificado la clase Vehículo."
   ]
  },
  {
   "cell_type": "code",
   "execution_count": null,
   "metadata": {},
   "outputs": [],
   "source": [
    "# Creamos el objeto carro, Mazda 6.\n",
    "obj_mazda = Carro('Mazda 6', 'Rojo', 'RED126', '2020')\n",
    "\n",
    "print(obj_mazda)\n",
    "\n",
    "# Establecemos a 8 el numero de cambios para este carro\n",
    "# y el peso de la palanca de cambios en 25gr\n",
    "obj_mazda.palanca_cambio.numero_cambios = 8\n",
    "obj_mazda.palanca_cambio.peso = '25gr'\n",
    "print(obj_mazda.palanca_cambio)\n",
    "\n",
    "# Subimos un cambio\n",
    "obj_mazda.palanca_cambio.subir_cambio()\n",
    "\n",
    "# ---------------------------------------------------------------\n",
    "\n",
    "# Creamos el objeto Motocicleta, Honda CB 500\n",
    "obj_honda = Motocicleta('Honda CB 500', 'Negro', 'XDR321', '2018')\n",
    "print(obj_honda)\n",
    "\n",
    "# Establecemos a 6 el numero de cambios para esta moto\n",
    "obj_honda.palanca_cambio.numero_cambios = 6\n",
    "print(obj_honda.palanca_cambio)\n",
    "\n",
    "# Subimos un cambio\n",
    "obj_honda.palanca_cambio.subir_cambio()"
   ]
  },
  {
   "cell_type": "markdown",
   "metadata": {},
   "source": [
    "# Encapsulamiento"
   ]
  },
  {
   "cell_type": "markdown",
   "metadata": {},
   "source": [
    "Este último concepto del paradigma de programación orientada a objetos, nos dice que una clase no debería poder modificar directamente los atributos de otra clase, sino que deberían haber métodos de acceso con los cuales podamos cambiar y obtener estos atributos (los famosos **getters** y **setters**). El siguiente código viola el principio de encapsulamiento."
   ]
  },
  {
   "cell_type": "code",
   "execution_count": null,
   "metadata": {},
   "outputs": [],
   "source": [
    "obj_mazda.palanca_cambio.numero_cambios = 8\n",
    "obj_mazda.palanca_cambio.peso = '25gr'\n",
    "obj_honda.palanca_cambio.numero_cambios = 6"
   ]
  },
  {
   "cell_type": "markdown",
   "metadata": {},
   "source": [
    "Debemos entender entonces que los atributos de una clase pueden presentar tres niveles de privacidad:\n",
    "\n",
    "**Públicos:** Todos los atributos que hemos implementado hasta ahora son públicos, simplemente creando un objeto de dicha clase y usando la sintaxis del punto, podemos acceder y modificar desde otra clase cualquier atributo.\n",
    "\n",
    "**Protegidos:** Establece que un atributo solo puede ser accedido y modificado por la clase en sí misma y sus clases hijas (si es que tiene), este concepto se relaciona con la Herencia. Para definir un atributo como protegido, debes declararlo con un “guion bajo”, todos los atributos de la clase Vehículo, deberían ser protegidos. Implemente esa característica."
   ]
  },
  {
   "cell_type": "code",
   "execution_count": null,
   "metadata": {},
   "outputs": [],
   "source": [
    "# Solución\n",
    "class Vehiculo:\n",
    "    \n",
    "    def __init__(self, marca, color, placa, modelo):\n",
    "        self._marca = marca\n",
    "        self._color = color\n",
    "        self._placa = placa\n",
    "        self._modelo = modelo\n",
    "    \n",
    "    def _acelerar(self):\n",
    "        print(f\"Soy {self.marca}, estoy acelerando!!\")\n",
    "    \n",
    "    def _frenar(self):\n",
    "        print(f\"Soy {self.marca}, estoy frenando!!\")\n",
    "    \n",
    "    def _voltear(self, direccion):\n",
    "        print(f\"Soy {self.marca}, estoy volteando a la {direccion}\")"
   ]
  },
  {
   "cell_type": "code",
   "execution_count": null,
   "metadata": {},
   "outputs": [],
   "source": []
  },
  {
   "cell_type": "code",
   "execution_count": null,
   "metadata": {},
   "outputs": [],
   "source": [
    "**Privados:** Establece que un atributo puede ser accedido únicamente desde la clase donde fue definido. En este sentido, los atributos propios de las clases hijas y los atributos de la clase PalancaCambios deberían ser privados y tener los correspondientes getters y setters para acceder a estos. Para que un atributo sea privado en Python, debemos anteponer “dobles guiones bajo”\n",
    "\n",
    "Implementar las correspondientes modificaciones a la clase **PalancaCambios**. Definir getters y setters, uno por cada atributo privado, de esta manera nos aseguramos de acceder a estos atributos por medio de estos métodos, que actuan como una especie de interface."
   ]
  },
  {
   "cell_type": "code",
   "execution_count": null,
   "metadata": {},
   "outputs": [],
   "source": [
    "## Solución\n",
    "class PalancaCambio:\n",
    "    \n",
    "    # Suponemos que el auto arranca en Neutro (cambio 0 para nosotros)\n",
    "    __cambio_actual = 0 \n",
    "\n",
    "    def __init__(self, numero_cambios = 4, color='Negro', peso='50gr'):\n",
    "        # Los atributos son ahora privados\n",
    "        self.__numero_cambios = numero_cambios\n",
    "        self.__color = color\n",
    "        self.__peso = peso\n",
    "    \n",
    "    # Getters y Setters\n",
    "    def get_numero_cambios(self):\n",
    "        return self.__numero_cambios\n",
    "    \n",
    "    def set_numero_cambios(self, numero_cambios):\n",
    "        self.__numero_cambios = numero_cambios\n",
    "\n",
    "    def get_color(self):\n",
    "        return self.__color\n",
    "    \n",
    "    def set_color(self, color):\n",
    "        self.__color = color\n",
    "\n",
    "    def get_peso(self):\n",
    "        return self.__peso\n",
    "    \n",
    "    def set_peso(self, peso):\n",
    "        self.__peso = peso\n",
    "    # Fin Getters y Setters\n",
    "    \n",
    "    def subir_cambio(self):\n",
    "        self.__cambio_actual = self.__cambio_actual + 1\n",
    "        if (self.__cambio_actual == self.__numero_cambios):\n",
    "            print(\"No puedo subir mas cambios\")\n",
    "        print(f\"Palanca de cambio sube el cambio a {self.__cambio_actual}\")\n",
    "    \n",
    "    def bajar_cambio(self):\n",
    "        self.__cambio_actual = self.__cambio_actual - 1\n",
    "        if (self.__cambio_actual == 0):\n",
    "            print(\"No puedo bajar mas cambios\")\n",
    "        print(f\"Palanca de cambio baja el cambio a {self.__cambio_actual}\")\n",
    "\n",
    "    def __str__(self):\n",
    "        return f\"Palanca de Cambio de {self.__numero_cambios} velocidades\""
   ]
  },
  {
   "cell_type": "code",
   "execution_count": null,
   "metadata": {},
   "outputs": [],
   "source": []
  },
  {
   "cell_type": "markdown",
   "metadata": {},
   "source": [
    "Modifique también las clases de la Herencia con getters y setters"
   ]
  },
  {
   "cell_type": "code",
   "execution_count": null,
   "metadata": {},
   "outputs": [],
   "source": [
    "# Solución\n",
    "class Auto (Vehiculo):\n",
    "\n",
    "    # Atributo privado\n",
    "    __numero_llantas = 4\n",
    "\n",
    "    def set_numero_llantas(self, numero_llantas):\n",
    "        self.__numero_llantas = numero_llantas\n",
    "\n",
    "    def get_numero_llantas(self):\n",
    "        return self.__numero_llantas\n",
    "        \n",
    "    def tocar_claxon(self):\n",
    "        print(f\"Soy {self._marca}, y estoy tocando el claxon!!\")\n",
    "\n",
    "class Motocicleta (Vehiculo):\n",
    "\n",
    "    # Atributo privado\n",
    "    __numero_llantas = 2\n",
    "\n",
    "    def set_numero_llantas(self, numero_llantas):\n",
    "        self.__numero_llantas = numero_llantas\n",
    "\n",
    "    def get_numero_llantas(self):\n",
    "        return self.__numero_llantas\n",
    "\n",
    "    def encender_con_patada(self):\n",
    "        print(f\"Soy {self._marca} y estoy encendiendo con patada!!\")\n",
    "\n",
    "class Avion (Vehiculo):\n",
    "\n",
    "    # Atributo privado\n",
    "    __numero_llantas = 32\n",
    "    \n",
    "    def set_numero_llantas(self, numero_llantas):\n",
    "        self.__numero_llantas = numero_llantas\n",
    "\n",
    "    def get_numero_llantas(self):\n",
    "        return self.__numero_llantas\n",
    "\n",
    "    def sacar_llantas(self):\n",
    "        print(f\"Soy {self._marca} y estoy sacando las llantas!!\")\n",
    "\n",
    "    \n",
    "    def aterrizar(self):\n",
    "        print(f\"Soy {self._marca} y estoy aterrizando!!\")"
   ]
  },
  {
   "cell_type": "code",
   "execution_count": null,
   "metadata": {},
   "outputs": [],
   "source": []
  },
  {
   "cell_type": "code",
   "execution_count": null,
   "metadata": {},
   "outputs": [],
   "source": [
    "Cuando hayas implementado los getters y setters, deberías poder correr el siguiente código:"
   ]
  },
  {
   "cell_type": "code",
   "execution_count": null,
   "metadata": {},
   "outputs": [],
   "source": [
    "# Creamos el objeto carro, Mazda 6.\n",
    "obj_mazda = Auto('Mazda 6', 'Rojo', 'RED126', '2020')\n",
    "\n",
    "print(obj_mazda)\n",
    "\n",
    "# Establecemos a 8 el numero de cambios para este carro\n",
    "# y el peso de la palanca de cambios en 25gr.\n",
    "\n",
    "# Usamos el metodo set_numero_cambios\n",
    "obj_mazda._palanca_cambio.set_numero_cambios(8) \n",
    "# Usamos el metodo set_peso\n",
    "obj_mazda._palanca_cambio.set_peso('25gr') \n",
    "print(obj_mazda._palanca_cambio)\n",
    "\n",
    "# Subimos un cambio\n",
    "obj_mazda._palanca_cambio.subir_cambio()\n",
    "\n",
    "# ---------------------------------------------------------------\n",
    "\n",
    "# Creamos el objeto Motocicleta, Honda CB 500\n",
    "obj_honda = Motocicleta('Honda CB 500', 'Negro', 'XDR321', '2018')\n",
    "print(obj_honda)\n",
    "\n",
    "# Usamos el metodo set_numero_cambios\n",
    "obj_honda._palanca_cambio.set_numero_cambios(6)\n",
    "print(obj_honda._palanca_cambio)\n",
    "\n",
    "# Subimos un cambio\n",
    "obj_honda._palanca_cambio.subir_cambio()"
   ]
  }
 ],
 "metadata": {
  "kernelspec": {
   "display_name": "Python 3",
   "language": "python",
   "name": "python3"
  },
  "language_info": {
   "codemirror_mode": {
    "name": "ipython",
    "version": 3
   },
   "file_extension": ".py",
   "mimetype": "text/x-python",
   "name": "python",
   "nbconvert_exporter": "python",
   "pygments_lexer": "ipython3",
   "version": "3.6.9"
  }
 },
 "nbformat": 4,
 "nbformat_minor": 2
}
