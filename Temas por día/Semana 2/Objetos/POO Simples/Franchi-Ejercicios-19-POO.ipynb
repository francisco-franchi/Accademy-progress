{
 "cells": [
  {
   "cell_type": "markdown",
   "metadata": {},
   "source": [
    "# Ejercicios de Programación Orientada a Objetos"
   ]
  },
  {
   "cell_type": "markdown",
   "metadata": {},
   "source": [
    "**Nota:** Los ejercicios son graduales, es decir, en cada ejercicio se van implementando mejoras a una (o varias) clase(s)."
   ]
  },
  {
   "cell_type": "markdown",
   "metadata": {},
   "source": [
    "## Ejercicio 1"
   ]
  },
  {
   "cell_type": "markdown",
   "metadata": {},
   "source": [
    "Crear una nueva clase llamada **NumeroComplejo**. Esta clase tiene un atributo **x** para la coordenada en x e **y** para la coordenada en y. Representar un número complejo de la forma (x, y)."
   ]
  },
  {
   "cell_type": "code",
   "execution_count": 2,
   "metadata": {},
   "outputs": [],
   "source": [
    "class NumeroComplejo:\n",
    "    def __init__(self, posX, posY):\n",
    "        self.x = posX\n",
    "        self.y = posY\n",
    "\n",
    "complejo1 = NumeroComplejo(2,3)"
   ]
  },
  {
   "cell_type": "markdown",
   "metadata": {},
   "source": [
    "## Ejercicio 2"
   ]
  },
  {
   "cell_type": "markdown",
   "metadata": {},
   "source": [
    "Definir para la clase **NumeroComplejo** un método que permita imprimir una instancia de la clase. Recordemos que al intentar imprimir un tipo definido por nosotros, se imprime la dirección de memoria"
   ]
  },
  {
   "cell_type": "code",
   "execution_count": 3,
   "metadata": {},
   "outputs": [
    {
     "output_type": "stream",
     "name": "stdout",
     "text": [
      "( 2 , 3 )\nNone\n"
     ]
    }
   ],
   "source": [
    "class NumeroComplejo:\n",
    "    def __init__(self, posX, posY):\n",
    "        self.x = posX\n",
    "        self.y = posY\n",
    "    \n",
    "    def imprimirInstancia(self):\n",
    "        print('(',self.x, ',', self.y, ')')\n",
    "\n",
    "complejo1 = NumeroComplejo(2,3)\n",
    "print(complejo1.imprimirInstancia())"
   ]
  },
  {
   "cell_type": "markdown",
   "metadata": {},
   "source": [
    "## Ejercicio 3"
   ]
  },
  {
   "cell_type": "markdown",
   "metadata": {},
   "source": [
    "Definir la función **__str__** para la clase **NumeroComplejo** para poder imprimir usando la función print."
   ]
  },
  {
   "cell_type": "code",
   "execution_count": 18,
   "metadata": {},
   "outputs": [
    {
     "output_type": "stream",
     "name": "stdout",
     "text": [
      "(2,3)\n"
     ]
    }
   ],
   "source": [
    "class NumeroComplejo:\n",
    "    def __init__(self, posX, posY):\n",
    "        self.x = posX\n",
    "        self.y = posY\n",
    "    \n",
    "    def imprimirInstancia(self):\n",
    "        print('(',self.x, ',', self.y, ')')\n",
    "\n",
    "    def __str__(self):\n",
    "        complejo = '(' + str(self.x) + \",\" + str(self.y) + ')'\n",
    "        return complejo\n",
    "\n",
    "complejo1 = NumeroComplejo(2,3)\n",
    "print(complejo1)"
   ]
  },
  {
   "cell_type": "markdown",
   "metadata": {},
   "source": [
    "## Ejercicio 4"
   ]
  },
  {
   "cell_type": "markdown",
   "metadata": {},
   "source": [
    "Definir una función que compara dos números complejos, ya que si dos objetos distintos tienen sus atributos iguales, no se consideran iguales.\n"
   ]
  },
  {
   "cell_type": "code",
   "execution_count": 36,
   "metadata": {},
   "outputs": [
    {
     "output_type": "stream",
     "name": "stdout",
     "text": [
      "Los complejos ingresados NO son iguales\nLos complejos ingresados NO son iguales\nLos complejos ingresados son iguales\n"
     ]
    }
   ],
   "source": [
    "class NumeroComplejo:\n",
    "    def __init__(self, posX, posY):\n",
    "        self.x = posX\n",
    "        self.y = posY\n",
    "    \n",
    "    def imprimirInstancia(self):\n",
    "        print('(',self.x, ',', self.y, ')')\n",
    "\n",
    "    def __str__(self):\n",
    "        complejo = '(' + str(self.x) + \",\" + str(self.y) + ')'\n",
    "        return complejo\n",
    "\n",
    "    def comparacion(self, other):\n",
    "        if (self.x == other.x and self.y == other.y):\n",
    "            return(print(\"Los complejos ingresados son iguales\"))\n",
    "        else:\n",
    "            return(print(\"Los complejos ingresados NO son iguales\"))\n",
    "\n",
    "complejo1 = NumeroComplejo(2,3)\n",
    "complejo2 = NumeroComplejo(3,4)\n",
    "complejo3 = NumeroComplejo(2,3)\n",
    "\n",
    "complejo1.comparacion(complejo2)\n",
    "complejo2.comparacion(complejo3)\n",
    "complejo1.comparacion(complejo3)"
   ]
  },
  {
   "cell_type": "markdown",
   "metadata": {},
   "source": [
    "## Ejercicio 5"
   ]
  },
  {
   "cell_type": "markdown",
   "metadata": {},
   "source": [
    "Implementar un método que sume dos numeros complejos sin modificiar los objetos originales, ya que se retorna un nuevo numero NumeroComplejo."
   ]
  },
  {
   "cell_type": "code",
   "execution_count": 35,
   "metadata": {},
   "outputs": [
    {
     "output_type": "stream",
     "name": "stdout",
     "text": [
      "(5,7)\n"
     ]
    }
   ],
   "source": [
    "class NumeroComplejo:\n",
    "    def __init__(self, posX, posY):\n",
    "        self.x = posX\n",
    "        self.y = posY\n",
    "    \n",
    "    def imprimirInstancia(self):\n",
    "        print('(',self.x, ',', self.y, ')')\n",
    "\n",
    "    def __str__(self):\n",
    "        complejo = '(' + str(self.x) + \",\" + str(self.y) + ')'\n",
    "        return complejo\n",
    "\n",
    "    def comparacion(self, other):\n",
    "        if (self.x == other.x and self.y == other.y):\n",
    "            return(print(\"Los complejos ingresados son iguales\"))\n",
    "        else:\n",
    "            return(print(\"Los complejos ingresados NO son iguales\"))\n",
    "\n",
    "    def __add__(self, other):\n",
    "        newPosX = self.x + other.x \n",
    "        newPosY = self.y + other.y\n",
    "        complejoSuma = NumeroComplejo(newPosX, newPosY) \n",
    "        print(complejoSuma)\n",
    "\n",
    "complejo1 = NumeroComplejo(2,3)\n",
    "complejo2 = NumeroComplejo(3,4)\n",
    "complejo1.__add__(complejo2)"
   ]
  },
  {
   "cell_type": "markdown",
   "metadata": {},
   "source": [
    "Ahora, vamos a implementar un objeto **Bus**, que lleva a un grupo de pasajeros y además tiene un chofer. Los pasajeros y el chofer son todos personas, por lo que primero crearemos una clase **Persona** para representarlos."
   ]
  },
  {
   "cell_type": "markdown",
   "metadata": {},
   "source": [
    "## Ejercicio 6"
   ]
  },
  {
   "cell_type": "markdown",
   "metadata": {},
   "source": [
    "Crea una clase **Persona**. Sus atributos deben ser su nombre y su edad. Además crea un método cumpleaños, que aumente en 1 la edad de la persona."
   ]
  },
  {
   "cell_type": "code",
   "execution_count": 44,
   "metadata": {},
   "outputs": [
    {
     "output_type": "stream",
     "name": "stdout",
     "text": [
      "(Francisco, 21)\n"
     ]
    }
   ],
   "source": [
    "class Persona:\n",
    "\n",
    "    def __init__(self, nombre, edad):\n",
    "        self.nombre = nombre\n",
    "        self.edad = edad\n",
    "    \n",
    "    def cumpleaños(self):\n",
    "        self.edad += 1\n",
    "\n",
    "    def __str__(self):\n",
    "        persona = '(' + str(self.nombre) + \", \" + str(self.edad) + ')'\n",
    "        return persona\n",
    "    \n",
    "persona1 = Persona(\"Francisco\", 20)\n",
    "persona1.cumpleaños()\n",
    "print(persona1)"
   ]
  },
  {
   "cell_type": "markdown",
   "metadata": {},
   "source": [
    "## Ejercicio 7"
   ]
  },
  {
   "cell_type": "markdown",
   "metadata": {},
   "source": [
    "Para la clase anterior definir el método __str__. Debe retornar al menos el nombre de la persona."
   ]
  },
  {
   "cell_type": "code",
   "execution_count": 6,
   "metadata": {},
   "outputs": [
    {
     "output_type": "stream",
     "name": "stdout",
     "text": [
      "(Francisco, 20)\n"
     ]
    }
   ],
   "source": [
    "class Persona:\n",
    "\n",
    "    def __init__(self, nombre, edad):\n",
    "        self.nombre = nombre\n",
    "        self.edad = edad\n",
    "    \n",
    "    def cumpleaños(self):\n",
    "        self.edad += 1\n",
    "\n",
    "    def __str__(self):\n",
    "        persona = '(' + str(self.nombre) + \", \" + str(self.edad) + ')'\n",
    "        return persona\n",
    "        \n",
    "persona1 = Persona(\"Francisco\", 20)\n",
    "print(persona1)"
   ]
  },
  {
   "cell_type": "markdown",
   "metadata": {},
   "source": [
    "## Ejercicio 8"
   ]
  },
  {
   "cell_type": "markdown",
   "metadata": {},
   "source": [
    "Extender la aplicación anterior con una clase **Bus**. Como atributo tiene un arreglo de pasajeros (inicialmente vacío), una capacidad (se ingresa en el constructor) y un chofer. Debes implementar el método ingresar_chofer(self, persona), que recibe una persona y queda como chofer del Bus si es mayor de 18 años. Cabe destacar que el chofer no se ingresa en el constructor."
   ]
  },
  {
   "cell_type": "code",
   "execution_count": 79,
   "metadata": {},
   "outputs": [
    {
     "output_type": "stream",
     "name": "stdout",
     "text": [
      "(Francisco, 20)\nLa persona ingresada no puede ser el chofer ya que es mayor de edad\n"
     ]
    }
   ],
   "source": [
    "class Persona:\n",
    "\n",
    "    def __init__(self, nombre, edad):\n",
    "        self.nombre = nombre\n",
    "        self.edad = edad\n",
    "    \n",
    "    def cumpleaños(self):\n",
    "        self.edad += 1\n",
    "\n",
    "    def __str__(self):\n",
    "        persona = '(' + str(self.nombre) + \", \" + str(self.edad) + ')'\n",
    "        return persona\n",
    "        \n",
    "class Bus:\n",
    "\n",
    "    chofer = 0\n",
    "\n",
    "    def __init__(self, pasajeros, capacidad):\n",
    "\n",
    "        self.pasajeros = pasajeros\n",
    "        self.capacidad = capacidad\n",
    "    \n",
    "    def ingresarChofer(self, persona):\n",
    "        if persona.edad > 18:\n",
    "            Bus.chofer = persona \n",
    "        else:\n",
    "            print(\"La persona ingresada no puede ser el chofer ya que es mayor de edad\")\n",
    "\n",
    "a1 = []\n",
    "persona1 = Persona(\"Francisco\", 20)\n",
    "persona2 = Persona(\"Rodrigo\", 17)\n",
    "bus1 = Bus(a1, 20)\n",
    "bus1.ingresarChofer(persona1)\n",
    "print(Bus.chofer)\n",
    "bus1.ingresarChofer(persona2)"
   ]
  },
  {
   "cell_type": "markdown",
   "metadata": {},
   "source": [
    "## Ejercicio 9"
   ]
  },
  {
   "cell_type": "markdown",
   "metadata": {},
   "source": [
    "Extender la clase **Bus** con el método **subir_pasajero(self, persona)**. Este método sube a la persona al bus (i.e. La agrega al arreglo de asientos) siempre que el número de pasajeros en el Bus sea menor que la capacidad total."
   ]
  },
  {
   "cell_type": "code",
   "execution_count": 77,
   "metadata": {},
   "outputs": [
    {
     "output_type": "stream",
     "name": "stdout",
     "text": [
      "[<__main__.Persona object at 0x0000021F79B28FA0>], 1\n"
     ]
    }
   ],
   "source": [
    "class Persona:\n",
    "\n",
    "    def __init__(self, nombre, edad):\n",
    "        self.nombre = nombre\n",
    "        self.edad = edad\n",
    "    \n",
    "    def cumpleaños(self):\n",
    "        self.edad += 1\n",
    "\n",
    "    def __str__(self):\n",
    "        persona = '(' + str(self.nombre) + \", \" + str(self.edad) + ')'\n",
    "        return persona\n",
    "        \n",
    "class Bus:\n",
    "\n",
    "    chofer = 0\n",
    "\n",
    "    def __init__(self, pasajeros, capacidad):\n",
    "\n",
    "        self.pasajeros = pasajeros\n",
    "        self.capacidad = capacidad\n",
    "    \n",
    "    def ingresarChofer(self, persona):\n",
    "        \n",
    "        if persona.edad > 18:\n",
    "            Bus.chofer = persona \n",
    "        else:\n",
    "            print(\"La persona ingresada no puede ser el chofer ya que es mayor de edad\")\n",
    "\n",
    "    def subirPasajeros(self,persona):\n",
    "\n",
    "        if self.capacidad > len(self.pasajeros):\n",
    "            self.pasajeros.append(persona)\n",
    "            self.capacidad -= 1\n",
    "        else:\n",
    "            print(\"El bus no puede subir más personas ya que está al máximo de su capacidad\")\n",
    "\n",
    "    def __str__(self):\n",
    "\n",
    "        bus = str(self.pasajeros) + \", \" + str(self.capacidad)\n",
    "        return bus\n",
    "\n",
    "persona1 = Persona(\"Francisco\", 20)\n",
    "bus1 = Bus([], 2)\n",
    "bus1.subirPasajeros(persona1)\n",
    "print(bus1)"
   ]
  }
 ],
 "metadata": {
  "kernelspec": {
   "name": "python3",
   "display_name": "Python 3.9.0 64-bit",
   "metadata": {
    "interpreter": {
     "hash": "2e3c1e8da6e821b0193601da5a0e541c0efda9704da45b6b820f5f4c317f2def"
    }
   }
  },
  "language_info": {
   "codemirror_mode": {
    "name": "ipython",
    "version": 3
   },
   "file_extension": ".py",
   "mimetype": "text/x-python",
   "name": "python",
   "nbconvert_exporter": "python",
   "pygments_lexer": "ipython3",
   "version": "3.9.0-final"
  }
 },
 "nbformat": 4,
 "nbformat_minor": 2
}