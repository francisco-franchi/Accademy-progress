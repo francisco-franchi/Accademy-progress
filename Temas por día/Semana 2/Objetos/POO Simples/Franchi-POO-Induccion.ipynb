{
 "metadata": {
  "language_info": {
   "codemirror_mode": {
    "name": "ipython",
    "version": 3
   },
   "file_extension": ".py",
   "mimetype": "text/x-python",
   "name": "python",
   "nbconvert_exporter": "python",
   "pygments_lexer": "ipython3",
   "version": "3.8.3-final"
  },
  "orig_nbformat": 2,
  "kernelspec": {
   "name": "python3",
   "display_name": "Python 3"
  }
 },
 "nbformat": 4,
 "nbformat_minor": 2,
 "cells": [
  {
   "cell_type": "code",
   "execution_count": 14,
   "metadata": {},
   "outputs": [],
   "source": [
    "#----------------------------------------------------PARTE 1----------------------------------------------------"
   ]
  },
  {
   "cell_type": "code",
   "execution_count": 15,
   "metadata": {},
   "outputs": [
    {
     "output_type": "stream",
     "name": "stdout",
     "text": [
      "<class 'str'>\n"
     ]
    }
   ],
   "source": [
    "lenguaje = 'Python'\n",
    "print(type(lenguaje))"
   ]
  },
  {
   "cell_type": "code",
   "execution_count": 16,
   "metadata": {},
   "outputs": [
    {
     "output_type": "stream",
     "name": "stdout",
     "text": [
      "<class 'function'>\n"
     ]
    }
   ],
   "source": [
    "def mitad(x):\n",
    "    return x/2\n",
    "print(type(mitad))"
   ]
  },
  {
   "cell_type": "code",
   "execution_count": 17,
   "metadata": {},
   "outputs": [
    {
     "output_type": "stream",
     "name": "stdout",
     "text": [
      "<class 'float'>\n"
     ]
    }
   ],
   "source": [
    "valor = mitad(25)\n",
    "print(type(valor))"
   ]
  },
  {
   "cell_type": "code",
   "execution_count": 18,
   "metadata": {},
   "outputs": [
    {
     "output_type": "stream",
     "name": "stdout",
     "text": [
      "<class 'module'>\n"
     ]
    }
   ],
   "source": [
    "import os\n",
    "print(type(os))"
   ]
  },
  {
   "cell_type": "code",
   "execution_count": 19,
   "metadata": {},
   "outputs": [
    {
     "output_type": "stream",
     "name": "stdout",
     "text": [
      "<class 'list'>\n"
     ]
    }
   ],
   "source": [
    "list = [1,2,3,4,5]\n",
    "print(type(list))"
   ]
  },
  {
   "cell_type": "code",
   "execution_count": 20,
   "metadata": {},
   "outputs": [
    {
     "output_type": "stream",
     "name": "stdout",
     "text": [
      "[1, 2, 3]\n"
     ]
    }
   ],
   "source": [
    "lista = [3,1,2]\n",
    "lista.append(4)\n",
    "lista.pop()\n",
    "lista.sort()\n",
    "print(lista)"
   ]
  },
  {
   "cell_type": "code",
   "execution_count": 21,
   "metadata": {},
   "outputs": [],
   "source": [
    "class Alumno:\n",
    "    'Clase para alumnos'\n",
    "    numAlumnos = 0\n",
    "    sumaNotas = 0\n",
    "\n",
    "    def __init__(self, nombre, nota):\n",
    "        self.nombre = nombre\n",
    "        self.nota = nota\n",
    "        Alumno.numAlumnos += 1\n",
    "        Alumno.sumaNotas += nota\n",
    "\n",
    "    def mostrarNombreNota(self):\n",
    "        return (self.nombre, self.nota)\n",
    "\n",
    "    def mostrarNumAlumnos(self):\n",
    "        return (Alumno.numAlumnos)\n",
    "    \n",
    "    def mostrarSumaNotas(self):\n",
    "        return (Alumno.sumaNotas)\n",
    "    \n",
    "    def mostrarNotaMedia(self):\n",
    "        if Alumno.numAlumnos > 0:\n",
    "            return (Alumno.sumaNotas / Alumno.numAlumnos)\n",
    "        else:\n",
    "            return(\"Sin Alumnos\")\n",
    "\n",
    "        "
   ]
  },
  {
   "cell_type": "code",
   "execution_count": 22,
   "metadata": {},
   "outputs": [
    {
     "output_type": "stream",
     "name": "stdout",
     "text": [
      "Fran\n9\n"
     ]
    }
   ],
   "source": [
    "alumno1 = Alumno(\"Fran\", 9)\n",
    "alumno2 = Alumno(\"Juan\", 10)\n",
    "\n",
    "print(alumno1.nombre)\n",
    "print(alumno1.nota)"
   ]
  },
  {
   "cell_type": "code",
   "execution_count": 23,
   "metadata": {},
   "outputs": [],
   "source": [
    "alumno2.nombre = \"Roberto\"\n"
   ]
  },
  {
   "cell_type": "code",
   "execution_count": 24,
   "metadata": {},
   "outputs": [
    {
     "output_type": "stream",
     "name": "stdout",
     "text": [
      "2\n19\n"
     ]
    }
   ],
   "source": [
    "print(Alumno.numAlumnos)\n",
    "print(Alumno.sumaNotas)"
   ]
  },
  {
   "cell_type": "code",
   "execution_count": 25,
   "metadata": {},
   "outputs": [
    {
     "output_type": "stream",
     "name": "stdout",
     "text": [
      "('Fran', 9)\n('Roberto', 10)\n"
     ]
    }
   ],
   "source": [
    "print(alumno1.mostrarNombreNota())\n",
    "print(alumno2.mostrarNombreNota())"
   ]
  },
  {
   "cell_type": "code",
   "execution_count": 26,
   "metadata": {},
   "outputs": [
    {
     "output_type": "error",
     "ename": "AttributeError",
     "evalue": "'Alumno' object has no attribute 'nombre'",
     "traceback": [
      "\u001b[1;31m---------------------------------------------------------------------------\u001b[0m",
      "\u001b[1;31mAttributeError\u001b[0m                            Traceback (most recent call last)",
      "\u001b[1;32m<ipython-input-26-11abc0c5e780>\u001b[0m in \u001b[0;36m<module>\u001b[1;34m\u001b[0m\n\u001b[0;32m      1\u001b[0m \u001b[1;32mdel\u001b[0m \u001b[0malumno1\u001b[0m\u001b[1;33m.\u001b[0m\u001b[0mnombre\u001b[0m\u001b[1;33m\u001b[0m\u001b[1;33m\u001b[0m\u001b[0m\n\u001b[1;32m----> 2\u001b[1;33m \u001b[0mprint\u001b[0m\u001b[1;33m(\u001b[0m\u001b[0malumno1\u001b[0m\u001b[1;33m.\u001b[0m\u001b[0mnombre\u001b[0m\u001b[1;33m)\u001b[0m\u001b[1;33m\u001b[0m\u001b[1;33m\u001b[0m\u001b[0m\n\u001b[0m\u001b[0;32m      3\u001b[0m \u001b[0mprint\u001b[0m\u001b[1;33m(\u001b[0m\u001b[0malumno1\u001b[0m\u001b[1;33m.\u001b[0m\u001b[0mmostrarNombreNota\u001b[0m\u001b[1;33m)\u001b[0m\u001b[1;33m\u001b[0m\u001b[1;33m\u001b[0m\u001b[0m\n",
      "\u001b[1;31mAttributeError\u001b[0m: 'Alumno' object has no attribute 'nombre'"
     ]
    }
   ],
   "source": [
    "del alumno1.nombre\n",
    "print(alumno1.nombre)\n",
    "print(alumno1.mostrarNombreNota)"
   ]
  },
  {
   "cell_type": "code",
   "execution_count": 26,
   "metadata": {},
   "outputs": [],
   "source": [
    "#----------------------------------------------------PARTE 2----------------------------------------------------"
   ]
  },
  {
   "cell_type": "code",
   "execution_count": 39,
   "metadata": {},
   "outputs": [
    {
     "output_type": "stream",
     "name": "stdout",
     "text": [
      "10\n0\n19\n"
     ]
    }
   ],
   "source": [
    "notaAlumno2 = getattr(alumno2, 'nota', 0)\n",
    "edadAlumno2 = getattr(alumno2, 'edad', 0)\n",
    "sumaDeNotas = getattr(Alumno, 'sumaNotas')\n",
    "print(notaAlumno2)\n",
    "print(edadAlumno2)\n",
    "print(sumaDeNotas)"
   ]
  },
  {
   "cell_type": "code",
   "execution_count": 58,
   "metadata": {},
   "outputs": [
    {
     "output_type": "stream",
     "name": "stdout",
     "text": [
      "El atributo edad no existe\n"
     ]
    }
   ],
   "source": [
    "if not hasattr(alumno2, 'edad'):\n",
    "    print('El atributo edad no existe') "
   ]
  },
  {
   "cell_type": "code",
   "execution_count": 17,
   "metadata": {},
   "outputs": [
    {
     "output_type": "stream",
     "name": "stdout",
     "text": [
      "20\n"
     ]
    }
   ],
   "source": [
    "alumno1 = Alumno(\"Fran\", 9)\n",
    "edadAlumno1 = setattr(alumno1, 'edad', 20)\n",
    "print(alumno1.edad)"
   ]
  },
  {
   "cell_type": "code",
   "execution_count": 18,
   "metadata": {},
   "outputs": [
    {
     "output_type": "error",
     "ename": "AttributeError",
     "evalue": "curso",
     "traceback": [
      "\u001b[1;31m---------------------------------------------------------------------------\u001b[0m",
      "\u001b[1;31mAttributeError\u001b[0m                            Traceback (most recent call last)",
      "\u001b[1;32m<ipython-input-18-9411fd11b8c0>\u001b[0m in \u001b[0;36m<module>\u001b[1;34m\u001b[0m\n\u001b[0;32m      1\u001b[0m \u001b[0mdelattr\u001b[0m\u001b[1;33m(\u001b[0m\u001b[0malumno1\u001b[0m\u001b[1;33m,\u001b[0m \u001b[1;34m'edad'\u001b[0m\u001b[1;33m)\u001b[0m\u001b[1;33m\u001b[0m\u001b[1;33m\u001b[0m\u001b[0m\n\u001b[1;32m----> 2\u001b[1;33m \u001b[0mdelattr\u001b[0m\u001b[1;33m(\u001b[0m\u001b[0malumno2\u001b[0m\u001b[1;33m,\u001b[0m \u001b[1;34m'curso'\u001b[0m\u001b[1;33m)\u001b[0m\u001b[1;33m\u001b[0m\u001b[1;33m\u001b[0m\u001b[0m\n\u001b[0m",
      "\u001b[1;31mAttributeError\u001b[0m: curso"
     ]
    }
   ],
   "source": [
    "delattr(alumno1, 'edad')\n",
    "delattr(alumno2, 'curso')"
   ]
  },
  {
   "cell_type": "code",
   "execution_count": 22,
   "metadata": {},
   "outputs": [
    {
     "output_type": "stream",
     "name": "stdout",
     "text": [
      "{'__module__': '__main__', '__doc__': 'Clase para alumnos', 'numAlumnos': 3, 'sumaNotas': 28, '__init__': <function Alumno.__init__ at 0x000001963AF17A60>, 'mostrarNombreNota': <function Alumno.mostrarNombreNota at 0x000001963AF17C10>, 'mostrarNumAlumnos': <function Alumno.mostrarNumAlumnos at 0x000001963AF17160>, 'mostrarSumaNotas': <function Alumno.mostrarSumaNotas at 0x000001963AF171F0>, 'mostrarNotaMedia': <function Alumno.mostrarNotaMedia at 0x000001963AF17310>, '__dict__': <attribute '__dict__' of 'Alumno' objects>, '__weakref__': <attribute '__weakref__' of 'Alumno' objects>}\n\n{'nombre': 'Fran', 'nota': 9}\n"
     ]
    }
   ],
   "source": [
    "print(Alumno.__dict__)\n",
    "print(\"\")\n",
    "print(alumno1.__dict__)"
   ]
  },
  {
   "cell_type": "code",
   "execution_count": 23,
   "metadata": {},
   "outputs": [
    {
     "output_type": "stream",
     "name": "stdout",
     "text": [
      "Alumno\n"
     ]
    }
   ],
   "source": [
    "print(Alumno.__name__)\n"
   ]
  },
  {
   "cell_type": "code",
   "execution_count": 24,
   "metadata": {},
   "outputs": [
    {
     "output_type": "stream",
     "name": "stdout",
     "text": [
      "Clase para alumnos\n"
     ]
    }
   ],
   "source": [
    "print(Alumno.__doc__)"
   ]
  },
  {
   "cell_type": "code",
   "execution_count": 27,
   "metadata": {},
   "outputs": [
    {
     "output_type": "stream",
     "name": "stdout",
     "text": [
      "__main__\n"
     ]
    }
   ],
   "source": [
    "print(Alumno.__module__)"
   ]
  },
  {
   "cell_type": "code",
   "execution_count": 26,
   "metadata": {},
   "outputs": [
    {
     "output_type": "stream",
     "name": "stdout",
     "text": [
      "datetime\n"
     ]
    }
   ],
   "source": [
    "from datetime import date\n",
    "print(date.__module__)"
   ]
  },
  {
   "cell_type": "code",
   "execution_count": 28,
   "metadata": {},
   "outputs": [
    {
     "output_type": "stream",
     "name": "stdout",
     "text": [
      "(<class 'object'>,)\n"
     ]
    }
   ],
   "source": [
    "print(Alumno.__bases__)"
   ]
  },
  {
   "cell_type": "code",
   "execution_count": 29,
   "metadata": {},
   "outputs": [
    {
     "output_type": "stream",
     "name": "stdout",
     "text": [
      "(<class '__main__.Alumno'>,)\n"
     ]
    }
   ],
   "source": [
    "class Becario(Alumno):\n",
    "    pass\n",
    "\n",
    "print(Becario.__bases__)"
   ]
  },
  {
   "cell_type": "code",
   "execution_count": 31,
   "metadata": {},
   "outputs": [
    {
     "output_type": "stream",
     "name": "stdout",
     "text": [
      "Hola, mi nombre es R2D2\n1744745585584\nSe han terminado mis baterias. Me voy a dormir.\n"
     ]
    }
   ],
   "source": [
    "class Robot:\n",
    "    def __init__ (self,nombre):\n",
    "        self.nombre = nombre\n",
    "\n",
    "    def saludo (self):\n",
    "        print(\"Hola, mi nombre es\", self.nombre)\n",
    "\n",
    "    def __del__ (self) :\n",
    "        print(\"Se han terminado mis baterias. Me voy a dormir.\")\n",
    "\n",
    "robot1 = Robot(\"R2D2\")\n",
    "robot1.saludo()\n",
    "print(id(robot1))\n",
    "del robot1"
   ]
  },
  {
   "cell_type": "code",
   "execution_count": 32,
   "metadata": {},
   "outputs": [
    {
     "output_type": "error",
     "ename": "NameError",
     "evalue": "name 'robot1' is not defined",
     "traceback": [
      "\u001b[1;31m---------------------------------------------------------------------------\u001b[0m",
      "\u001b[1;31mNameError\u001b[0m                                 Traceback (most recent call last)",
      "\u001b[1;32m<ipython-input-32-162bd6336a7c>\u001b[0m in \u001b[0;36m<module>\u001b[1;34m\u001b[0m\n\u001b[1;32m----> 1\u001b[1;33m \u001b[0mprint\u001b[0m\u001b[1;33m(\u001b[0m\u001b[0mid\u001b[0m\u001b[1;33m(\u001b[0m\u001b[0mrobot1\u001b[0m\u001b[1;33m)\u001b[0m\u001b[1;33m)\u001b[0m\u001b[1;33m\u001b[0m\u001b[1;33m\u001b[0m\u001b[0m\n\u001b[0m",
      "\u001b[1;31mNameError\u001b[0m: name 'robot1' is not defined"
     ]
    }
   ],
   "source": [
    "print(id(robot1))"
   ]
  },
  {
   "cell_type": "code",
   "execution_count": 29,
   "metadata": {},
   "outputs": [],
   "source": [
    "class Volumen :\n",
    "    def __init__(self):\n",
    "        self.nivel = 3\n",
    "\n",
    "        print('nivel', self.__class__.__name__, self.nivel)\n",
    "    \n",
    "    def subir(self):\n",
    "        self.nivel += 1\n",
    "        if self.nivel > 10:\n",
    "            self.nivel = 10\n",
    "        \n",
    "        print('nivel', self.__class__.__name__, self.nivel)\n",
    "\n",
    "    def bajar(self):\n",
    "        self.nivel -= 1\n",
    "        if self.nivel < 0:\n",
    "            self.nivel = 0\n",
    "\n",
    "        print('nivel', self.__class__.__name__, self.nivel)\n",
    "\n",
    "    def silenciar(self):\n",
    "        self.nivel = 0\n",
    "\n",
    "        print('nivel', self.__class__.__name__, self.nivel)\n",
    "\n",
    "class Graves(Volumen):\n",
    "    pass\n"
   ]
  },
  {
   "cell_type": "code",
   "execution_count": 92,
   "metadata": {},
   "outputs": [
    {
     "output_type": "stream",
     "name": "stdout",
     "text": [
      "nivel Volumen 3\n"
     ]
    }
   ],
   "source": [
    "ControlVolumen = Volumen()"
   ]
  },
  {
   "cell_type": "code",
   "execution_count": 93,
   "metadata": {},
   "outputs": [
    {
     "output_type": "stream",
     "name": "stdout",
     "text": [
      "nivel Volumen 4\nnivel Volumen 3\nnivel Volumen 0\n"
     ]
    }
   ],
   "source": [
    "ControlVolumen.subir()\n",
    "ControlVolumen.bajar()\n",
    "ControlVolumen.silenciar()"
   ]
  },
  {
   "cell_type": "code",
   "execution_count": 30,
   "metadata": {},
   "outputs": [
    {
     "output_type": "stream",
     "name": "stdout",
     "text": [
      "nivel Graves 3\nnivel Graves 4\n"
     ]
    }
   ],
   "source": [
    "ControlGraves = Graves()\n",
    "ControlGraves.subir()\n",
    "del ControlGraves"
   ]
  },
  {
   "cell_type": "code",
   "execution_count": 128,
   "metadata": {},
   "outputs": [
    {
     "output_type": "stream",
     "name": "stdout",
     "text": [
      "['__class__', '__del__', '__delattr__', '__dict__', '__dir__', '__doc__', '__eq__', '__format__', '__ge__', '__getattribute__', '__gt__', '__hash__', '__init__', '__init_subclass__', '__le__', '__lt__', '__module__', '__ne__', '__new__', '__reduce__', '__reduce_ex__', '__repr__', '__setattr__', '__sizeof__', '__str__', '__subclasshook__', '__weakref__', 'colgar', 'fotografiar', 'reproducirVideo', 'reproducirmp3', 'telefonear']\nReproduciendo MP3\nLlamando\nFotografiando\nMovil apagado\n"
     ]
    }
   ],
   "source": [
    "class Telefono:\n",
    "\n",
    "    def __init__(self):\n",
    "        pass\n",
    "    \n",
    "    def telefonear(self):\n",
    "        print(\"Llamando\")\n",
    "\n",
    "    def colgar(self):\n",
    "        print(\"Colgando\")\n",
    "\n",
    "\n",
    "class Camara:\n",
    "    \n",
    "    def __init__(self):\n",
    "        pass\n",
    "\n",
    "    def fotografiar(self):\n",
    "        print(\"Fotografiando\")\n",
    "\n",
    "\n",
    "class Reproductor:\n",
    "\n",
    "    def __init__(self):\n",
    "        pass\n",
    "\n",
    "    def reproducirmp3(self):\n",
    "        print(\"Reproduciendo MP3\")\n",
    "    \n",
    "    def reproducirVideo(self):\n",
    "        print(\"Reproduciendo video\")\n",
    "\n",
    "\n",
    "class Movil(Telefono, Camara, Reproductor):\n",
    "\n",
    "    def __del__(self):\n",
    "        print(\"Movil apagado\")\n",
    "\n",
    "movil1 = Movil()\n",
    "print(dir(movil1))\n",
    "movil1.reproducirmp3()\n",
    "movil1.telefonear()\n",
    "movil1.fotografiar()\n",
    "del movil1"
   ]
  },
  {
   "cell_type": "code",
   "execution_count": 145,
   "metadata": {},
   "outputs": [
    {
     "output_type": "stream",
     "name": "stdout",
     "text": [
      "True\nTrue\nTrue\nTrue\n"
     ]
    }
   ],
   "source": [
    "movil1 = Movil()\n",
    "print(issubclass(Movil, Telefono))\n",
    "print(issubclass(Movil, Reproductor))\n",
    "print(isinstance(movil1, Movil))\n",
    "print(isinstance(movil1, Camara))\n"
   ]
  },
  {
   "cell_type": "code",
   "execution_count": 31,
   "metadata": {},
   "outputs": [],
   "source": [
    "#----------------------------------------------------PARTE 3----------------------------------------------------"
   ]
  },
  {
   "cell_type": "code",
   "execution_count": 33,
   "metadata": {},
   "outputs": [
    {
     "output_type": "stream",
     "name": "stdout",
     "text": [
      "Movil encendido\nReproduciendo lista mp3\nMovil apagado\n"
     ]
    }
   ],
   "source": [
    "class Telefono:\n",
    "\n",
    "    def __init__(self):\n",
    "        pass\n",
    "    \n",
    "    def telefonear(self):\n",
    "        print(\"Llamando\")\n",
    "\n",
    "    def colgar(self):\n",
    "        print(\"Colgando\")\n",
    "\n",
    "\n",
    "class Camara:\n",
    "    \n",
    "    def __init__(self):\n",
    "        pass\n",
    "\n",
    "    def fotografiar(self):\n",
    "        print(\"Fotografiando\")\n",
    "\n",
    "\n",
    "class Reproductor:\n",
    "\n",
    "    def __init__(self):\n",
    "        pass\n",
    "\n",
    "    def reproducirmp3(self):\n",
    "        print(\"Reproduciendo MP3\")\n",
    "    \n",
    "    def reproducirVideo(self):\n",
    "        print(\"Reproduciendo video\")\n",
    "\n",
    "\n",
    "class Movil(Telefono, Camara, Reproductor):\n",
    "    \n",
    "    def __init__(self):\n",
    "        print('Movil encendido')\n",
    "\n",
    "    def reproducirmp3(self):\n",
    "        print('Reproduciendo lista mp3')\n",
    "\n",
    "    def __del__(self):\n",
    "        print('Movil apagado')\n",
    "\n",
    "movil3 = Movil()\n",
    "movil3.reproducirmp3()\n",
    "del movil3"
   ]
  },
  {
   "cell_type": "code",
   "execution_count": 37,
   "metadata": {},
   "outputs": [
    {
     "output_type": "stream",
     "name": "stdout",
     "text": [
      "(5, 4)\n"
     ]
    }
   ],
   "source": [
    "class Punto:\n",
    "    def __init__(self, x = 0, y = 0):\n",
    "        self.x = x\n",
    "        self.y = y\n",
    "\n",
    "    def __add__(self, other):\n",
    "        x = self.x + other.x\n",
    "        y = self.y + other.y\n",
    "        return x, y\n",
    "\n",
    "punto1 = Punto(4, 6)\n",
    "punto2 = Punto(1, -2)\n",
    "\n",
    "print(punto1 + punto2)\n"
   ]
  },
  {
   "cell_type": "code",
   "execution_count": 35,
   "metadata": {},
   "outputs": [
    {
     "output_type": "stream",
     "name": "stdout",
     "text": [
      "12\n110\n1570.8 Euros\n"
     ]
    },
    {
     "output_type": "error",
     "ename": "AttributeError",
     "evalue": "type object 'Factura' has no attribute '__tasa'",
     "traceback": [
      "\u001b[1;31m---------------------------------------------------------------------------\u001b[0m",
      "\u001b[1;31mAttributeError\u001b[0m                            Traceback (most recent call last)",
      "\u001b[1;32m<ipython-input-35-2a53c1260daa>\u001b[0m in \u001b[0;36m<module>\u001b[1;34m\u001b[0m\n\u001b[0;32m     15\u001b[0m \u001b[0mprint\u001b[0m\u001b[1;33m(\u001b[0m\u001b[0mcompra1\u001b[0m\u001b[1;33m.\u001b[0m\u001b[0mprecio\u001b[0m\u001b[1;33m)\u001b[0m\u001b[1;33m\u001b[0m\u001b[1;33m\u001b[0m\u001b[0m\n\u001b[0;32m     16\u001b[0m \u001b[0mprint\u001b[0m\u001b[1;33m(\u001b[0m\u001b[0mcompra1\u001b[0m\u001b[1;33m.\u001b[0m\u001b[0maPagar\u001b[0m\u001b[1;33m(\u001b[0m\u001b[1;33m)\u001b[0m\u001b[1;33m,\u001b[0m \u001b[1;34m\"Euros\"\u001b[0m\u001b[1;33m)\u001b[0m\u001b[1;33m\u001b[0m\u001b[1;33m\u001b[0m\u001b[0m\n\u001b[1;32m---> 17\u001b[1;33m \u001b[0mprint\u001b[0m\u001b[1;33m(\u001b[0m\u001b[0mFactura\u001b[0m\u001b[1;33m.\u001b[0m\u001b[0m__tasa\u001b[0m\u001b[1;33m)\u001b[0m\u001b[1;33m\u001b[0m\u001b[1;33m\u001b[0m\u001b[0m\n\u001b[0m",
      "\u001b[1;31mAttributeError\u001b[0m: type object 'Factura' has no attribute '__tasa'"
     ]
    }
   ],
   "source": [
    "class Factura:\n",
    "    __tasa = 19\n",
    "\n",
    "    def __init__(self, unidad, precio):\n",
    "        self.unidad = unidad\n",
    "        self.precio = precio\n",
    "    \n",
    "    def aPagar(self):\n",
    "        total = self.unidad * self.precio  \n",
    "        impuesto = total * (Factura.__tasa / 100)\n",
    "        return (total + impuesto)\n",
    "\n",
    "compra1 = Factura(12, 110)\n",
    "print(compra1.unidad)\n",
    "print(compra1.precio)\n",
    "print(compra1.aPagar(), \"Euros\")\n",
    "print(Factura.__tasa)\n"
   ]
  },
  {
   "cell_type": "code",
   "execution_count": 40,
   "metadata": {},
   "outputs": [
    {
     "output_type": "stream",
     "name": "stdout",
     "text": [
      "19\n"
     ]
    }
   ],
   "source": [
    "print(compra1._Factura__tasa)"
   ]
  },
  {
   "cell_type": "code",
   "execution_count": 41,
   "metadata": {},
   "outputs": [
    {
     "output_type": "stream",
     "name": "stdout",
     "text": [
      "Francisco\nFrancisco Javier , 20000\n"
     ]
    }
   ],
   "source": [
    "class Empleado:\n",
    "\n",
    "    def __init__(self, nombre, salario):\n",
    "        self.__nombre = nombre\n",
    "        self.__salario = salario\n",
    "\n",
    "    def getNombre(self):\n",
    "        return self.__nombre\n",
    "\n",
    "    def getSalario(self):\n",
    "        return self.__salario\n",
    "\n",
    "    def setNombre(self, nuevoNombre):\n",
    "        self.__nombre = nuevoNombre\n",
    "    \n",
    "    def setSalario(self, nuevoSalario):\n",
    "        self.__salario = nuevoSalario\n",
    "\n",
    "\n",
    "empleado1 = Empleado(\"Francisco\", 20000)\n",
    "print(empleado1.getNombre())\n",
    "empleado1.setNombre(\"Francisco Javier\")\n",
    "print(empleado1.getNombre(), \",\", empleado1.getSalario())\n"
   ]
  },
  {
   "cell_type": "code",
   "execution_count": 75,
   "metadata": {},
   "outputs": [
    {
     "output_type": "stream",
     "name": "stdout",
     "text": [
      "Rosa 20000\n"
     ]
    }
   ],
   "source": [
    "class Empleado:\n",
    "\n",
    "    def __init__(self, nombre, salario):\n",
    "        self.__nombre = nombre\n",
    "        self.__salario = salario\n",
    "\n",
    "    def __getNombre(self):\n",
    "        return self.__nombre\n",
    "\n",
    "    def __getSalario(self):\n",
    "        return self.__salario\n",
    "\n",
    "    def __setNombre(self, nuevoNombre):\n",
    "        self.__nombre = nuevoNombre\n",
    "    \n",
    "    def __setSalario(self, nuevoSalario):\n",
    "        self.__salario = nuevoSalario\n",
    "\n",
    "    def __delNombre(self):\n",
    "        del self.__nombre\n",
    "\n",
    "    def __delSalario(self):\n",
    "        del self.__salario\n",
    "    \n",
    "    nombre = property(fget =  __getNombre, fset = __setNombre, fdel = __delNombre, doc = \"Soy la propiedad 'nombre'\")\n",
    "    salario = property(fget = __getSalario, doc = \"Soy la propiedad 'salario'\")\n",
    "\n",
    "empleado1 = Empleado(\"Francisco\", 20000)\n",
    "empleado1.nombre = \"Rosa\"\n",
    "print(empleado1.nombre, empleado1.salario)"
   ]
  },
  {
   "cell_type": "code",
   "execution_count": 76,
   "metadata": {},
   "outputs": [],
   "source": [
    "del empleado1.nombre"
   ]
  },
  {
   "cell_type": "code",
   "execution_count": 53,
   "metadata": {},
   "outputs": [
    {
     "output_type": "stream",
     "name": "stdout",
     "text": [
      "ClaseX.metodo1()\nClaseA1.metodo2()\nClaseA.metodo3()\nClaseA.metodo4()\n(<class '__main__.ClaseX'>, <class '__main__.ClaseA1'>, <class '__main__.ClaseA2'>, <class '__main__.ClaseA'>, <class 'object'>)\n"
     ]
    }
   ],
   "source": [
    "class ClaseA(object):\n",
    "    \n",
    "    def metodo1(self):\n",
    "        print(\"ClaseA.metodo1()\")\n",
    "\n",
    "    def metodo3(self):\n",
    "        print(\"ClaseA.metodo3()\")\n",
    "\n",
    "    def metodo4(self):\n",
    "        print(\"ClaseA.metodo4()\")\n",
    "\n",
    "class ClaseA1(ClaseA):\n",
    "\n",
    "    def metodo1(self):\n",
    "        print(\"ClaseA1.metodo1()\")\n",
    "\n",
    "    def metodo2(self):\n",
    "        print(\"ClaseA1.metodo2()\")\n",
    "\n",
    "class ClaseA2(ClaseA):\n",
    "\n",
    "    def metodo1(self):\n",
    "        print(\"ClaseA.metodo1()\")\n",
    "\n",
    "    def metodo3(self):\n",
    "        print(\"ClaseA.metodo3()\")\n",
    "\n",
    "class ClaseX(ClaseA1, ClaseA2):\n",
    "    def metodo1(self):\n",
    "        print(\"ClaseX.metodo1()\")\n",
    "\n",
    "objeto1 = ClaseX()\n",
    "\n",
    "objeto1.metodo1()\n",
    "objeto1.metodo2()\n",
    "objeto1.metodo3()\n",
    "objeto1.metodo4()\n",
    "print(ClaseX.__mro__)"
   ]
  },
  {
   "cell_type": "code",
   "execution_count": 62,
   "metadata": {},
   "outputs": [
    {
     "output_type": "stream",
     "name": "stdout",
     "text": [
      "Clase3.__init__,Clase1.__init__\nClase4.__init__,Clase2.__init__\n(<class '__main__.Clase3'>, <class '__main__.Clase1'>, <class '__main__.Clase2'>, <class 'object'>)\n(<class '__main__.Clase4'>, <class '__main__.Clase2'>, <class '__main__.Clase1'>, <class 'object'>)\nClase3.metodo1(),Clase1.metodo1()\nClase4.metodo1(),Clase2.metodo1()\n1\n2\n3\n4\n"
     ]
    }
   ],
   "source": [
    "class Clase1(object):\n",
    "\n",
    "    def __init__(self):\n",
    "        self.var1 = 1\n",
    "        print(\"Clase1.__init__\")\n",
    "\n",
    "    def metodo1(self):\n",
    "        self.var2 = 2\n",
    "        print(\"Clase1.metodo1()\")\n",
    "\n",
    "class Clase2(object):\n",
    "\n",
    "    def __init__(self):\n",
    "        self.var1 = 2\n",
    "        print(\"Clase2.__init__\")\n",
    "\n",
    "    def metodo1(self):\n",
    "        self.var2 = 2\n",
    "        print(\"Clase2.metodo1()\")\n",
    "\n",
    "class Clase3(Clase1, Clase2):\n",
    "\n",
    "    def __init__(self):\n",
    "        self.var1 = 3\n",
    "        print(\"Clase3.__init__\", end = ',')\n",
    "        super().__init__()\n",
    "\n",
    "    def metodo1(self):\n",
    "        print(\"Clase3.metodo1()\", end = ',')\n",
    "        super().metodo1()\n",
    "        self.var2 = 3\n",
    "\n",
    "class Clase4(Clase2, Clase1):\n",
    "    def __init__(self):\n",
    "        self.var1 = 4\n",
    "        print(\"Clase4.__init__\", end = ',')\n",
    "        super().__init__()\n",
    "\n",
    "    def metodo1(self):\n",
    "        print(\"Clase4.metodo1()\", end = ',')\n",
    "        super().metodo1()\n",
    "        self.var2 = 4\n",
    "\n",
    "objeto1 = Clase3()\n",
    "objeto2 = Clase4()\n",
    "\n",
    "print(Clase3.__mro__)\n",
    "print(Clase4.__mro__)\n",
    "\n",
    "objeto1.metodo1()\n",
    "objeto2.metodo1()\n",
    "\n",
    "print(objeto1.var1)\n",
    "print(objeto2.var1)\n",
    "print(objeto1.var2)\n",
    "print(objeto2.var2)"
   ]
  },
  {
   "cell_type": "code",
   "execution_count": null,
   "metadata": {},
   "outputs": [],
   "source": []
  }
 ]
}