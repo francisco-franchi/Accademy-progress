{
 "metadata": {
  "language_info": {
   "codemirror_mode": {
    "name": "ipython",
    "version": 3
   },
   "file_extension": ".py",
   "mimetype": "text/x-python",
   "name": "python",
   "nbconvert_exporter": "python",
   "pygments_lexer": "ipython3",
   "version": "3.9.0-final"
  },
  "orig_nbformat": 2,
  "kernelspec": {
   "name": "python3",
   "display_name": "Python 3.9.0 64-bit",
   "metadata": {
    "interpreter": {
     "hash": "2e3c1e8da6e821b0193601da5a0e541c0efda9704da45b6b820f5f4c317f2def"
    }
   }
  }
 },
 "nbformat": 4,
 "nbformat_minor": 2,
 "cells": [
  {
   "cell_type": "code",
   "execution_count": 132,
   "metadata": {},
   "outputs": [],
   "source": [
    "#----------------------------------------------------PARTE 1----------------------------------------------------"
   ]
  },
  {
   "cell_type": "code",
   "execution_count": 133,
   "metadata": {},
   "outputs": [
    {
     "output_type": "stream",
     "name": "stdout",
     "text": [
      "<class 'str'>\n"
     ]
    }
   ],
   "source": [
    "lenguaje = 'Python'\n",
    "print(type(lenguaje))"
   ]
  },
  {
   "cell_type": "code",
   "execution_count": 134,
   "metadata": {},
   "outputs": [
    {
     "output_type": "stream",
     "name": "stdout",
     "text": [
      "<class 'function'>\n"
     ]
    }
   ],
   "source": [
    "def mitad(x):\n",
    "    return x/2\n",
    "print(type(mitad))"
   ]
  },
  {
   "cell_type": "code",
   "execution_count": 135,
   "metadata": {},
   "outputs": [
    {
     "output_type": "stream",
     "name": "stdout",
     "text": [
      "<class 'float'>\n"
     ]
    }
   ],
   "source": [
    "valor = mitad(25)\n",
    "print(type(valor))"
   ]
  },
  {
   "cell_type": "code",
   "execution_count": 136,
   "metadata": {},
   "outputs": [
    {
     "output_type": "stream",
     "name": "stdout",
     "text": [
      "<class 'module'>\n"
     ]
    }
   ],
   "source": [
    "import os\n",
    "print(type(os))"
   ]
  },
  {
   "cell_type": "code",
   "execution_count": 137,
   "metadata": {},
   "outputs": [
    {
     "output_type": "stream",
     "name": "stdout",
     "text": [
      "<class 'list'>\n"
     ]
    }
   ],
   "source": [
    "list = [1,2,3,4,5]\n",
    "print(type(list))"
   ]
  },
  {
   "cell_type": "code",
   "execution_count": 138,
   "metadata": {},
   "outputs": [
    {
     "output_type": "stream",
     "name": "stdout",
     "text": [
      "[1, 2, 3]\n"
     ]
    }
   ],
   "source": [
    "lista = [3,1,2]\n",
    "lista.append(4)\n",
    "lista.pop()\n",
    "lista.sort()\n",
    "print(lista)"
   ]
  },
  {
   "cell_type": "code",
   "execution_count": 139,
   "metadata": {},
   "outputs": [],
   "source": [
    "class Alumno:\n",
    "    'Clase para alumnos'\n",
    "    numAlumnos = 0\n",
    "    sumaNotas = 0\n",
    "\n",
    "    def __init__(self, nombre, nota):\n",
    "        self.nombre = nombre\n",
    "        self.nota = nota\n",
    "        Alumno.numAlumnos += 1\n",
    "        Alumno.sumaNotas += nota\n",
    "\n",
    "    def mostrarNombreNota(self):\n",
    "        return (self.nombre, self.nota)\n",
    "\n",
    "    def mostrarNumAlumnos(self):\n",
    "        return (Alumno.numAlumnos)\n",
    "    \n",
    "    def mostrarSumaNotas(self):\n",
    "        return (Alumno.sumaNotas)\n",
    "    \n",
    "    def mostrarNotaMedia(self):\n",
    "        if Alumno.numAlumnos > 0:\n",
    "            return (Alumno.sumaNotas / Alumno.numAlumnos)\n",
    "        else:\n",
    "            return(\"Sin Alumnos\")\n",
    "\n",
    "        "
   ]
  },
  {
   "cell_type": "code",
   "execution_count": 140,
   "metadata": {},
   "outputs": [
    {
     "output_type": "stream",
     "name": "stdout",
     "text": [
      "Fran\n9\n"
     ]
    }
   ],
   "source": [
    "alumno1 = Alumno(\"Fran\", 9)\n",
    "alumno2 = Alumno(\"Juan\", 10)\n",
    "\n",
    "print(alumno1.nombre)\n",
    "print(alumno1.nota)"
   ]
  },
  {
   "cell_type": "code",
   "execution_count": 141,
   "metadata": {},
   "outputs": [],
   "source": [
    "alumno2.nombre = \"Roberto\"\n"
   ]
  },
  {
   "cell_type": "code",
   "execution_count": 142,
   "metadata": {},
   "outputs": [
    {
     "output_type": "stream",
     "name": "stdout",
     "text": [
      "2\n19\n"
     ]
    }
   ],
   "source": [
    "print(Alumno.numAlumnos)\n",
    "print(Alumno.sumaNotas)"
   ]
  },
  {
   "cell_type": "code",
   "execution_count": 143,
   "metadata": {},
   "outputs": [
    {
     "output_type": "stream",
     "name": "stdout",
     "text": [
      "('Fran', 9)\n('Roberto', 10)\n"
     ]
    }
   ],
   "source": [
    "print(alumno1.mostrarNombreNota())\n",
    "print(alumno2.mostrarNombreNota())"
   ]
  },
  {
   "cell_type": "code",
   "execution_count": 144,
   "metadata": {},
   "outputs": [
    {
     "output_type": "error",
     "ename": "AttributeError",
     "evalue": "'Alumno' object has no attribute 'nombre'",
     "traceback": [
      "\u001b[1;31m---------------------------------------------------------------------------\u001b[0m",
      "\u001b[1;31mAttributeError\u001b[0m                            Traceback (most recent call last)",
      "\u001b[1;32m<ipython-input-144-11abc0c5e780>\u001b[0m in \u001b[0;36m<module>\u001b[1;34m\u001b[0m\n\u001b[0;32m      1\u001b[0m \u001b[1;32mdel\u001b[0m \u001b[0malumno1\u001b[0m\u001b[1;33m.\u001b[0m\u001b[0mnombre\u001b[0m\u001b[1;33m\u001b[0m\u001b[1;33m\u001b[0m\u001b[0m\n\u001b[1;32m----> 2\u001b[1;33m \u001b[0mprint\u001b[0m\u001b[1;33m(\u001b[0m\u001b[0malumno1\u001b[0m\u001b[1;33m.\u001b[0m\u001b[0mnombre\u001b[0m\u001b[1;33m)\u001b[0m\u001b[1;33m\u001b[0m\u001b[1;33m\u001b[0m\u001b[0m\n\u001b[0m\u001b[0;32m      3\u001b[0m \u001b[0mprint\u001b[0m\u001b[1;33m(\u001b[0m\u001b[0malumno1\u001b[0m\u001b[1;33m.\u001b[0m\u001b[0mmostrarNombreNota\u001b[0m\u001b[1;33m)\u001b[0m\u001b[1;33m\u001b[0m\u001b[1;33m\u001b[0m\u001b[0m\n",
      "\u001b[1;31mAttributeError\u001b[0m: 'Alumno' object has no attribute 'nombre'"
     ]
    }
   ],
   "source": [
    "del alumno1.nombre\n",
    "print(alumno1.nombre)\n",
    "print(alumno1.mostrarNombreNota)"
   ]
  },
  {
   "cell_type": "code",
   "execution_count": 26,
   "metadata": {},
   "outputs": [],
   "source": [
    "#----------------------------------------------------PARTE 2----------------------------------------------------"
   ]
  },
  {
   "cell_type": "code",
   "execution_count": 39,
   "metadata": {},
   "outputs": [
    {
     "output_type": "stream",
     "name": "stdout",
     "text": [
      "10\n0\n19\n"
     ]
    }
   ],
   "source": [
    "notaAlumno2 = getattr(alumno2, 'nota', 0)\n",
    "edadAlumno2 = getattr(alumno2, 'edad', 0)\n",
    "sumaDeNotas = getattr(Alumno, 'sumaNotas')\n",
    "print(notaAlumno2)\n",
    "print(edadAlumno2)\n",
    "print(sumaDeNotas)"
   ]
  },
  {
   "cell_type": "code",
   "execution_count": 58,
   "metadata": {},
   "outputs": [
    {
     "output_type": "stream",
     "name": "stdout",
     "text": [
      "El atributo edad no existe\n"
     ]
    }
   ],
   "source": [
    "if not hasattr(alumno2, 'edad'):\n",
    "    print('El atributo edad no existe') "
   ]
  },
  {
   "cell_type": "code",
   "execution_count": 17,
   "metadata": {},
   "outputs": [
    {
     "output_type": "stream",
     "name": "stdout",
     "text": [
      "20\n"
     ]
    }
   ],
   "source": [
    "alumno1 = Alumno(\"Fran\", 9)\n",
    "edadAlumno1 = setattr(alumno1, 'edad', 20)\n",
    "print(alumno1.edad)"
   ]
  },
  {
   "cell_type": "code",
   "execution_count": 18,
   "metadata": {},
   "outputs": [
    {
     "output_type": "error",
     "ename": "AttributeError",
     "evalue": "curso",
     "traceback": [
      "\u001b[1;31m---------------------------------------------------------------------------\u001b[0m",
      "\u001b[1;31mAttributeError\u001b[0m                            Traceback (most recent call last)",
      "\u001b[1;32m<ipython-input-18-9411fd11b8c0>\u001b[0m in \u001b[0;36m<module>\u001b[1;34m\u001b[0m\n\u001b[0;32m      1\u001b[0m \u001b[0mdelattr\u001b[0m\u001b[1;33m(\u001b[0m\u001b[0malumno1\u001b[0m\u001b[1;33m,\u001b[0m \u001b[1;34m'edad'\u001b[0m\u001b[1;33m)\u001b[0m\u001b[1;33m\u001b[0m\u001b[1;33m\u001b[0m\u001b[0m\n\u001b[1;32m----> 2\u001b[1;33m \u001b[0mdelattr\u001b[0m\u001b[1;33m(\u001b[0m\u001b[0malumno2\u001b[0m\u001b[1;33m,\u001b[0m \u001b[1;34m'curso'\u001b[0m\u001b[1;33m)\u001b[0m\u001b[1;33m\u001b[0m\u001b[1;33m\u001b[0m\u001b[0m\n\u001b[0m",
      "\u001b[1;31mAttributeError\u001b[0m: curso"
     ]
    }
   ],
   "source": [
    "delattr(alumno1, 'edad')\n",
    "delattr(alumno2, 'curso')"
   ]
  },
  {
   "cell_type": "code",
   "execution_count": 22,
   "metadata": {},
   "outputs": [
    {
     "output_type": "stream",
     "name": "stdout",
     "text": [
      "{'__module__': '__main__', '__doc__': 'Clase para alumnos', 'numAlumnos': 3, 'sumaNotas': 28, '__init__': <function Alumno.__init__ at 0x000001963AF17A60>, 'mostrarNombreNota': <function Alumno.mostrarNombreNota at 0x000001963AF17C10>, 'mostrarNumAlumnos': <function Alumno.mostrarNumAlumnos at 0x000001963AF17160>, 'mostrarSumaNotas': <function Alumno.mostrarSumaNotas at 0x000001963AF171F0>, 'mostrarNotaMedia': <function Alumno.mostrarNotaMedia at 0x000001963AF17310>, '__dict__': <attribute '__dict__' of 'Alumno' objects>, '__weakref__': <attribute '__weakref__' of 'Alumno' objects>}\n\n{'nombre': 'Fran', 'nota': 9}\n"
     ]
    }
   ],
   "source": [
    "print(Alumno.__dict__)\n",
    "print(\"\")\n",
    "print(alumno1.__dict__)"
   ]
  },
  {
   "cell_type": "code",
   "execution_count": 23,
   "metadata": {},
   "outputs": [
    {
     "output_type": "stream",
     "name": "stdout",
     "text": [
      "Alumno\n"
     ]
    }
   ],
   "source": [
    "print(Alumno.__name__)\n"
   ]
  },
  {
   "cell_type": "code",
   "execution_count": 24,
   "metadata": {},
   "outputs": [
    {
     "output_type": "stream",
     "name": "stdout",
     "text": [
      "Clase para alumnos\n"
     ]
    }
   ],
   "source": [
    "print(Alumno.__doc__)"
   ]
  },
  {
   "cell_type": "code",
   "execution_count": 27,
   "metadata": {},
   "outputs": [
    {
     "output_type": "stream",
     "name": "stdout",
     "text": [
      "__main__\n"
     ]
    }
   ],
   "source": [
    "print(Alumno.__module__)"
   ]
  },
  {
   "cell_type": "code",
   "execution_count": 26,
   "metadata": {},
   "outputs": [
    {
     "output_type": "stream",
     "name": "stdout",
     "text": [
      "datetime\n"
     ]
    }
   ],
   "source": [
    "from datetime import date\n",
    "print(date.__module__)"
   ]
  },
  {
   "cell_type": "code",
   "execution_count": 28,
   "metadata": {},
   "outputs": [
    {
     "output_type": "stream",
     "name": "stdout",
     "text": [
      "(<class 'object'>,)\n"
     ]
    }
   ],
   "source": [
    "print(Alumno.__bases__)"
   ]
  },
  {
   "cell_type": "code",
   "execution_count": 29,
   "metadata": {},
   "outputs": [
    {
     "output_type": "stream",
     "name": "stdout",
     "text": [
      "(<class '__main__.Alumno'>,)\n"
     ]
    }
   ],
   "source": [
    "class Becario(Alumno):\n",
    "    pass\n",
    "\n",
    "print(Becario.__bases__)"
   ]
  },
  {
   "cell_type": "code",
   "execution_count": 31,
   "metadata": {},
   "outputs": [
    {
     "output_type": "stream",
     "name": "stdout",
     "text": [
      "Hola, mi nombre es R2D2\n1744745585584\nSe han terminado mis baterias. Me voy a dormir.\n"
     ]
    }
   ],
   "source": [
    "class Robot:\n",
    "    def __init__ (self,nombre):\n",
    "        self.nombre = nombre\n",
    "\n",
    "    def saludo (self):\n",
    "        print(\"Hola, mi nombre es\", self.nombre)\n",
    "\n",
    "    def __del__ (self) :\n",
    "        print(\"Se han terminado mis baterias. Me voy a dormir.\")\n",
    "\n",
    "robot1 = Robot(\"R2D2\")\n",
    "robot1.saludo()\n",
    "print(id(robot1))\n",
    "del robot1"
   ]
  },
  {
   "cell_type": "code",
   "execution_count": 32,
   "metadata": {},
   "outputs": [
    {
     "output_type": "error",
     "ename": "NameError",
     "evalue": "name 'robot1' is not defined",
     "traceback": [
      "\u001b[1;31m---------------------------------------------------------------------------\u001b[0m",
      "\u001b[1;31mNameError\u001b[0m                                 Traceback (most recent call last)",
      "\u001b[1;32m<ipython-input-32-162bd6336a7c>\u001b[0m in \u001b[0;36m<module>\u001b[1;34m\u001b[0m\n\u001b[1;32m----> 1\u001b[1;33m \u001b[0mprint\u001b[0m\u001b[1;33m(\u001b[0m\u001b[0mid\u001b[0m\u001b[1;33m(\u001b[0m\u001b[0mrobot1\u001b[0m\u001b[1;33m)\u001b[0m\u001b[1;33m)\u001b[0m\u001b[1;33m\u001b[0m\u001b[1;33m\u001b[0m\u001b[0m\n\u001b[0m",
      "\u001b[1;31mNameError\u001b[0m: name 'robot1' is not defined"
     ]
    }
   ],
   "source": [
    "print(id(robot1))"
   ]
  },
  {
   "cell_type": "code",
   "execution_count": 91,
   "metadata": {},
   "outputs": [],
   "source": [
    "class Volumen :\n",
    "    def __init__(self):\n",
    "        self.nivel = 3\n",
    "\n",
    "        print('nivel', self.__class__.__name__, self.nivel)\n",
    "    \n",
    "    def subir(self):\n",
    "        self.nivel += 1\n",
    "        if self.nivel > 10:\n",
    "            self.nivel = 10\n",
    "        \n",
    "        print('nivel', self.__class__.__name__, self.nivel)\n",
    "\n",
    "    def bajar(self):\n",
    "        self.nivel -= 1\n",
    "        if self.nivel < 0:\n",
    "            self.nivel = 0\n",
    "\n",
    "        print('nivel', self.__class__.__name__, self.nivel)\n",
    "\n",
    "    def silenciar(self):\n",
    "        self.nivel = 0\n",
    "\n",
    "        print('nivel', self.__class__.__name__, self.nivel)\n",
    "\n",
    "class Graves(Volumen):\n",
    "    pass\n"
   ]
  },
  {
   "cell_type": "code",
   "execution_count": 92,
   "metadata": {},
   "outputs": [
    {
     "output_type": "stream",
     "name": "stdout",
     "text": [
      "nivel Volumen 3\n"
     ]
    }
   ],
   "source": [
    "ControlVolumen = Volumen()"
   ]
  },
  {
   "cell_type": "code",
   "execution_count": 93,
   "metadata": {},
   "outputs": [
    {
     "output_type": "stream",
     "name": "stdout",
     "text": [
      "nivel Volumen 4\nnivel Volumen 3\nnivel Volumen 0\n"
     ]
    }
   ],
   "source": [
    "ControlVolumen.subir()\n",
    "ControlVolumen.bajar()\n",
    "ControlVolumen.silenciar()"
   ]
  },
  {
   "cell_type": "code",
   "execution_count": 98,
   "metadata": {},
   "outputs": [
    {
     "output_type": "stream",
     "name": "stdout",
     "text": [
      "nivel Graves 3\nnivel Graves 4\n"
     ]
    },
    {
     "output_type": "error",
     "ename": "NameError",
     "evalue": "name 'ControlVolumen' is not defined",
     "traceback": [
      "\u001b[1;31m---------------------------------------------------------------------------\u001b[0m",
      "\u001b[1;31mNameError\u001b[0m                                 Traceback (most recent call last)",
      "\u001b[1;32m<ipython-input-98-188d1fe4ba7c>\u001b[0m in \u001b[0;36m<module>\u001b[1;34m\u001b[0m\n\u001b[0;32m      1\u001b[0m \u001b[0mControlGraves\u001b[0m \u001b[1;33m=\u001b[0m \u001b[0mGraves\u001b[0m\u001b[1;33m(\u001b[0m\u001b[1;33m)\u001b[0m\u001b[1;33m\u001b[0m\u001b[1;33m\u001b[0m\u001b[0m\n\u001b[0;32m      2\u001b[0m \u001b[0mControlGraves\u001b[0m\u001b[1;33m.\u001b[0m\u001b[0msubir\u001b[0m\u001b[1;33m(\u001b[0m\u001b[1;33m)\u001b[0m\u001b[1;33m\u001b[0m\u001b[1;33m\u001b[0m\u001b[0m\n\u001b[1;32m----> 3\u001b[1;33m \u001b[1;32mdel\u001b[0m \u001b[0mControlVolumen\u001b[0m\u001b[1;33m\u001b[0m\u001b[1;33m\u001b[0m\u001b[0m\n\u001b[0m\u001b[0;32m      4\u001b[0m \u001b[1;32mdel\u001b[0m \u001b[0mControlGraves\u001b[0m\u001b[1;33m\u001b[0m\u001b[1;33m\u001b[0m\u001b[0m\n\u001b[0;32m      5\u001b[0m \u001b[0mControlGraves\u001b[0m\u001b[1;33m.\u001b[0m\u001b[0msubir\u001b[0m\u001b[1;33m(\u001b[0m\u001b[1;33m)\u001b[0m\u001b[1;33m\u001b[0m\u001b[1;33m\u001b[0m\u001b[0m\n",
      "\u001b[1;31mNameError\u001b[0m: name 'ControlVolumen' is not defined"
     ]
    }
   ],
   "source": [
    "ControlGraves = Graves()\n",
    "ControlGraves.subir()\n",
    "del ControlVolumen\n",
    "del ControlGraves"
   ]
  },
  {
   "cell_type": "code",
   "execution_count": 128,
   "metadata": {},
   "outputs": [
    {
     "output_type": "stream",
     "name": "stdout",
     "text": [
      "['__class__', '__del__', '__delattr__', '__dict__', '__dir__', '__doc__', '__eq__', '__format__', '__ge__', '__getattribute__', '__gt__', '__hash__', '__init__', '__init_subclass__', '__le__', '__lt__', '__module__', '__ne__', '__new__', '__reduce__', '__reduce_ex__', '__repr__', '__setattr__', '__sizeof__', '__str__', '__subclasshook__', '__weakref__', 'colgar', 'fotografiar', 'reproducirVideo', 'reproducirmp3', 'telefonear']\nReproduciendo MP3\nLlamando\nFotografiando\nMovil apagado\n"
     ]
    }
   ],
   "source": [
    "class Telefono:\n",
    "\n",
    "    def __init__(self):\n",
    "        pass\n",
    "    \n",
    "    def telefonear(self):\n",
    "        print(\"Llamando\")\n",
    "\n",
    "    def colgar(self):\n",
    "        print(\"Colgando\")\n",
    "\n",
    "\n",
    "class Camara:\n",
    "    \n",
    "    def __init__(self):\n",
    "        pass\n",
    "\n",
    "    def fotografiar(self):\n",
    "        print(\"Fotografiando\")\n",
    "\n",
    "\n",
    "class Reproductor:\n",
    "\n",
    "    def __init__(self):\n",
    "        pass\n",
    "\n",
    "    def reproducirmp3(self):\n",
    "        print(\"Reproduciendo MP3\")\n",
    "    \n",
    "    def reproducirVideo(self):\n",
    "        print(\"Reproduciendo video\")\n",
    "\n",
    "\n",
    "class Movil(Telefono, Camara, Reproductor):\n",
    "\n",
    "    def __del__(self):\n",
    "        print(\"Movil apagado\")\n",
    "\n",
    "movil1 = Movil()\n",
    "print(dir(movil1))\n",
    "movil1.reproducirmp3()\n",
    "movil1.telefonear()\n",
    "movil1.fotografiar()\n",
    "del movil1"
   ]
  },
  {
   "cell_type": "code",
   "execution_count": 145,
   "metadata": {},
   "outputs": [
    {
     "output_type": "stream",
     "name": "stdout",
     "text": [
      "True\nTrue\nTrue\nTrue\n"
     ]
    }
   ],
   "source": [
    "movil1 = Movil()\n",
    "print(issubclass(Movil, Telefono))\n",
    "print(issubclass(Movil, Reproductor))\n",
    "print(isinstance(movil1, Movil))\n",
    "print(isinstance(movil1, Camara))\n"
   ]
  }
 ]
}