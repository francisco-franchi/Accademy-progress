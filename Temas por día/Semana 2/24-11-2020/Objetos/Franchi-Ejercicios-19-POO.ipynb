{
 "cells": [
  {
   "cell_type": "markdown",
   "metadata": {},
   "source": [
    "# Ejercicios de Programación Orientada a Objetos"
   ]
  },
  {
   "cell_type": "markdown",
   "metadata": {},
   "source": [
    "**Nota:** Los ejercicios son graduales, es decir, en cada ejercicio se van implementando mejoras a una (o varias) clase(s)."
   ]
  },
  {
   "cell_type": "markdown",
   "metadata": {},
   "source": [
    "## Ejercicio 1"
   ]
  },
  {
   "cell_type": "markdown",
   "metadata": {},
   "source": [
    "Crear una nueva clase llamada **NumeroComplejo**. Esta clase tiene un atributo **x** para la coordenada en x e **y** para la coordenada en y. Representar un número complejo de la forma (x, y)."
   ]
  },
  {
   "cell_type": "code",
   "execution_count": 12,
   "metadata": {},
   "outputs": [],
   "source": [
    "class NumeroComplejo:\n",
    "    def __init__(self, posX, posY):\n",
    "        self.x = posX\n",
    "        self.y = posY\n",
    "\n",
    "complejo1 = NumeroComplejo(2,3)"
   ]
  },
  {
   "cell_type": "markdown",
   "metadata": {},
   "source": [
    "## Ejercicio 2"
   ]
  },
  {
   "cell_type": "markdown",
   "metadata": {},
   "source": [
    "Definir para la clase **NumeroComplejo** un método que permita imprimir una instancia de la clase. Recordemos que al intentar imprimir un tipo definido por nosotros, se imprime la dirección de memoria"
   ]
  },
  {
   "cell_type": "code",
   "execution_count": 21,
   "metadata": {},
   "outputs": [
    {
     "output_type": "stream",
     "name": "stdout",
     "text": [
      "( 2 , 3 )\nNone\n"
     ]
    }
   ],
   "source": [
    "class NumeroComplejo:\n",
    "    def __init__(self, posX, posY):\n",
    "        self.x = posX\n",
    "        self.y = posY\n",
    "    \n",
    "    def imprimirInstancia(self):\n",
    "        print('(',self.x, ',', self.y, ')')\n",
    "\n",
    "complejo1 = NumeroComplejo(2,3)\n",
    "print(complejo1.imprimirInstancia())"
   ]
  },
  {
   "cell_type": "markdown",
   "metadata": {},
   "source": [
    "## Ejercicio 3"
   ]
  },
  {
   "cell_type": "markdown",
   "metadata": {},
   "source": [
    "Definir la función **__str__** para la clase **NumeroComplejo** para poder imprimir usando la función print."
   ]
  },
  {
   "cell_type": "code",
   "execution_count": 18,
   "metadata": {},
   "outputs": [
    {
     "output_type": "stream",
     "name": "stdout",
     "text": [
      "(2,3)\n"
     ]
    }
   ],
   "source": [
    "class NumeroComplejo:\n",
    "    def __init__(self, posX, posY):\n",
    "        self.x = posX\n",
    "        self.y = posY\n",
    "    \n",
    "    def imprimirInstancia(self):\n",
    "        print('(',self.x, ',', self.y, ')')\n",
    "\n",
    "    def __str__(self):\n",
    "        complejo = '(' + str(self.x) + \",\" + str(self.y) + ')'\n",
    "        return complejo\n",
    "\n",
    "complejo1 = NumeroComplejo(2,3)\n",
    "print(complejo1)"
   ]
  },
  {
   "cell_type": "markdown",
   "metadata": {},
   "source": [
    "## Ejercicio 4"
   ]
  },
  {
   "cell_type": "markdown",
   "metadata": {},
   "source": [
    "Definir una función que compara dos números complejos, ya que si dos objetos distintos tienen sus atributos iguales, no se consideran iguales.\n"
   ]
  },
  {
   "cell_type": "code",
   "execution_count": 36,
   "metadata": {},
   "outputs": [
    {
     "output_type": "stream",
     "name": "stdout",
     "text": [
      "Los complejos ingresados NO son iguales\nLos complejos ingresados NO son iguales\nLos complejos ingresados son iguales\n"
     ]
    }
   ],
   "source": [
    "class NumeroComplejo:\n",
    "    def __init__(self, posX, posY):\n",
    "        self.x = posX\n",
    "        self.y = posY\n",
    "    \n",
    "    def imprimirInstancia(self):\n",
    "        print('(',self.x, ',', self.y, ')')\n",
    "\n",
    "    def __str__(self):\n",
    "        complejo = '(' + str(self.x) + \",\" + str(self.y) + ')'\n",
    "        return complejo\n",
    "\n",
    "    def comparacion(self, other):\n",
    "        if (self.x == other.x and self.y == other.y):\n",
    "            return(print(\"Los complejos ingresados son iguales\"))\n",
    "        else:\n",
    "            return(print(\"Los complejos ingresados NO son iguales\"))\n",
    "\n",
    "complejo3 = NumeroComplejo(2,3)\n",
    "\n",
    "complejo1.comparacion(complejo2)\n",
    "complejo2.comparacion(complejo3)\n",
    "complejo1.comparacion(complejo3)"
   ]
  },
  {
   "cell_type": "markdown",
   "metadata": {},
   "source": [
    "## Ejercicio 5"
   ]
  },
  {
   "cell_type": "markdown",
   "metadata": {},
   "source": [
    "Implementar un método que sume dos numeros complejos sin modificiar los objetos originales, ya que se retorna un nuevo numero NumeroComplejo."
   ]
  },
  {
   "cell_type": "code",
   "execution_count": 35,
   "metadata": {},
   "outputs": [
    {
     "output_type": "stream",
     "name": "stdout",
     "text": [
      "(5,7)\n"
     ]
    }
   ],
   "source": [
    "class NumeroComplejo:\n",
    "    def __init__(self, posX, posY):\n",
    "        self.x = posX\n",
    "        self.y = posY\n",
    "    \n",
    "    def imprimirInstancia(self):\n",
    "        print('(',self.x, ',', self.y, ')')\n",
    "\n",
    "    def __str__(self):\n",
    "        complejo = '(' + str(self.x) + \",\" + str(self.y) + ')'\n",
    "        return complejo\n",
    "\n",
    "    def comparacion(self, other):\n",
    "        if (self.x == other.x and self.y == other.y):\n",
    "            return(print(\"Los complejos ingresados son iguales\"))\n",
    "        else:\n",
    "            return(print(\"Los complejos ingresados NO son iguales\"))\n",
    "\n",
    "    def __add__(self, other):\n",
    "        newPosX = self.x + other.x \n",
    "        newPosY = self.y + other.y\n",
    "        complejoSuma = NumeroComplejo(newPosX, newPosY) \n",
    "        print(complejoSuma)\n",
    "\n",
    "complejo1 = NumeroComplejo(2,3)\n",
    "complejo2 = NumeroComplejo(3,4)\n",
    "complejo1.__add__(complejo2)"
   ]
  },
  {
   "cell_type": "markdown",
   "metadata": {},
   "source": [
    "Ahora, vamos a implementar un objeto **Bus**, que lleva a un grupo de pasajeros y además tiene un chofer. Los pasajeros y el chofer son todos personas, por lo que primero crearemos una clase **Persona** para representarlos."
   ]
  },
  {
   "cell_type": "markdown",
   "metadata": {},
   "source": [
    "## Ejercicio 6"
   ]
  },
  {
   "cell_type": "markdown",
   "metadata": {},
   "source": [
    "Crea una clase **Persona**. Sus atributos deben ser su nombre y su edad. Además crea un método cumpleaños, que aumente en 1 la edad de la persona."
   ]
  },
  {
   "cell_type": "code",
   "execution_count": 44,
   "metadata": {},
   "outputs": [
    {
     "output_type": "stream",
     "name": "stdout",
     "text": [
      "(Francisco, 21)\n"
     ]
    }
   ],
   "source": [
    "class Persona:\n",
    "\n",
    "    def __init__(self, nombre, edad):\n",
    "        self.nombre = nombre\n",
    "        self.edad = edad\n",
    "    \n",
    "    def cumpleaños(self):\n",
    "        self.edad += 1\n",
    "\n",
    "    def __str__(self):\n",
    "        persona = '(' + str(self.nombre) + \", \" + str(self.edad) + ')'\n",
    "        return persona\n",
    "    \n",
    "persona1 = Persona(\"Francisco\", 20)\n",
    "persona1.cumpleaños()\n",
    "print(persona1)"
   ]
  },
  {
   "cell_type": "markdown",
   "metadata": {},
   "source": [
    "## Ejercicio 7"
   ]
  },
  {
   "cell_type": "markdown",
   "metadata": {},
   "source": [
    "Para la clase anterior definir el método __str__. Debe retornar al menos el nombre de la persona."
   ]
  },
  {
   "cell_type": "code",
   "execution_count": null,
   "metadata": {},
   "outputs": [],
   "source": []
  },
  {
   "cell_type": "markdown",
   "metadata": {},
   "source": [
    "## Ejercicio 8"
   ]
  },
  {
   "cell_type": "markdown",
   "metadata": {},
   "source": [
    "Extender la aplicación anterior con una clase **Bus**. Como atributo tiene un arreglo de pasajeros (inicialmente vacío), una capacidad (se ingresa en el constructor) y un chofer. Debes implementar el método ingresar_chofer(self, persona), que recibe una persona y queda como chofer del Bus si es mayor de 18 años. Cabe destacar que el chofer no se ingresa en el constructor."
   ]
  },
  {
   "cell_type": "code",
   "execution_count": null,
   "metadata": {},
   "outputs": [],
   "source": []
  },
  {
   "cell_type": "markdown",
   "metadata": {},
   "source": [
    "## Ejercicio 9"
   ]
  },
  {
   "cell_type": "markdown",
   "metadata": {},
   "source": [
    "Extender la clase **Bus** con el método **subir_pasajero(self, persona)**. Este método sube a la persona al bus (i.e. La agrega al arreglo de asientos) siempre que el número de pasajeros en el Bus sea menor que la capcidad total."
   ]
  },
  {
   "cell_type": "code",
   "execution_count": null,
   "metadata": {},
   "outputs": [],
   "source": []
  }
 ],
 "metadata": {
  "kernelspec": {
   "display_name": "Python 3",
   "language": "python",
   "name": "python3"
  },
  "language_info": {
   "codemirror_mode": {
    "name": "ipython",
    "version": 3
   },
   "file_extension": ".py",
   "mimetype": "text/x-python",
   "name": "python",
   "nbconvert_exporter": "python",
   "pygments_lexer": "ipython3",
   "version": "3.8.3-final"
  }
 },
 "nbformat": 4,
 "nbformat_minor": 2
}