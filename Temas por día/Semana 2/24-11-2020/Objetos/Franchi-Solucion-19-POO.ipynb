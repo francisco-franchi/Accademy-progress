{
 "cells": [
  {
   "cell_type": "markdown",
   "metadata": {},
   "source": [
    "# Soluciones de Ejercicios de Programación Orientada a Objetos"
   ]
  },
  {
   "cell_type": "markdown",
   "metadata": {},
   "source": [
    "**Nota:** Los ejercicios son graduales, es decir, en cada ejercicio se van implementando mejoras a una (o varias) clase(s)."
   ]
  },
  {
   "cell_type": "markdown",
   "metadata": {},
   "source": [
    "## Ejercicio 1"
   ]
  },
  {
   "cell_type": "markdown",
   "metadata": {},
   "source": [
    "Crear una nueva clase llamada **NumeroComplejo**. Esta clase tiene un atributo **x** para la coordenada en x e **y** para la coordenada en y. Representar un número complejo de la forma (x, y)."
   ]
  },
  {
   "cell_type": "code",
   "execution_count": null,
   "metadata": {},
   "outputs": [],
   "source": [
    "# Solución 1\n",
    "class NumeroComplejo:\n",
    "  # Definimos el constructor, que instancia los distintos objetos\n",
    "  def __init__(self, _x, _y):\n",
    "    # El primer atributo puede no llamarse self, pero se usa asi por convencion\n",
    "    self.x = _x\n",
    "    self.y = _y\n",
    "\n",
    "nc = NumeroComplejo(1, 2)\n",
    "print(nc.x) # Accedemos al valor de x para la instancia nc"
   ]
  },
  {
   "cell_type": "code",
   "execution_count": null,
   "metadata": {},
   "outputs": [],
   "source": []
  },
  {
   "cell_type": "markdown",
   "metadata": {},
   "source": [
    "## Ejercicio 2"
   ]
  },
  {
   "cell_type": "markdown",
   "metadata": {},
   "source": [
    "Definir para la clase **NumeroComplejo** un método que permita imprimir una instancia de la clase. Recordemos que al intentar imprimir un tipo definido por nosotros, se imprime la dirección de memoria"
   ]
  },
  {
   "cell_type": "code",
   "execution_count": null,
   "metadata": {},
   "outputs": [],
   "source": [
    "# Solución 2\n",
    "class NumeroComplejo:\n",
    "  # Definimos el constructor, que instancia los distintos objetos\n",
    "  def __init__(self, _x, _y):\n",
    "    # El primer atributo puede no llamarse self, pero se usa asi por convencion\n",
    "    self.x = _x\n",
    "    self.y = _y\n",
    "\n",
    "  def imprimir(self):\n",
    "    print(\"El valor de x es: \" + str(self.x))\n",
    "    print(\"El valor de y es: \" + str(self.y))\n",
    "\n",
    "nc = NumeroComplejo(2,5)\n",
    "nc.imprimir()\n"
   ]
  },
  {
   "cell_type": "code",
   "execution_count": null,
   "metadata": {},
   "outputs": [],
   "source": []
  },
  {
   "cell_type": "markdown",
   "metadata": {},
   "source": [
    "## Ejercicio 3"
   ]
  },
  {
   "cell_type": "markdown",
   "metadata": {},
   "source": [
    "Definir la función **__str__** para la clase **NumeroComplejo** para poder imprimir usando la función print."
   ]
  },
  {
   "cell_type": "code",
   "execution_count": null,
   "metadata": {},
   "outputs": [],
   "source": [
    "# Solución 3\n",
    "class NumeroComplejo:\n",
    "  # Definimos el constructor, que instancia los distintos objetos\n",
    "  def __init__(self, _x, _y):\n",
    "    # El primer atributo puede no llamarse self, pero se usa asi por convencion\n",
    "    self.x = _x\n",
    "    self.y = _y\n",
    "\n",
    "  def imprimir(self):\n",
    "    print(\"El valor de x es: \" + str(self.x))\n",
    "    print(\"El valor de y es: \" + str(self.y))\n",
    "\n",
    "  def __str__(self):\n",
    "  # Las funciones que parten y terminan con __ son funciones reservadas.\n",
    "  # Existen varias además de __init__ y __str__\n",
    "    s =  str(self.x) + \",\" + str(self.y)\n",
    "    return s\n",
    "\n",
    "nc = NumeroComplejo(6, 9)\n",
    "print(nc)"
   ]
  },
  {
   "cell_type": "code",
   "execution_count": null,
   "metadata": {},
   "outputs": [],
   "source": []
  },
  {
   "cell_type": "markdown",
   "metadata": {},
   "source": [
    "## Ejercicio 4"
   ]
  },
  {
   "cell_type": "markdown",
   "metadata": {},
   "source": [
    "Definir una función que compara dos números complejos, ya que si dos objetos distintos tienen sus atributos iguales, no se consideran iguales.\n"
   ]
  },
  {
   "cell_type": "code",
   "execution_count": null,
   "metadata": {},
   "outputs": [],
   "source": [
    " # Solución 4\n",
    "    # Definimos el constructor, que instancia los distintos objetos\n",
    "  def __init__(self, _x, _y):\n",
    "    # El primer atributo puede no llamarse self, pero se usa asi por convencion\n",
    "    self.x = _x\n",
    "    self.y = _y\n",
    "\n",
    "  def imprimir(self):\n",
    "    print(\"El valor de x es: \" + str(self.x))\n",
    "    print(\"El valor de y es: \" + str(self.y))\n",
    "\n",
    "  def __str__(self):\n",
    "    return \"(\" + str(self.x) + \", \" + str(self.y) + \")\"\n",
    "\n",
    "  def son_iguales(self, c2):\n",
    "    if self.x == c2.x and self.y == c2.y:\n",
    "      return True\n",
    "    return False\n",
    "\n",
    "nc1 = NumeroComplejo(4, 5)\n",
    "nc2 = NumeroComplejo(4, 5)\n",
    "print(nc1 == nc2)\n",
    "print(nc1.son_iguales(nc2))\n"
   ]
  },
  {
   "cell_type": "code",
   "execution_count": null,
   "metadata": {},
   "outputs": [],
   "source": []
  },
  {
   "cell_type": "markdown",
   "metadata": {},
   "source": [
    "## Ejercicio 5"
   ]
  },
  {
   "cell_type": "markdown",
   "metadata": {},
   "source": [
    "Implementar un método que sume dos numeros complejos sin modificiar los objetos originales, ya que se retorna un nuevo numero NumeroComplejo."
   ]
  },
  {
   "cell_type": "code",
   "execution_count": null,
   "metadata": {},
   "outputs": [],
   "source": [
    "# Solución 5\n",
    "class NumeroComplejo:\n",
    "  # Definimos el constructor, que instancia los distintos objetos\n",
    "  def __init__(self, _x, _y):\n",
    "    # El primer atributo puede no llamarse self, pero se usa asi por convencion\n",
    "    self.x = _x\n",
    "    self.y = _y\n",
    "\n",
    "  def imprimir(self):\n",
    "    print(\"El valor de x es: \" + str(self.x))\n",
    "    print(\"El valor de y es: \" + str(self.y))\n",
    "\n",
    "  def __str__(self):\n",
    "    return \"(\" + str(self.x) + \", \" + str(self.y) + \")\"\n",
    "\n",
    "  def son_iguales(self, c2):\n",
    "    if self.x == c2.x and self.y == c2.y:\n",
    "      return True\n",
    "    return False\n",
    "\n",
    "  def sumar_complejos(self, c2):\n",
    "    a = self.x + c2.x\n",
    "    b = self.y + c2.y\n",
    "    return NumeroComplejo(a, b)\n",
    "\n",
    "nc1 = NumeroComplejo(4, 5)\n",
    "nc2 = NumeroComplejo(4, 5)\n",
    "r = nc1.sumar_complejos(nc2)\n",
    "print(r)"
   ]
  },
  {
   "cell_type": "code",
   "execution_count": null,
   "metadata": {},
   "outputs": [],
   "source": []
  },
  {
   "cell_type": "markdown",
   "metadata": {},
   "source": [
    "Ahora, vamos a implementar un objeto **Bus**, que lleva a un grupo de pasajeros y además tiene un chofer. Los pasajeros y el chofer son todos personas, por lo que primero crearemos una clase **Persona** para representarlos."
   ]
  },
  {
   "cell_type": "markdown",
   "metadata": {},
   "source": [
    "## Ejercicio 6"
   ]
  },
  {
   "cell_type": "markdown",
   "metadata": {},
   "source": [
    "Crea una clase **Persona**. Sus atributos deben ser su nombre y su edad. Además crea un método cumpleaños, que aumente en 1 la edad de la persona."
   ]
  },
  {
   "cell_type": "code",
   "execution_count": null,
   "metadata": {},
   "outputs": [],
   "source": [
    "# Solución 6\n",
    "class Persona:\n",
    "  def __init__(self, _nombre, _edad):\n",
    "    self.nombre = _nombre\n",
    "    self.edad = _edad\n",
    "\n",
    "  def cumpleanhos(self):\n",
    "    self.edad += 1\n",
    "\n",
    "p = Persona(\"Jose\", 10)\n",
    "p.cumpleanhos()\n",
    "print(p.edad)"
   ]
  },
  {
   "cell_type": "code",
   "execution_count": null,
   "metadata": {},
   "outputs": [],
   "source": []
  },
  {
   "cell_type": "markdown",
   "metadata": {},
   "source": [
    "## Ejercicio 7"
   ]
  },
  {
   "cell_type": "markdown",
   "metadata": {},
   "source": [
    "Para la clase anterior definir el método __str__. Debe retornar al menos el nombre de la persona."
   ]
  },
  {
   "cell_type": "code",
   "execution_count": null,
   "metadata": {},
   "outputs": [],
   "source": [
    "# Solución 7\n",
    "class Persona:\n",
    "  def __init__(self, _nombre, _edad):\n",
    "    self.nombre = _nombre\n",
    "    self.edad = _edad\n",
    "\n",
    "  def cumpleanhos(self):\n",
    "    self.edad += 1\n",
    "\n",
    "  def __str__(self):\n",
    "    return \"Persona: \" + self.nombre\n",
    "\n",
    "p = Persona(\"Jose\", 10)\n",
    "print(p)"
   ]
  },
  {
   "cell_type": "code",
   "execution_count": null,
   "metadata": {},
   "outputs": [],
   "source": []
  },
  {
   "cell_type": "markdown",
   "metadata": {},
   "source": [
    "## Ejercicio 8"
   ]
  },
  {
   "cell_type": "markdown",
   "metadata": {},
   "source": [
    "Extender la aplicación anterior con una clase **Bus**. Como atributo tiene un arreglo de pasajeros (inicialmente vacío), una capacidad (se ingresa en el constructor) y un chofer. Debes implementar el método ingresar_chofer(self, persona), que recibe una persona y queda como chofer del Bus si es mayor de 18 años. Cabe destacar que el chofer no se ingresa en el constructor."
   ]
  },
  {
   "cell_type": "code",
   "execution_count": null,
   "metadata": {},
   "outputs": [],
   "source": [
    "# Solución 8\n",
    "class Persona:\n",
    "  def __init__(self, _nombre, _edad, _saldo):\n",
    "    self.nombre = _nombre\n",
    "    self.edad = _edad\n",
    "    self.saldo = _saldo\n",
    "\n",
    "  def cumpleanhos(self):\n",
    "    self.edad += 1\n",
    "\n",
    "  def transferencia(self, persona2, monto):\n",
    "    if self.saldo >= monto:\n",
    "      self.saldo -= monto\n",
    "      persona2.saldo += monto\n",
    "      print(\"Transferencia ok!\")\n",
    "    else:\n",
    "      print(\"No se puede efectuar la transaccion\")\n",
    "\n",
    "  def __str__(self):\n",
    "    return \"Persona: \" + self.nombre\n",
    "\n",
    "class Bus:\n",
    "  def __init__(self, _capacidad):\n",
    "    self.asientos = []\n",
    "    self.capacidad = _capacidad\n",
    "    self.chofer = None\n",
    "\n",
    "  def ingresar_chofer(self, persona):\n",
    "    if persona.edad >= 18:\n",
    "      self.chofer = persona\n",
    "    else:\n",
    "      print(\"Chofer no valido!\")\n",
    "\n",
    "\n",
    "p = Persona(\"Jose\", 10, 2)\n",
    "p2 = Persona(\"Pedro\", 20, 20)\n",
    "\n",
    "b = Bus(10)\n",
    "b.ingresar_chofer(p)\n",
    "b.ingresar_chofer(p2)\n",
    "print(b.chofer)\n"
   ]
  },
  {
   "cell_type": "code",
   "execution_count": null,
   "metadata": {},
   "outputs": [],
   "source": []
  },
  {
   "cell_type": "markdown",
   "metadata": {},
   "source": [
    "## Ejercicio 9"
   ]
  },
  {
   "cell_type": "markdown",
   "metadata": {},
   "source": [
    "Extender la clase **Bus** con el método **subir_pasajero(self, persona)**. Este método sube a la persona al bus (i.e. La agrega al arreglo de asientos) siempre que el número de pasajeros en el Bus sea menor que la capcidad total."
   ]
  },
  {
   "cell_type": "code",
   "execution_count": null,
   "metadata": {},
   "outputs": [],
   "source": [
    "# Solución 9\n",
    "class Persona:\n",
    "  def __init__(self, _nombre, _edad, _saldo):\n",
    "    self.nombre = _nombre\n",
    "    self.edad = _edad\n",
    "    self.saldo = _saldo\n",
    "\n",
    "  def cumpleanhos(self):\n",
    "    self.edad += 1\n",
    "\n",
    "  def transferencia(self, persona2, monto):\n",
    "    if self.saldo >= monto:\n",
    "      self.saldo -= monto\n",
    "      persona2.saldo += monto\n",
    "      print(\"Transferencia ok!\")\n",
    "    else:\n",
    "      print(\"No se puede efectuar la transaccion\")\n",
    "\n",
    "  def __str__(self):\n",
    "    return \"Persona: \" + self.nombre\n",
    "\n",
    "class Bus:\n",
    "  def __init__(self, _capacidad):\n",
    "    self.asientos = []\n",
    "    self.capacidad = _capacidad\n",
    "    self.chofer = None\n",
    "\n",
    "  def ingresar_chofer(self, persona):\n",
    "    if persona.edad >= 18:\n",
    "      self.chofer = persona\n",
    "    else:\n",
    "      print(\"Chofer no valido!\")\n",
    "\n",
    "  def subir_pasajero(self, persona):\n",
    "    if len(self.asientos) < self.capacidad:\n",
    "      self.asientos.append(persona)\n",
    "    else:\n",
    "      print(\"No hay capacidad!\")\n",
    "\n",
    "\n",
    "p = Persona(\"Jose\", 10, 2)\n",
    "p2 = Persona(\"Pedro\", 20, 20)\n",
    "p3 = Persona(\"Bob\", 20, 10)\n",
    "\n",
    "b = Bus(2)\n",
    "b.subir_pasajero(p)\n",
    "b.subir_pasajero(p2)\n",
    "b.subir_pasajero(p3)\n",
    "\n",
    "for pasajero in b.asientos:\n",
    "  print(pasajero)\n"
   ]
  },
  {
   "cell_type": "code",
   "execution_count": null,
   "metadata": {},
   "outputs": [],
   "source": []
  }
 ],
 "metadata": {
  "kernelspec": {
   "display_name": "Python 3",
   "language": "python",
   "name": "python3"
  },
  "language_info": {
   "codemirror_mode": {
    "name": "ipython",
    "version": 3
   },
   "file_extension": ".py",
   "mimetype": "text/x-python",
   "name": "python",
   "nbconvert_exporter": "python",
   "pygments_lexer": "ipython3",
   "version": "3.6.9"
  }
 },
 "nbformat": 4,
 "nbformat_minor": 2
}
