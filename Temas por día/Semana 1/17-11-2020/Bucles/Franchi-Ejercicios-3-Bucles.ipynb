{
 "cells": [
  {
   "cell_type": "markdown",
   "metadata": {},
   "source": [
    "# Ejercicios de Bucles"
   ]
  },
  {
   "cell_type": "markdown",
   "metadata": {},
   "source": [
    "## Ejercicio 1"
   ]
  },
  {
   "cell_type": "markdown",
   "metadata": {},
   "source": [
    "Escribir un programa que pida al usuario una palabra y la muestre por pantalla 10 veces."
   ]
  },
  {
   "cell_type": "code",
   "execution_count": 4,
   "metadata": {},
   "outputs": [
    {
     "name": "stdout",
     "output_type": "stream",
     "text": [
      "Ingrese una palabra Hola!\n",
      "Hola!\n",
      "Hola!\n",
      "Hola!\n",
      "Hola!\n",
      "Hola!\n",
      "Hola!\n",
      "Hola!\n",
      "Hola!\n",
      "Hola!\n",
      "Hola!\n"
     ]
    }
   ],
   "source": [
    "palabra = str(input('Ingrese una palabra '))\n",
    "n = 0\n",
    "while n <= 9:\n",
    "    print(palabra)\n",
    "    n += 1"
   ]
  },
  {
   "cell_type": "markdown",
   "metadata": {},
   "source": [
    "## Ejercicio 2"
   ]
  },
  {
   "cell_type": "markdown",
   "metadata": {},
   "source": [
    "Escribir un programa que pregunte al usuario su edad y muestre por pantalla todos los años que ha cumplido (desde 1 hasta su edad)."
   ]
  },
  {
   "cell_type": "code",
   "execution_count": 1,
   "metadata": {},
   "outputs": [
    {
     "name": "stdout",
     "output_type": "stream",
     "text": [
      "¿Cual es su edad? 5\n",
      "1\n",
      "2\n",
      "3\n",
      "4\n",
      "5\n"
     ]
    }
   ],
   "source": [
    "edad = int(input('¿Cual es su edad? '))\n",
    "for edad in range(1, edad + 1, 1):\n",
    "    print(edad)"
   ]
  },
  {
   "cell_type": "markdown",
   "metadata": {},
   "source": [
    "## Ejercicio 3"
   ]
  },
  {
   "cell_type": "markdown",
   "metadata": {},
   "source": [
    "Escribir un programa que pida al usuario un número entero positivo y muestre por pantalla todos los números impares desde 1 hasta ese número separados por comas."
   ]
  },
  {
   "cell_type": "code",
   "execution_count": 9,
   "metadata": {},
   "outputs": [
    {
     "name": "stdout",
     "output_type": "stream",
     "text": [
      "Ingrese un número entero positivo 9\n",
      "1,3,5,7,9,"
     ]
    }
   ],
   "source": [
    "num = int(input('Ingrese un número entero positivo '))\n",
    "for num in range(1, num + 1, 2):\n",
    "    print(num, end = ',')"
   ]
  },
  {
   "cell_type": "markdown",
   "metadata": {},
   "source": [
    "## Ejercicio 4"
   ]
  },
  {
   "cell_type": "markdown",
   "metadata": {},
   "source": [
    "Escribir un programa que pida al usuario un número entero positivo y muestre por pantalla la cuenta atrás desde ese número hasta cero separados por comas."
   ]
  },
  {
   "cell_type": "code",
   "execution_count": 15,
   "metadata": {},
   "outputs": [
    {
     "name": "stdout",
     "output_type": "stream",
     "text": [
      "Ingrese un número entero positivo 10\n",
      "10\n",
      "9\n",
      "8\n",
      "7\n",
      "6\n",
      "5\n",
      "4\n",
      "3\n",
      "2\n",
      "1\n",
      "0\n"
     ]
    }
   ],
   "source": [
    "num = int(input('Ingrese un número entero positivo '))\n",
    "while num >= 0:\n",
    "    print(num, end = ', ')\n",
    "    num -=1"
   ]
  },
  {
   "cell_type": "markdown",
   "metadata": {},
   "source": [
    "## Ejercicio 5"
   ]
  },
  {
   "cell_type": "markdown",
   "metadata": {},
   "source": [
    "Escribir un programa que pregunte al usuario una cantidad a invertir, el interés anual y el número de años, y muestre por pantalla el capital obtenido en la inversión cada año que dura la inversión."
   ]
  },
  {
   "cell_type": "code",
   "execution_count": 67,
   "metadata": {},
   "outputs": [
    {
     "name": "stdout",
     "output_type": "stream",
     "text": [
      "Ingrese la cantidad a invertir 10000\n",
      "Ingrese el interés anual (%) 10\n",
      "Ingrese el número de años2\n",
      "El capital del año 1 es 11000.0\n",
      "El capital del año 2 es 11000.0\n"
     ]
    }
   ],
   "source": [
    "inversion = int(input('Ingrese la cantidad a invertir '))\n",
    "interes = float(input('Ingrese el interés anual (%) '))\n",
    "anios = int(input('Ingrese el número de años '))\n",
    "\n",
    "                \n",
    "for i in range(1, anios+1, 1):\n",
    "    inversion = inversion * (1 + interes / 100)\n",
    "    print('El capital obtenidoo en el año', i, 'es', inversion)\n",
    "    \n"
   ]
  },
  {
   "cell_type": "markdown",
   "metadata": {},
   "source": [
    "## Ejercicio 6"
   ]
  },
  {
   "cell_type": "markdown",
   "metadata": {},
   "source": [
    "Escribir un programa que pida al usuario un número entero y muestre por pantalla un triángulo rectángulo como el de más abajo, de altura el número introducido.\n",
    "<pre><code>*\n",
    "**\n",
    "***\n",
    "****\n",
    "*****\n",
    "</code></pre>"
   ]
  },
  {
   "cell_type": "code",
   "execution_count": 20,
   "metadata": {},
   "outputs": [
    {
     "name": "stdout",
     "output_type": "stream",
     "text": [
      "Ingrese un número entero 4\n",
      "*\n",
      "**\n",
      "***\n",
      "****\n"
     ]
    }
   ],
   "source": [
    "num = int(input('Ingrese un número entero '))\n",
    "for num in range(1, num + 1, 1):\n",
    "    print(num * '*')"
   ]
  },
  {
   "cell_type": "markdown",
   "metadata": {},
   "source": [
    "## Ejercicio 7"
   ]
  },
  {
   "cell_type": "markdown",
   "metadata": {},
   "source": [
    "Escribir un programa que muestre por pantalla la tabla de multiplicar del 1 al 10."
   ]
  },
  {
   "cell_type": "code",
   "execution_count": 49,
   "metadata": {},
   "outputs": [
    {
     "name": "stdout",
     "output_type": "stream",
     "text": [
      "1\t2\t3\t4\t5\t6\t7\t8\t9\t10\tTabla del 1\n",
      "2\t4\t6\t8\t10\t12\t14\t16\t18\t20\tTabla del 2\n",
      "3\t6\t9\t12\t15\t18\t21\t24\t27\t30\tTabla del 3\n",
      "4\t8\t12\t16\t20\t24\t28\t32\t36\t40\tTabla del 4\n",
      "5\t10\t15\t20\t25\t30\t35\t40\t45\t50\tTabla del 5\n",
      "6\t12\t18\t24\t30\t36\t42\t48\t54\t60\tTabla del 6\n",
      "7\t14\t21\t28\t35\t42\t49\t56\t63\t70\tTabla del 7\n",
      "8\t16\t24\t32\t40\t48\t56\t64\t72\t80\tTabla del 8\n",
      "9\t18\t27\t36\t45\t54\t63\t72\t81\t90\tTabla del 9\n",
      "10\t20\t30\t40\t50\t60\t70\t80\t90\t100\tTabla del 10\n"
     ]
    }
   ],
   "source": [
    "for i in range(1 ,11):\n",
    "    for j in range(1, 11):\n",
    "        print(i*j, end=\"\\t\")\n",
    "    print('Tabla del', i)"
   ]
  },
  {
   "cell_type": "markdown",
   "metadata": {},
   "source": [
    "## Ejercicio 8"
   ]
  },
  {
   "cell_type": "markdown",
   "metadata": {},
   "source": [
    "Escribir un programa que pida al usuario un número entero y muestre por pantalla un triángulo rectángulo como el de más abajo.\n",
    "<pre><code>1\n",
    "3 1\n",
    "5 3 1\n",
    "7 5 3 1\n",
    "9 7 5 3 1\n",
    "</code></pre>"
   ]
  },
  {
   "cell_type": "code",
   "execution_count": 61,
   "metadata": {},
   "outputs": [
    {
     "name": "stdout",
     "output_type": "stream",
     "text": [
      "Ingrese un numero entero 6\n",
      "1 \n",
      "\n",
      "3 1 \n",
      "\n",
      "5 3 1 \n",
      "\n"
     ]
    }
   ],
   "source": [
    "num = int(input('Ingrese un numero entero '))\n",
    "for i in range(1, num+1, 2):\n",
    "    for j in range(i, 0, -2):\n",
    "        print(j, end=\" \")\n",
    "    print(\"\\n\")"
   ]
  },
  {
   "cell_type": "markdown",
   "metadata": {},
   "source": [
    "## Ejercicio 9"
   ]
  },
  {
   "cell_type": "markdown",
   "metadata": {},
   "source": [
    "Escribir un programa que almacene la cadena de caracteres <font color=#B40431>contraseña</font> en una variable, pregunte al usuario por la contraseña hasta que introduzca la contraseña correcta."
   ]
  },
  {
   "cell_type": "code",
   "execution_count": 10,
   "metadata": {},
   "outputs": [
    {
     "name": "stdout",
     "output_type": "stream",
     "text": [
      "Ingrese la contraseña hola\n",
      "La contraseña es incorrecta\n",
      "Vuelva a introducir la contraseña password\n",
      "La contraseña es incorrecta\n",
      "Vuelva a introducir la contraseña contraseña\n",
      "La contraseña es correcta\n"
     ]
    }
   ],
   "source": [
    "contraseña = \"contraseña\"\n",
    "consulta = str(input('Ingrese la contraseña '))\n",
    "while consulta != contraseña:\n",
    "    print('La contraseña es incorrecta')\n",
    "    consulta = str(input('Vuelva a introducir la contraseña '))\n",
    "else: \n",
    "    print('La contraseña es correcta')"
   ]
  },
  {
   "cell_type": "markdown",
   "metadata": {},
   "source": [
    "## Ejercicio 10"
   ]
  },
  {
   "cell_type": "markdown",
   "metadata": {},
   "source": [
    "Escribir un programa que pida al usuario un número entero y muestre por pantalla si es un número primo o no."
   ]
  },
  {
   "cell_type": "code",
   "execution_count": 28,
   "metadata": {},
   "outputs": [
    {
     "ename": "SyntaxError",
     "evalue": "invalid syntax (<ipython-input-28-81129ce95a81>, line 5)",
     "output_type": "error",
     "traceback": [
      "\u001b[1;36m  File \u001b[1;32m\"<ipython-input-28-81129ce95a81>\"\u001b[1;36m, line \u001b[1;32m5\u001b[0m\n\u001b[1;33m    divisores += 1 %%si sale de este bucle, es porque encontró\u001b[0m\n\u001b[1;37m                    ^\u001b[0m\n\u001b[1;31mSyntaxError\u001b[0m\u001b[1;31m:\u001b[0m invalid syntax\n"
     ]
    }
   ],
   "source": [
    "nro = int(input('Ingrese un numero entero '))\n",
    "divisores = 2\n",
    "\n",
    "while nro % divisores != 0:\n",
    "    divisores += 1 #si sale de este bucle, es porque: 1-encontro un divisor mayor a 2 \n",
    "                   #con el que el nro dividido por el da resto 0 (es compuesto)\n",
    "                   #o 2-no encontró ningún divisor por el cual nro sea divisible(es primo), entonces nro == divisores     \n",
    "if divisores == nro:\n",
    "    print('El numero ingresado es primo')\n",
    "else:\n",
    "    print('El numero ingresado es compuesto')"
   ]
  },
  {
   "cell_type": "markdown",
   "metadata": {},
   "source": [
    "## Ejercicio 11"
   ]
  },
  {
   "cell_type": "markdown",
   "metadata": {},
   "source": [
    "#### Escribir un programa que pida al usuario una palabra y luego muestre por pantalla una a una las letras de la palabra introducida empezando por la última."
   ]
  },
  {
   "cell_type": "code",
   "execution_count": 8,
   "metadata": {},
   "outputs": [
    {
     "name": "stdout",
     "output_type": "stream",
     "text": [
      "Ingrese una palabra hola\n",
      "a\n",
      "l\n",
      "o\n",
      "h\n"
     ]
    }
   ],
   "source": [
    "palabra = str(input('Ingrese una palabra '))\n",
    "\n",
    "for i in range(len(palabra) - 1, -1, -1):\n",
    "    print(palabra[i])"
   ]
  },
  {
   "cell_type": "markdown",
   "metadata": {},
   "source": [
    "## Ejercicio 12"
   ]
  },
  {
   "cell_type": "markdown",
   "metadata": {},
   "source": [
    "Escribir un programa en el que se pregunte al usuario por una frase y una letra, y muestre por pantalla el número de veces que aparece la letra en la frase."
   ]
  },
  {
   "cell_type": "code",
   "execution_count": 7,
   "metadata": {},
   "outputs": [
    {
     "name": "stdout",
     "output_type": "stream",
     "text": [
      "Ingrese una frase Buenos dias\n",
      "Ingrese una letra s\n",
      "La letra s aparece 2 veces en la frase Buenos dias\n"
     ]
    }
   ],
   "source": [
    "frase = str(input('Ingrese una frase '))\n",
    "letra = str(input('Ingrese una letra '))\n",
    "n = 0\n",
    "\n",
    "for i in frase:\n",
    "    if i == letra:\n",
    "        n += 1\n",
    "    \n",
    "print('La letra', letra, 'aparece', n, 'veces en la frase', frase)"
   ]
  },
  {
   "cell_type": "markdown",
   "metadata": {},
   "source": [
    "## Ejercicio 13"
   ]
  },
  {
   "cell_type": "markdown",
   "metadata": {},
   "source": [
    "Escribir un programa que muestre el eco de todo lo que el usuario introduzca hasta que el usuario escriba “salir” que terminará."
   ]
  },
  {
   "cell_type": "code",
   "execution_count": 3,
   "metadata": {},
   "outputs": [
    {
     "name": "stdout",
     "output_type": "stream",
     "text": [
      "Ingrese una palabra hola\n",
      "hola\n",
      "Ingrese otra palabra (escriba \"salir\" para terminar)je\n",
      "je\n",
      "Ingrese otra palabra (escriba \"salir\" para terminar)salir\n",
      "Has salido del programa\n"
     ]
    }
   ],
   "source": [
    "palabra = str(input('Ingrese una palabra '))\n",
    "while palabra != \"salir\":\n",
    "    print(palabra)\n",
    "    palabra = str(input('Ingrese otra palabra (escriba \"salir\" para terminar)'))\n",
    "else:\n",
    "    print(\"Has salido del programa\")"
   ]
  },
  {
   "cell_type": "code",
   "execution_count": null,
   "metadata": {},
   "outputs": [],
   "source": []
  }
 ],
 "metadata": {
  "kernelspec": {
   "display_name": "Python 3",
   "language": "python",
   "name": "python3"
  },
  "language_info": {
   "codemirror_mode": {
    "name": "ipython",
    "version": 3
   },
   "file_extension": ".py",
   "mimetype": "text/x-python",
   "name": "python",
   "nbconvert_exporter": "python",
   "pygments_lexer": "ipython3",
   "version": "3.8.3"
  }
 },
 "nbformat": 4,
 "nbformat_minor": 2
}
