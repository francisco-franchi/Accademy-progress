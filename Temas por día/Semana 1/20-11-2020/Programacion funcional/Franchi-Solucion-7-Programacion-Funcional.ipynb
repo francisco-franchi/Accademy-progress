{
 "cells": [
  {
   "cell_type": "markdown",
   "metadata": {},
   "source": [
    "# Soluciones de Ejercicios de Programación Funcional"
   ]
  },
  {
   "cell_type": "markdown",
   "metadata": {},
   "source": [
    "# Ejercicio 1"
   ]
  },
  {
   "cell_type": "markdown",
   "metadata": {},
   "source": [
    "Escribir una función que aplique un descuento a un precio y otra que aplique el IVA a un precio. Escribir una tercera función que reciba un diccionario con los precios y porcentajes de una cesta de la compra, y una de las funciones anteriores, y utilice la función pasada para aplicar los descuentos o el IVA a los productos de la canasta y devolver el precio final de la canasta."
   ]
  },
  {
   "cell_type": "code",
   "execution_count": null,
   "metadata": {},
   "outputs": [],
   "source": [
    "# Solución\n",
    "def apply_IVA(price, percentage):\n",
    "    '''\n",
    "    Función que aplica un IVA a una cantidad.\n",
    "    Parámetros:\n",
    "        price: Es un valor real con el precio al que aplicar el IVA.\n",
    "        percentage: Es el porcentaje del IVA a aplicar.\n",
    "    Devuelve:\n",
    "        El precio final tras aplicar el IVA.\n",
    "    '''\n",
    "    return price + price * percentage / 100\n",
    "\n",
    "def price_basket(basket, function):\n",
    "    '''\n",
    "    Función que calcula el precio de una cesta de la compra una vez aplicada una función a los precios iniciales.\n",
    "    Parámetros:\n",
    "        basket: Es un diccionario formado por pares precio:descuento.\n",
    "        function: Es una función que toma dos valores reales y devuelve otro. Normalmente para aplicar descuentos o IVA.\n",
    "    Devuelve:\n",
    "        El precio final de la cesta de la compra una vez aplicada la función sobre los precios iniciales.\n",
    "    '''\n",
    "    total = 0\n",
    "    for price, discount in basket.items():\n",
    "        total += function(price, discount)\n",
    "    return total\n",
    "\n",
    "print('El precio de la compra tras aplicar los descuentos es: ', price_basket({1000:20, 500:10, 100:1}, apply_discount))\n",
    "print('El precio de la compra tras aplicar el IVA es: ', price_basket({1000:20, 500:10, 100:1}, apply_IVA))"
   ]
  },
  {
   "cell_type": "code",
   "execution_count": null,
   "metadata": {},
   "outputs": [],
   "source": []
  },
  {
   "cell_type": "markdown",
   "metadata": {},
   "source": [
    "# Ejercicio 2"
   ]
  },
  {
   "cell_type": "markdown",
   "metadata": {},
   "source": [
    "Escribir una función que simule una calculadora científica que permita calcular el seno, coseno, tangente, exponencial y logaritmo neperiano. La función preguntará al usuario el valor y la función a aplicar, y mostrará por pantalla una tabla con los enteros de 1 al valor introducido y el resultado de aplicar la función a esos enteros."
   ]
  },
  {
   "cell_type": "code",
   "execution_count": null,
   "metadata": {},
   "outputs": [],
   "source": [
    "# Solución\n",
    "from math import sin, cos, tan, exp, log\n",
    "\n",
    "def apply_function(f, n):\n",
    "    '''\n",
    "    Función que aplica una función a los enteros desde 1 hasta n.\n",
    "    Parámetros:\n",
    "        f: Es una función que recibe un número real y devuelve otro.\n",
    "        n: Es un número entero positivo.\n",
    "    Devuelve:\n",
    "        Un diccionario con los pares i:f(i) para cada valor entero i de 1 a n.\n",
    "    '''\n",
    "    functions = {'sin':sin, 'cos':cos, 'tan':tan, 'exp':exp, 'log':log}\n",
    "    result = {}\n",
    "    for i in range(1, n+1):\n",
    "        result[i] = functions[f](i)\n",
    "    return result\n",
    "\n",
    "def calculator():\n",
    "    '''\n",
    "    Función que aplica una función seleccionada por el usuario (seno, coseno, tangente, exponencial o logarítmo) a la lista de enteros desde 1 hasta n. \n",
    "    Imprime por pantalla una tabla con la secuencia de enteros y el resultado de aplicarles la función introducida.\n",
    "    Parámetros:\n",
    "        f: Es una cadena con la función a aplicar (sin, cos, tan, exp o log).\n",
    "        n: Es un entero positivo.\n",
    "    '''\n",
    "    f = input('Introduce la función a aplicar (sin, cos, tan, exp, log): ')\n",
    "    n = int(input('Introduce un entero positivo: '))\n",
    "    for i, j in apply_function(f, n).items():\n",
    "        print (i, '\\t', j)\n",
    "    return\n",
    "\n",
    "calculator()"
   ]
  },
  {
   "cell_type": "code",
   "execution_count": null,
   "metadata": {},
   "outputs": [],
   "source": []
  },
  {
   "cell_type": "markdown",
   "metadata": {},
   "source": [
    "# Ejercicio 3"
   ]
  },
  {
   "cell_type": "markdown",
   "metadata": {},
   "source": [
    "Escribir una función que reciba otra función y una lista, y devuelva otra lista con el resultado de aplicar la función dada a cada uno de los elementos de la lista."
   ]
  },
  {
   "cell_type": "code",
   "execution_count": null,
   "metadata": {},
   "outputs": [],
   "source": [
    "# Solución\n",
    "def aplica_funcion_lista(funcion, lista):\n",
    "    '''Función que aplica una función a todos los elementos de una lista.\n",
    "\n",
    "    Parámetros:\n",
    "        funcion: Es una función.\n",
    "        lista: Es una lista con valores que se pasarán como argumentos a funcion.\n",
    "    Devuelve:\n",
    "        Una lista con el resultado de aplicar la función a los valores de la lista.\n",
    "    '''\n",
    "    l = []\n",
    "    for i in lista:\n",
    "        l.append(funcion(i))\n",
    "    return l\n",
    "\n",
    "def cuadrado(n):\n",
    "    return n * n\n",
    "\n",
    "print(aplica_funcion_lista(cuadrado, [1, 2, 3, 4]))\n"
   ]
  },
  {
   "cell_type": "code",
   "execution_count": null,
   "metadata": {},
   "outputs": [],
   "source": []
  },
  {
   "cell_type": "markdown",
   "metadata": {},
   "source": [
    "# Ejercicio 4"
   ]
  },
  {
   "cell_type": "markdown",
   "metadata": {},
   "source": [
    "Escribir una función que reciba otra función booleana y una lista, y devuelva otra lista con los elementos de la lista que devuelvan True al aplicarles la función booleana."
   ]
  },
  {
   "cell_type": "code",
   "execution_count": null,
   "metadata": {},
   "outputs": [],
   "source": [
    "# Solución\n",
    "def filtra_lista(funcion, lista):\n",
    "    '''Función que filtra los elementos de una lista que devuelven true al aplicarle una función booleana.\n",
    "\n",
    "    Parámetros:\n",
    "        - funcion: Es una función booleana (devuleve true o false)\n",
    "        - lista: Es una lista con valores que se pasarán como argumentos a funcion.\n",
    "    Devuelve:\n",
    "        Una lista con los elementos de la lista que devuelven true al aplicarles la función booleana.\n",
    "    '''\n",
    "    l = []\n",
    "    for i in lista:\n",
    "        if funcion(i):\n",
    "            l.append(i)\n",
    "    return l\n",
    "\n",
    "def par(n):\n",
    "    return n % 2 == 0\n",
    "\n",
    "print(filtra_lista(par, [1, 2, 3, 4, 5, 6]))"
   ]
  },
  {
   "cell_type": "code",
   "execution_count": null,
   "metadata": {},
   "outputs": [],
   "source": []
  },
  {
   "cell_type": "markdown",
   "metadata": {},
   "source": [
    "# Ejercicio 5"
   ]
  },
  {
   "cell_type": "markdown",
   "metadata": {},
   "source": [
    "Escribir una función que reciba una frase y devuelva un diccionario con las palabras que contiene y su longitud."
   ]
  },
  {
   "cell_type": "code",
   "execution_count": null,
   "metadata": {},
   "outputs": [],
   "source": [
    "# Solución\n",
    "def length_words(sentence):\n",
    "    '''\n",
    "    Función que recibe una frase y devuelve un diccionario con las palabras que contiene y su longitud.\n",
    "    Parámetros:\n",
    "        sentence: Es una cadena de caracteres con una frase.\n",
    "    Devuelve:\n",
    "        Un diccionario con pares palabra:longitud donde palabra son las palabras que contiene la frase sentence.\n",
    "    '''\n",
    "    words = sentence.split()\n",
    "    lengths = map(len, words)\n",
    "    return dict(zip(words, lengths))\n",
    "\n",
    "print(length_words('Welcome to Python'))"
   ]
  },
  {
   "cell_type": "code",
   "execution_count": null,
   "metadata": {},
   "outputs": [],
   "source": []
  },
  {
   "cell_type": "markdown",
   "metadata": {},
   "source": [
    "# Ejercicio 6"
   ]
  },
  {
   "cell_type": "markdown",
   "metadata": {},
   "source": [
    "Escribir una función reciba una lista de notas y devuelva la lista de calificaciones correspondientes a esas notas."
   ]
  },
  {
   "cell_type": "code",
   "execution_count": null,
   "metadata": {},
   "outputs": [],
   "source": [
    "# Solución\n",
    "def grade(score):\n",
    "    '''\n",
    "    Función que devuelve la calificación correspondiente a una nota.\n",
    "    Parámetros:\n",
    "        score: Es un valor real entre 0 y 10.\n",
    "    Devuelve:\n",
    "        La calificación correspondiente a la nota score.\n",
    "    '''\n",
    "    if score < 5:\n",
    "        return 'SS'\n",
    "    elif score < 7:\n",
    "        return 'AP'\n",
    "    elif score < 9:\n",
    "        return 'NT'\n",
    "    elif score < 10:\n",
    "        return 'SB'\n",
    "    else:\n",
    "        return 'MH'\n",
    "\n",
    "def apply_grade(scores):\n",
    "    '''\n",
    "    Función que devuelve la calificación correspondiente a las notas de una lista dada.\n",
    "    Parámetros:\n",
    "        scores: Es una lista de valores reales entre 0 y 10.\n",
    "    Devuelve\n",
    "        La lista de calificaciones correspondiente a las notas de scores.\n",
    "    '''\n",
    "    return list(map(grade, scores))\n",
    "\n",
    "print(apply_grade([6.5, 5, 3.4, 8.2, 2.1, 9.7, 10]))"
   ]
  },
  {
   "cell_type": "code",
   "execution_count": null,
   "metadata": {},
   "outputs": [],
   "source": []
  },
  {
   "cell_type": "markdown",
   "metadata": {},
   "source": [
    "# Ejercicio 7"
   ]
  },
  {
   "cell_type": "markdown",
   "metadata": {},
   "source": [
    "Escribir una función reciba un diccionario con las asignaturas y las notas de un alumno y devuelva otro diccionario con las asignaturas en mayúsculas y las calificaciones correspondientes a las notas."
   ]
  },
  {
   "cell_type": "code",
   "execution_count": null,
   "metadata": {},
   "outputs": [],
   "source": [
    "# Solución\n",
    "def grade(score):\n",
    "    '''\n",
    "    Función que devuelve la calificación correspondiente a una nota.\n",
    "    Parámetros:\n",
    "        score: Es un valor real entre 0 y 10.\n",
    "    Devuelve:\n",
    "        La calificación correspondiente a la nota score.\n",
    "    '''\n",
    "    if score < 5:\n",
    "        return 'SS'\n",
    "    elif score < 7:\n",
    "        return 'AP'\n",
    "    elif score < 9:\n",
    "        return 'NT'\n",
    "    elif score < 10:\n",
    "        return 'SB'\n",
    "    else:\n",
    "        return 'MH'\n",
    "\n",
    "def apply_grade(scores):\n",
    "    '''\n",
    "    Función que recibe un diccionario de asignaturas y notas y devuelve otro con las asignaturas en mayúsculas y las calificaciones correspondientes a las notas.\n",
    "    Parámetros:\n",
    "        scores: Es un diccionario con pares asignatura:nota donde nota es un valor real entre 0 y 10.\n",
    "    Devuelve\n",
    "        Un diccionario con pares ASIGNATURA:calificación, donde calificación es la calificación correspondiente a la nota de la asignatura.\n",
    "    '''\n",
    "    subjects = map(str.upper, scores.keys())\n",
    "    grades = map(grade, scores.values())\n",
    "    return dict(zip(subjects, grades))\n",
    "\n",
    "print(apply_grade({'Matemáticas':6.5, 'Física':5, 'Química':3.4, 'Economía':8.2, 'Historia':9.7, 'Programación':10}))"
   ]
  },
  {
   "cell_type": "code",
   "execution_count": null,
   "metadata": {},
   "outputs": [],
   "source": []
  },
  {
   "cell_type": "markdown",
   "metadata": {},
   "source": [
    "# Ejercicio 8"
   ]
  },
  {
   "cell_type": "markdown",
   "metadata": {},
   "source": [
    "Escribir una función reciba un diccionario con las asignaturas y las notas de un alumno y devuelva otro diccionario con las asignaturas en mayúsculas y las calificaciones correspondientes a las notas aprobadas."
   ]
  },
  {
   "cell_type": "code",
   "execution_count": null,
   "metadata": {},
   "outputs": [],
   "source": [
    "# Solución\n",
    "def grade(score):\n",
    "    '''\n",
    "    Función que devuelve la calificación correspondiente a una nota.\n",
    "    Parámetros:\n",
    "        score: Es un valor real entre 0 y 10.\n",
    "    Devuelve:\n",
    "        La calificación correspondiente a la nota score.\n",
    "    '''\n",
    "    if score < 5:\n",
    "        return 'SS'\n",
    "    elif score < 7:\n",
    "        return 'AP'\n",
    "    elif score < 9:\n",
    "        return 'NT'\n",
    "    elif score < 10:\n",
    "        return 'SB'\n",
    "    else:\n",
    "        return 'MH'\n",
    "\n",
    "def passed_subject(subject):\n",
    "    '''\n",
    "    Función que recibe una tupla con una asignatura y su nota y devuelve True si la asignatura está aprobada o False si está suspensa.abs\n",
    "    Parámetros:\n",
    "        subject: Es una tupla (asignatura, nota) donde nota es un valor real entre 0 y 10.\n",
    "    Devuelve: True si la nota es mayor o igual que 5 y False si no.abs\n",
    "    '''\n",
    "    return (subject[1] >= 5)\n",
    "\n",
    "\n",
    "def apply_grade(scores):\n",
    "    '''\n",
    "    Función que recibe un diccionario de asignaturas y notas y devuelve otro con las asignaturas en mayúsculas y las calificaciones correspondientes a las notas.\n",
    "    Parámetros:\n",
    "        scores: Es un diccionario con pares asignatura:nota donde nota es un valor real entre 0 y 10.\n",
    "    Devuelve\n",
    "        Un diccionario con pares ASIGNATURA:calificación, donde calificación es la calificación correspondiente a la nota de la asignatura.\n",
    "    '''\n",
    "    passed = dict(filter(passed_subject, scores.items()))\n",
    "    subjects = map(str.upper, passed.keys())\n",
    "    grades = map(grade, passed.values())\n",
    "    return dict(zip(subjects, grades))\n",
    "\n",
    "print(apply_grade({'Matemáticas':6.5, 'Física':5, 'Química':3.4, 'Economía':8.2, 'Historia':9.7, 'Programación':10}))"
   ]
  },
  {
   "cell_type": "code",
   "execution_count": null,
   "metadata": {},
   "outputs": [],
   "source": []
  },
  {
   "cell_type": "markdown",
   "metadata": {},
   "source": [
    "# Ejercicio 9"
   ]
  },
  {
   "cell_type": "markdown",
   "metadata": {},
   "source": [
    "Escribir una función que calcule el módulo de un vector."
   ]
  },
  {
   "cell_type": "code",
   "execution_count": null,
   "metadata": {},
   "outputs": [],
   "source": [
    "# Solución\n",
    "def sum_square(x, y):\n",
    "    '''\n",
    "    Función que recibe dos valores y calcula la suma del primero más el cuadrado del segundo.\n",
    "    Parámetros:\n",
    "        x: Es un número real.\n",
    "        y: Es un número real.\n",
    "    Devuelve:\n",
    "        x + y²\n",
    "    '''\n",
    "    return x + y ** 2\n",
    "\n",
    "def module(v):\n",
    "    '''\n",
    "    Función que calcula el módulo de un vector.\n",
    "    Parámetros:\n",
    "        v: Una tupla de números reales.\n",
    "    Devuelve:\n",
    "        El módulo del vector v.\n",
    "    '''\n",
    "    from functools import reduce\n",
    "    return reduce(sum_square, v, 0) ** 0.5\n",
    "\n",
    "print(module((3, 4)))\n",
    "print(module((1, 2, 3)))"
   ]
  },
  {
   "cell_type": "code",
   "execution_count": null,
   "metadata": {},
   "outputs": [],
   "source": []
  },
  {
   "cell_type": "markdown",
   "metadata": {},
   "source": [
    "# Ejercicio 10"
   ]
  },
  {
   "cell_type": "markdown",
   "metadata": {},
   "source": [
    "Una inmobiliaria de una ciudad maneja una lista de inmuebles como la siguiente:\n",
    "\n",
    "<pre><code class=\"language-python\">[{'año': 2000, 'metros': 100, 'habitaciones': 3, 'garaje': True, 'zona': 'A'},\n",
    "{'año': 2012, 'metros': 60, 'habitaciones': 2, 'garaje': True, 'zona': 'B'},\n",
    "{'año': 1980, 'metros': 120, 'habitaciones': 4, 'garaje': False, 'zona': 'A'},\n",
    "{'año': 2005, 'metros': 75, 'habitaciones': 3, 'garaje': True, 'zona': 'B'},\n",
    "{'año': 2015, 'metros': 90, 'habitaciones': 2, 'garaje': False, 'zona': 'A'}]\n",
    "</code></pre>\n",
    "\n",
    "Construir una función que permita hacer búsqueda de inmuebles en función de un presupuesto dado. La función recibirá como entrada la lista de inmuebles y un precio, y devolverá otra lista con los inmuebles cuyo precio sea menor o igual que el dado. Los inmuebles de la lista que se devuelva deben incorporar un nuevo par a cada diccionario con el precio del inmueble, donde el precio de un inmueble se calcula con las siguiente fórmula en función de la zona:\n",
    "\n",
    "<ul>\n",
    "<li>Zona A: precio = (metros * 1000 + habitaciones * 5000 + garaje * 15000) * (1-antiguedad/100)</li>\n",
    "<li>Zona B: precio = (metros * 1000 + habitaciones * 5000 + garaje * 15000) * (1-antiguedad/100) * 1.5</li>\n",
    "</ul>"
   ]
  },
  {
   "cell_type": "code",
   "execution_count": null,
   "metadata": {},
   "outputs": [],
   "source": [
    "# Solución\n",
    "pisos = [{'año': 2000, 'metros': 100, 'habitaciones': 3, 'garaje': True, 'zona': 'A'}, {'año': 2012, 'metros': 60, 'habitaciones': 2, 'garaje': True, 'zona': 'B'}, {'año': 1980, 'metros': 120, 'habitaciones': 4, 'garaje': False, 'zona': 'A'}, {'año': 2005, 'metros': 75, 'habitaciones': 3, 'garaje': True, 'zona': 'B'}, {'año': 2015, 'metros': 90, 'habitaciones': 2, 'garaje': False, 'zona': 'A'}]\n",
    "\n",
    "def añadir_precio(piso):\n",
    "    precio = (piso['metros'] * 1000 + piso['habitaciones'] * 5000 + int(piso['garaje']) * 15000) * (1 - (2020 - piso['año']) / 100)\n",
    "    if piso['zona'] == 'B':\n",
    "        precio *= 1.5\n",
    "    piso['precio'] = precio\n",
    "    return piso\n",
    "\n",
    "def busca_piso(pisos, presupuesto):\n",
    "    def filtro(piso):\n",
    "        return piso['precio'] <= presupuesto\n",
    "\n",
    "    return list(filter(filtro,map(añadir_precio, pisos)))\n",
    "\n",
    "print(busca_piso(pisos, 100000))"
   ]
  },
  {
   "cell_type": "code",
   "execution_count": null,
   "metadata": {},
   "outputs": [],
   "source": []
  },
  {
   "cell_type": "markdown",
   "metadata": {},
   "source": [
    "# Ejercicio 11"
   ]
  },
  {
   "cell_type": "markdown",
   "metadata": {},
   "source": [
    "Escribir una función que reciba una muestra de números y devuelva los valores atípicos, es decir, los valores cuya puntuación típica sea mayor que 3 o menor que -3. \n",
    "\n",
    "**Nota**: La puntuación típica de un valor se obtiene restando la media y dividiendo por la desviación típica de la muestra."
   ]
  },
  {
   "cell_type": "code",
   "execution_count": null,
   "metadata": {},
   "outputs": [],
   "source": [
    "# Solución\n",
    "from statistics import mean, stdev\n",
    "\n",
    "def atipico(muestra):\n",
    "    media = mean(muestra)\n",
    "    desviacion = stdev(muestra)\n",
    "    def f(n):\n",
    "        puntuacion = (n - media) / desviacion\n",
    "        return (puntuacion < -3) or (puntuacion > 3)\n",
    "    return f\n",
    "\n",
    "def datos_atipicos(muestra):\n",
    "    return list(filter(atipico(muestra), muestra))\n",
    "\n",
    "print(datos_atipicos([1, 2, 3, 4, 5, 6, 7, 8, 9, 10, 1000]))\n"
   ]
  },
  {
   "cell_type": "code",
   "execution_count": null,
   "metadata": {},
   "outputs": [],
   "source": []
  }
 ],
 "metadata": {
  "kernelspec": {
   "display_name": "Python 3",
   "language": "python",
   "name": "python3"
  },
  "language_info": {
   "codemirror_mode": {
    "name": "ipython",
    "version": 3
   },
   "file_extension": ".py",
   "mimetype": "text/x-python",
   "name": "python",
   "nbconvert_exporter": "python",
   "pygments_lexer": "ipython3",
   "version": "3.6.9"
  }
 },
 "nbformat": 4,
 "nbformat_minor": 2
}
