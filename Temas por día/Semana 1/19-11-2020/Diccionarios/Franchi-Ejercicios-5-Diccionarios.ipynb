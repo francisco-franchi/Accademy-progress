{
 "cells": [
  {
   "cell_type": "markdown",
   "metadata": {},
   "source": [
    "# Ejercicios de Diccionarios"
   ]
  },
  {
   "cell_type": "markdown",
   "metadata": {},
   "source": [
    "## Ejercicio 1"
   ]
  },
  {
   "cell_type": "markdown",
   "metadata": {},
   "source": [
    "Escribir un programa que guarde en una variable el diccionario <font color=#B40431>{'Euro':'€', 'Dollar':'$', 'Yen':'¥'}</font>, pregunte al usuario por una divisa y muestre su símbolo o un mensaje de aviso si la divisa no está en el diccionario."
   ]
  },
  {
   "cell_type": "code",
   "execution_count": 3,
   "metadata": {},
   "outputs": [
    {
     "name": "stdout",
     "output_type": "stream",
     "text": [
      "Ingrese una divisa Austral\n",
      "La divisa no está en el diccionario \n"
     ]
    }
   ],
   "source": [
    "divisas = {'Euro':'€', 'Dollar':'$', 'Yen':'¥'}\n",
    "ingreso = input('Ingrese una divisa ')\n",
    "if ingreso in divisas:\n",
    "    print(divisas[ingreso])\n",
    "else:\n",
    "    print('La divisa no está en el diccionario ')"
   ]
  },
  {
   "cell_type": "markdown",
   "metadata": {},
   "source": [
    "## Ejercicio 2"
   ]
  },
  {
   "cell_type": "markdown",
   "metadata": {},
   "source": [
    "Escribir un programa que pregunte al usuario su nombre, edad, dirección y teléfono y lo guarde en un diccionario. Después debe mostrar por pantalla el mensaje <<font color=#B40431>&#60;nombre&#62; tiene &#60;edad&#62; años, vive en &#60;dirección&#62; y su número de teléfono es &#60;teléfono&#62;.</font>"
   ]
  },
  {
   "cell_type": "code",
   "execution_count": 9,
   "metadata": {},
   "outputs": [
    {
     "name": "stdout",
     "output_type": "stream",
     "text": [
      "Ingrese su nombre Francisco\n",
      "Ingrese su edad 20\n",
      "Ingrese su direccion Segurola y La Habana 4310 septimo piso\n",
      "Ingrese su telefono 43210023\n",
      "Francisco tiene 20 años, vive en Segurola y La Habana 4310 septimo piso y su numero de telefono es 43210023\n"
     ]
    }
   ],
   "source": [
    "datos = {}\n",
    "nombre = input('Ingrese su nombre ')\n",
    "edad = input('Ingrese su edad ')\n",
    "direccion = input('Ingrese su direccion ')\n",
    "telefono = input('Ingrese su telefono ')\n",
    "datos['Nombre'] = nombre\n",
    "datos['Edad'] = edad\n",
    "datos['Direccion'] = direccion\n",
    "datos['Telefono'] = telefono\n",
    "\n",
    "print(datos['Nombre'], 'tiene', datos['Edad'], 'años, vive en', datos['Direccion'], 'y su numero de telefono es', datos['Telefono'])"
   ]
  },
  {
   "cell_type": "markdown",
   "metadata": {},
   "source": [
    "## Ejercicio 3"
   ]
  },
  {
   "cell_type": "markdown",
   "metadata": {},
   "source": [
    "Escribir un programa que guarde en un diccionario los precios de las frutas de la tabla, pregunte al usuario por una fruta, un número de kilos y muestre por pantalla el precio de ese número de kilos de fruta. Si la fruta no está en el diccionario debe mostrar un mensaje informando de ello.\n",
    "<table>\n",
    "<thead>\n",
    "<tr>\n",
    "<th style=\"text-align:left\">Fruta</th>\n",
    "<th style=\"text-align:center\">Precio</th>\n",
    "</tr>\n",
    "</thead>\n",
    "<tbody>\n",
    "<tr>\n",
    "<td style=\"text-align:left\">Banana</td>\n",
    "<td style=\"text-align:center\">120</td>\n",
    "</tr>\n",
    "<tr>\n",
    "<td style=\"text-align:left\">Manzana</td>\n",
    "<td style=\"text-align:center\">130</td>\n",
    "</tr>\n",
    "<tr>\n",
    "<td style=\"text-align:left\">Pera</td>\n",
    "<td style=\"text-align:center\">90</td>\n",
    "</tr>\n",
    "<tr>\n",
    "<td style=\"text-align:left\">Naranja</td>\n",
    "<td style=\"text-align:center\">85</td>\n",
    "</tr>\n",
    "</tbody>\n",
    "</table>"
   ]
  },
  {
   "cell_type": "code",
   "execution_count": 16,
   "metadata": {},
   "outputs": [
    {
     "name": "stdout",
     "output_type": "stream",
     "text": [
      "Ingrese una fruta Pera\n",
      "Ingrese la cantidad de kilos que desea 100\n",
      "El precio de 100 kilos de Pera es de 9000\n"
     ]
    }
   ],
   "source": [
    "precioFrutas = {'Banana': 120, 'Manzana': 130, 'Pera': 90, 'Naranja': 85}\n",
    "fruta = input('Ingrese una fruta ')\n",
    "if fruta in precioFrutas:\n",
    "    kilos = int(input('Ingrese la cantidad de kilos que desea '))\n",
    "    print('El precio de', kilos, 'kilos de', fruta,'es de', (precioFrutas[fruta] * kilos))\n",
    "else:\n",
    "    print('La fruta ingresada no se encuentra en el diccionario')"
   ]
  },
  {
   "cell_type": "markdown",
   "metadata": {},
   "source": [
    "## Ejercicio 4"
   ]
  },
  {
   "cell_type": "markdown",
   "metadata": {},
   "source": [
    "Escribir un programa que pregunte una fecha en formato <font color=#B40431>dd/mm/aaaa</font> y muestre por pantalla la misma fecha en formato <font color=#B40431>dd de &#60;mes&#62; de aaaa</font> donde <font color=#B40431>&#60;mes&#62;</font> es el nombre del mes."
   ]
  },
  {
   "cell_type": "code",
   "execution_count": 20,
   "metadata": {},
   "outputs": [
    {
     "name": "stdout",
     "output_type": "stream",
     "text": [
      "Ingrese un dia 19\n",
      "Ingrese un mes 8\n",
      "Ingrese un año 2000\n",
      "19 de Agosto de 2000\n"
     ]
    }
   ],
   "source": [
    "meses = {'1': 'Enero', '2': 'Febrero', '3': 'Marzo', '4': 'Abril', '5': 'Mayo', '6': 'Junio',\n",
    "         '7': 'Julio', '8': 'Agosto', '9': 'Septiembre', '10': 'Octubre',\n",
    "         '11': 'Noviembre', '12': 'Diciembre'}\n",
    "\n",
    "dia = int(input('Ingrese un dia '))\n",
    "mes = input('Ingrese un mes(número) ')\n",
    "anio = int(input('Ingrese un año '))\n",
    "\n",
    "print(dia, 'de', meses[mes], 'de', anio)"
   ]
  },
  {
   "cell_type": "markdown",
   "metadata": {},
   "source": [
    "## Ejercicio 5"
   ]
  },
  {
   "cell_type": "markdown",
   "metadata": {},
   "source": [
    "Escribir un programa que almacene el diccionario con los créditos de las asignaturas de un curso <font color=#B40431>{'Matemáticas': 6, 'Física': 4, 'Química': 5}</font>y después muestre por pantalla los créditos de cada asignatura en el formato <font color=#B40431>&#60;asignatura&#62;</font> tiene <font color=#B40431>&#60;créditos&#62;</font> créditos, donde <font color=#B40431>&#60;asignatura&#62;</font> es cada una de las asignaturas del curso, y <font color=#B40431>&#60;créditos&#62;</font> son sus créditos. Al final debe mostrar también el número total de créditos del curso."
   ]
  },
  {
   "cell_type": "code",
   "execution_count": 49,
   "metadata": {},
   "outputs": [
    {
     "name": "stdout",
     "output_type": "stream",
     "text": [
      "Matemáticas tiene 6 creditos\n",
      "Física tiene 4 creditos\n",
      "Química tiene 5 creditos\n",
      "El total de creditos del curso es de 15 creditos\n"
     ]
    }
   ],
   "source": [
    "creditos = {'Matemáticas': 6, 'Física': 4, 'Química': 5}\n",
    "lista = []\n",
    "suma = sum(creditos.values())\n",
    "\n",
    "for asignatura in creditos:\n",
    "    print(asignatura, 'tiene', creditos[asignatura], 'creditos')\n",
    "print('El total de creditos del curso es de', suma, 'creditos')\n"
   ]
  },
  {
   "cell_type": "markdown",
   "metadata": {},
   "source": [
    "## Ejercicio 6"
   ]
  },
  {
   "cell_type": "markdown",
   "metadata": {},
   "source": [
    "Escribir un programa que cree un diccionario vacío y lo vaya llenado con información sobre una persona (por ejemplo nombre, edad, sexo, teléfono, correo electrónico, etc.) que se le pida al usuario. Cada vez que se añada un nuevo dato debe imprimirse el contenido del diccionario."
   ]
  },
  {
   "cell_type": "code",
   "execution_count": 12,
   "metadata": {},
   "outputs": [
    {
     "name": "stdout",
     "output_type": "stream",
     "text": [
      "¿Desea introducir un dato suyo? si\n",
      "Especifique que quiere tipo de informacion introducir Nombre\n",
      "Especifique el contenido de la mismaFrancisco Javier Franchi\n",
      "{'Nombre': 'Francisco Javier Franchi'}\n",
      "¿Desea introducir otro dato suyo? si\n",
      "Especifique que quiere tipo de informacion introducir Edad\n",
      "Especifique el contenido de la misma20\n",
      "{'Nombre': 'Francisco Javier Franchi', 'Edad': '20'}\n",
      "¿Desea introducir otro dato suyo? Si\n",
      "Especifique que quiere tipo de informacion introducir Nacionalidad\n",
      "Especifique el contenido de la mismaArgentino\n",
      "{'Nombre': 'Francisco Javier Franchi', 'Edad': '20', 'Nacionalidad': 'Argentino'}\n",
      "¿Desea introducir otro dato suyo? no\n",
      "{'Nombre': 'Francisco Javier Franchi', 'Edad': '20', 'Nacionalidad': 'Argentino'}\n"
     ]
    }
   ],
   "source": [
    "datosPersonales = {}\n",
    "continua = 'si'\n",
    "respuesta = input('¿Desea introducir un dato suyo?(Si/No) ')\n",
    "while(respuesta.lower() == continua):\n",
    "    tipoDato = input('Especifique que quiere tipo de informacion introducir ')\n",
    "    info = input('Especifique el contenido de la misma')\n",
    "    datosPersonales[tipoDato] = info\n",
    "    print(datosPersonales)\n",
    "    respuesta = input('¿Desea introducir otro dato suyo?(Si/No) ')\n",
    "else:\n",
    "    print(datosPersonales)"
   ]
  },
  {
   "cell_type": "markdown",
   "metadata": {},
   "source": [
    "## Ejercicio 7"
   ]
  },
  {
   "cell_type": "markdown",
   "metadata": {},
   "source": [
    "Escribir un programa que cree un diccionario simulando una cesta de la compra. El programa debe preguntar el artículo y su precio y añadir el par al diccionario, hasta que el usuario decida terminar. Después se debe mostrar por pantalla la lista de la compra y el coste total, con el siguiente formato\n",
    "<table>\n",
    "<thead>\n",
    "<tr>\n",
    "<th style=\"text-align:left\">Lista de la compra</th>\n",
    "<th style=\"text-align:right\"></th>\n",
    "</tr>\n",
    "</thead>\n",
    "<tbody>\n",
    "<tr>\n",
    "<td style=\"text-align:left\">Artículo 1</td>\n",
    "<td style=\"text-align:right\">Precio</td>\n",
    "</tr>\n",
    "<tr>\n",
    "<td style=\"text-align:left\">Artículo 2</td>\n",
    "<td style=\"text-align:right\">Precio</td>\n",
    "</tr>\n",
    "<tr>\n",
    "<td style=\"text-align:left\">Artículo 3</td>\n",
    "<td style=\"text-align:right\">Precio</td>\n",
    "</tr>\n",
    "<tr>\n",
    "<td style=\"text-align:left\">&hellip;</td>\n",
    "<td style=\"text-align:right\">&hellip;</td>\n",
    "</tr>\n",
    "<tr>\n",
    "<td style=\"text-align:left\">Total</td>\n",
    "<td style=\"text-align:right\">Coste</td>\n",
    "</tr>\n",
    "</tbody>\n",
    "</table>"
   ]
  },
  {
   "cell_type": "code",
   "execution_count": 15,
   "metadata": {},
   "outputs": [
    {
     "name": "stdout",
     "output_type": "stream",
     "text": [
      "¿Desea ingresar un articulo de la cesta y su precio?(Si/No) si\n",
      "Ingrese un articulo de la cesta Fernet branca\n",
      "Ingrese el precio del mismo 450\n",
      "¿Desea seguir ingresando articulos a la cesta?(Si/No) si\n",
      "Ingrese un articulo de la cesta Arroz\n",
      "Ingrese el precio del mismo 80\n",
      "¿Desea seguir ingresando articulos a la cesta?(Si/No) no\n",
      "{'Fernet branca': 450, 'Arroz': 80}\n",
      "El costo total de los productos de la cesta es: 530 $\n"
     ]
    }
   ],
   "source": [
    "cesta = {}\n",
    "pregunta = input('¿Desea ingresar un articulo de la cesta y su precio?(Si/No) ')\n",
    "continua = 'si'\n",
    "while(pregunta.lower() == continua):\n",
    "    articulo = input('Ingrese un articulo de la cesta ')\n",
    "    precio = int(input('Ingrese el precio del mismo '))\n",
    "    cesta[articulo] = precio\n",
    "    pregunta = input('¿Desea seguir ingresando articulos a la cesta?(Si/No) ')\n",
    "else:\n",
    "    print(cesta)\n",
    "    costeTotal = sum(cesta.values())\n",
    "    print('El costo total de los productos de la cesta es:', costeTotal, '$')"
   ]
  },
  {
   "cell_type": "markdown",
   "metadata": {},
   "source": [
    "## Ejercicio 8"
   ]
  },
  {
   "cell_type": "markdown",
   "metadata": {},
   "source": [
    "Escribir un programa que cree un diccionario de traducción español-inglés. El usuario introducirá las palabras en español e inglés separadas por dos puntos, y cada par <font color=#B40431>&#60;palabra&#62;:&#60;traducción&#62;</font> separados por comas. El programa debe crear un diccionario con las palabras y sus traducciones. Después pedirá una frase en español y utilizará el diccionario para traducirla palabra a palabra. Si una palabra no está en el diccionario debe dejarla sin traducir."
   ]
  },
  {
   "cell_type": "code",
   "execution_count": null,
   "metadata": {},
   "outputs": [],
   "source": []
  },
  {
   "cell_type": "markdown",
   "metadata": {},
   "source": [
    "## Ejercicio 9"
   ]
  },
  {
   "cell_type": "markdown",
   "metadata": {},
   "source": [
    "Escribir un programa que gestione las facturas pendientes de cobro de una empresa. Las facturas se almacenarán en un diccionario donde la clave de cada factura será el número de factura y el valor del total de la factura. El programa debe preguntar al usuario si quiere añadir una nueva factura, pagar una existente o terminar. Si desea añadir una nueva factura se preguntará por el número de factura y su coste y se añadirá al diccionario. Si se desea pagar una factura se preguntará por el número de factura y se eliminará del diccionario. Después de cada operación el programa debe mostrar por pantalla la cantidad cobrada hasta el momento y la cantidad pendiente de cobro."
   ]
  },
  {
   "cell_type": "code",
   "execution_count": null,
   "metadata": {},
   "outputs": [],
   "source": []
  },
  {
   "cell_type": "markdown",
   "metadata": {},
   "source": [
    "## Ejercicio 10"
   ]
  },
  {
   "cell_type": "markdown",
   "metadata": {},
   "source": [
    "Escribir un programa que permita gestionar la base de datos de clientes de una empresa. Los clientes se guardarán en un diccionario en el que la clave de cada cliente será su DNI, y el valor será otro diccionario con los datos del cliente (nombre, dirección, teléfono, correo, preferente), donde preferente tendrá el valor True si se trata de un cliente preferente. El programa debe preguntar al usuario por una opción del siguiente menú: (1) Añadir cliente, (2) Eliminar cliente, (3) Mostrar cliente, (4) Listar todos los clientes, (5) Listar clientes preferentes, (6) Terminar. En función de la opción elegida el programa tendrá que hacer lo siguiente:\n",
    "<ol>\n",
    "<li>Preguntar los datos del cliente, crear un diccionario con los datos y añadirlo a la base de datos.</li>\n",
    "<li>Preguntar por el DNI del cliente y eliminar sus datos de la base de datos.</li>\n",
    "<li>Preguntar por el DNI del cliente y mostrar sus datos.</li>\n",
    "<li>Mostrar lista de todos los clientes de la base datos con su DNI y nombre.</li>\n",
    "<li>Mostrar la lista de clientes preferentes de la base de datos con su DNI y nombre.</li>\n",
    "<li>Terminar el programa.</li>\n",
    "</ol>"
   ]
  },
  {
   "cell_type": "code",
   "execution_count": null,
   "metadata": {},
   "outputs": [],
   "source": []
  }
 ],
 "metadata": {
  "kernelspec": {
   "display_name": "Python 3",
   "language": "python",
   "name": "python3"
  },
  "language_info": {
   "codemirror_mode": {
    "name": "ipython",
    "version": 3
   },
   "file_extension": ".py",
   "mimetype": "text/x-python",
   "name": "python",
   "nbconvert_exporter": "python",
   "pygments_lexer": "ipython3",
   "version": "3.8.3"
  }
 },
 "nbformat": 4,
 "nbformat_minor": 2
}
