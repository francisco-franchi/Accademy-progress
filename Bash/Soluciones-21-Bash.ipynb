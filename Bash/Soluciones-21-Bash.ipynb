{
 "cells": [
  {
   "cell_type": "code",
   "execution_count": null,
   "metadata": {},
   "outputs": [],
   "source": [
    "%%bash\n",
    "echo \"Hola Mundo\""
   ]
  },
  {
   "cell_type": "code",
   "execution_count": null,
   "metadata": {},
   "outputs": [],
   "source": [
    "%%bash\n",
    "cad=\"Hola Silvina\"\n",
    "echo $cad"
   ]
  },
  {
   "cell_type": "code",
   "execution_count": null,
   "metadata": {},
   "outputs": [],
   "source": [
    "%%bash\n",
    "echo Ejemplos de variables de entorno\n",
    "echo --------------------------------\n",
    "echo Versión de BASH..: $BASH_VERSION\n",
    "echo Directorio HOME..: $HOME\n",
    "echo Nombre del equipo: $HOSTNAME\n",
    "echo Usuario . . . . .: $USERNAME"
   ]
  },
  {
   "cell_type": "markdown",
   "metadata": {},
   "source": [
    "Contar la cantidad de archivos con extensión .ipynb que hay en mi directorio"
   ]
  },
  {
   "cell_type": "code",
   "execution_count": null,
   "metadata": {},
   "outputs": [],
   "source": [
    "%%bash\n",
    "find -name \"*.ipynb\" | wc -l"
   ]
  },
  {
   "cell_type": "code",
   "execution_count": null,
   "metadata": {},
   "outputs": [],
   "source": [
    "%%bash \n",
    "find ~/ -name \"*.ipynb\" | wc -l"
   ]
  },
  {
   "cell_type": "markdown",
   "metadata": {},
   "source": [
    "Para todos los archivos que encontraste, contar las ocurrencias del keyword while"
   ]
  },
  {
   "cell_type": "code",
   "execution_count": null,
   "metadata": {},
   "outputs": [],
   "source": [
    "%%bash\n",
    "find -name \"*.ipynb\" | xargs grep -n 'while' | wc -l"
   ]
  },
  {
   "cell_type": "markdown",
   "metadata": {},
   "source": [
    "Calcular el factorial de n."
   ]
  },
  {
   "cell_type": "code",
   "execution_count": null,
   "metadata": {},
   "outputs": [],
   "source": [
    "%%bash\n",
    "f(){\n",
    "    x=\"$1\"\n",
    "    y=1\n",
    "    for (( i=1; i<$x; i++ )); do\n",
    "        y=$((y+y*i))\n",
    "    done\n",
    "    echo \"$y\"        \n",
    "}\n",
    "\n",
    "echo \"$(f 4)\""
   ]
  },
  {
   "cell_type": "code",
   "execution_count": null,
   "metadata": {},
   "outputs": [],
   "source": [
    "%%bash\n",
    "factorial(){\n",
    "    n=\"$1\"\n",
    "    i=1\n",
    "    while [ $n -gt 0 ]; do\n",
    "        i=$((i*n))\n",
    "        n=$((n-1))\n",
    "    done\n",
    "    echo \"$i\"\n",
    "}\n",
    "\n",
    "echo \"$(factorial 4)\""
   ]
  },
  {
   "cell_type": "markdown",
   "metadata": {},
   "source": [
    "Obtener todos los caracteres en posición par de la cadena H1e2l3l4o5w6o7r8l9d"
   ]
  },
  {
   "cell_type": "code",
   "execution_count": null,
   "metadata": {},
   "outputs": [],
   "source": [
    "%%bash\n",
    "s=\"H1e2l3l4o5w6o7r8l9d\"\n",
    "echo \"$s\" | sed 's/[0-9]//g'"
   ]
  },
  {
   "cell_type": "code",
   "execution_count": null,
   "metadata": {},
   "outputs": [],
   "source": [
    "%%bash\n",
    "text=\"H1e2l3l4o5w6o7r8l9d\"\n",
    "newText=\"\"\n",
    "for (( i=0; i<${#text}; i++ )); do\n",
    "    if (( $i % 3 == 0 )); then\n",
    "        newText+=\"${text:$i:1}\"\n",
    "    fi\n",
    "done\n",
    "echo \"$newText\""
   ]
  },
  {
   "cell_type": "code",
   "execution_count": null,
   "metadata": {},
   "outputs": [],
   "source": [
    "%%bash\n",
    "echo \"H1e2l3l4o5w6o7r8l9d\" | awk -vFS= '{for (i = 0; i <= NF; i+=2) {printf $(i+1)\"\"} printf \"\\n\"}'"
   ]
  },
  {
   "cell_type": "markdown",
   "metadata": {},
   "source": [
    "Imprimir las fechas de los días divisibles por 3 comprendidos entre el 18 y el 25 de mayo de 2020"
   ]
  },
  {
   "cell_type": "code",
   "execution_count": 4,
   "metadata": {},
   "outputs": [
    {
     "name": "stdout",
     "output_type": "stream",
     "text": [
      " 2020-05-18 2020-05-21 2020-05-24\n"
     ]
    }
   ],
   "source": [
    "%%bash\n",
    "start_date=\"2020-05-18\"\n",
    "end_date=\"2020-05-25\"\n",
    "start_day=$(echo \"$start_date\" | rev | cut -d '-' -f1 | rev)\n",
    "end_day=$(echo \"$end_date\" | rev | cut -d '-' -f1 | rev)\n",
    "mod_3_dates=()\n",
    "while [ \"$start_day\" -le \"$end_day\" ]; do\n",
    "    start_date=\"2020-05-$start_day\"\n",
    "    if ((\"$start_day\" % 3 == 0)); then\n",
    "        mod_3_dates+=\" $start_date\"\n",
    "    fi\n",
    "    start_day=$((start_day + 1))\n",
    "done\n",
    "echo \"${mod_3_dates[@]}\""
   ]
  },
  {
   "cell_type": "code",
   "execution_count": 1,
   "metadata": {},
   "outputs": [
    {
     "name": "stdout",
     "output_type": "stream",
     "text": [
      "18 de mayo de 2020\n",
      "19 de mayo de 2020\n",
      "20 de mayo de 2020\n",
      "21 de mayo de 2020\n",
      "22 de mayo de 2020\n",
      "23 de mayo de 2020\n",
      "24 de mayo de 2020\n",
      "25 de mayo de 2020\n",
      "Dias divisibles por 3: 18 21 24\n"
     ]
    }
   ],
   "source": [
    "%%bash\n",
    "inicio=18\n",
    "final=25\n",
    "declare -a diasDivisiblesPor3=()\n",
    "\n",
    "while [ $final -ge $inicio ]\n",
    "do\n",
    "  echo \"$inicio de mayo de 2020\"\n",
    "  if [[ $((inicio%3)) == 0 ]];\n",
    "  then\n",
    "    diasDivisiblesPor3=(${diasDivisiblesPor3[@]} $inicio)\n",
    "  fi\n",
    "  let inicio=$inicio+1\n",
    "done\n",
    "\n",
    "echo \"Dias divisibles por 3: ${diasDivisiblesPor3[*]}\""
   ]
  },
  {
   "cell_type": "code",
   "execution_count": null,
   "metadata": {},
   "outputs": [],
   "source": [
    "%%bash\n",
    "echo \"2020-05-18\"|rev "
   ]
  },
  {
   "cell_type": "code",
   "execution_count": null,
   "metadata": {},
   "outputs": [],
   "source": [
    "%%bash\n",
    "echo \"2020-05-18\"|rev|cut -d '-' -f3"
   ]
  },
  {
   "cell_type": "code",
   "execution_count": null,
   "metadata": {},
   "outputs": [],
   "source": [
    "%%bash\n",
    "echo \"2020-05-18\"|rev|cut -d '-' -f1|rev"
   ]
  },
  {
   "cell_type": "code",
   "execution_count": null,
   "metadata": {},
   "outputs": [],
   "source": [
    "%%bash\n",
    "echo \"18-05-2020\" |cut -d '-' -f3"
   ]
  }
 ],
 "metadata": {
  "kernelspec": {
   "display_name": "Python 3",
   "language": "python",
   "name": "python3"
  },
  "language_info": {
   "codemirror_mode": {
    "name": "ipython",
    "version": 3
   },
   "file_extension": ".py",
   "mimetype": "text/x-python",
   "name": "python",
   "nbconvert_exporter": "python",
   "pygments_lexer": "ipython3",
   "version": "3.6.9"
  }
 },
 "nbformat": 4,
 "nbformat_minor": 2
}
