{
 "cells": [
  {
   "cell_type": "markdown",
   "metadata": {},
   "source": [
    "## Ejercicios de Bash y Comandos en Linux"
   ]
  },
  {
   "cell_type": "markdown",
   "metadata": {},
   "source": [
    "### Factorial\n",
    "\n",
    "Escribir una función `factorial(n)` que para cualquier número natural $n$ devuelve $n!$."
   ]
  },
  {
   "cell_type": "code",
   "execution_count": 15,
   "metadata": {},
   "outputs": [
    {
     "output_type": "stream",
     "name": "stdout",
     "text": [
      "6\n"
     ]
    }
   ],
   "source": [
    "%%bash\n",
    "f() {\n",
    "  x=\"$1\"\n",
    "  var='y'\n",
    "  y=1\n",
    "  for ((i = 1; i < x; i++)); do\n",
    "    y=$((y+y*i))\n",
    "  done\n",
    "\n",
    "  \n",
    "  echo \"$y\"\n",
    "}\n",
    "echo \"$(f 3)\""
   ]
  },
  {
   "cell_type": "markdown",
   "metadata": {},
   "source": [
    "### Parseo de cadenas\n",
    "\n",
    "Eliminar los números de la cadena H1e2l3l4o5w6o7r8l9d."
   ]
  },
  {
   "cell_type": "code",
   "execution_count": 9,
   "metadata": {},
   "outputs": [
    {
     "output_type": "stream",
     "name": "stdout",
     "text": [
      "Helloworld\n"
     ]
    }
   ],
   "source": [
    "%%bash\n",
    "\n",
    "var1=\"cadena\"\n",
    "cadena='H1e2l3l4o5w6o7r8l9d'\n",
    "\n",
    "echo $cadena | sed s/[0-9]*//g"
   ]
  },
  {
   "cell_type": "markdown",
   "metadata": {},
   "source": [
    "### Fechas con while loops\n",
    "\n",
    "Imprima, en un while loop, todas las fechas entre el 18 y 25 de mayo de este año. Ademas guarde en una lista (array) todas las fechas cuyo día del mes sea divisible por 3."
   ]
  },
  {
   "cell_type": "code",
   "execution_count": 29,
   "metadata": {},
   "outputs": [
    {
     "output_type": "stream",
     "name": "stdout",
     "text": [
      "18 21 24 \n"
     ]
    }
   ],
   "source": [
    "%%bash\n",
    "start_date=\"2020-05-18\"\n",
    "end_date=\"2020-05-25\"\n",
    "start_day=$(echo \"$start_date\" | cut -d '-' -f3)\n",
    "end_day=$(echo \"$end_date\" | cut -d '-' -f3)\n",
    "mod_3_dates=()\n",
    "\n",
    "while [ \"$start_day\" -le \"$end_day\" ]; \n",
    "\n",
    "do\n",
    "\n",
    "    if (($start_day % 3 == 0))\n",
    "    \n",
    "    then\n",
    "\n",
    "    mod_3_dates+=$start_day\n",
    "    espacio=\" \"\n",
    "    mod_3_dates+=$espacio\n",
    "    \n",
    "    fi\n",
    "\n",
    "    start_day=$((start_day + 1))\n",
    "\n",
    "done\n",
    "\n",
    "#echo $start_day\n",
    "#echo $end_day\n",
    "echo \"${mod_3_dates[@]}\"\n"
   ]
  },
  {
   "cell_type": "markdown",
   "metadata": {},
   "source": [
    "### find y grep\n",
    "\n",
    "- Contar la cantidad de archivos python `*.py` que hay en tu home (o cualquier otro directorio que elijas).\n",
    "- Para todos estos archivos contar las cantidad de ocurrencias del keyword `for`."
   ]
  },
  {
   "cell_type": "code",
   "execution_count": 13,
   "metadata": {},
   "outputs": [
    {
     "output_type": "stream",
     "name": "stdout",
     "text": [
      "744\n15910\n"
     ]
    }
   ],
   "source": [
    "%%bash\n",
    "find ~/ -name \"*.py\" | wc -l\n",
    "find ~/ -name \"*.py\" | xargs grep -n 'for' | wc -l"
   ]
  },
  {
   "source": [
    "### Calculadora\n",
    "\n",
    "Realizar una calculadora que reciba 2 variables y un operador (suma, resta, multiplicación y división) y resuelva la operación."
   ],
   "cell_type": "markdown",
   "metadata": {}
  },
  {
   "cell_type": "code",
   "execution_count": 31,
   "metadata": {},
   "outputs": [
    {
     "output_type": "stream",
     "name": "stderr",
     "text": [
      "UsageError: %%bash is a cell magic, but the cell body is empty.\n"
     ]
    }
   ],
   "source": [
    "%%bash\n",
    "\n",
    "#Aclaración: tuve que crear un archivo .sh y correr todo esto ahí ya que no me tomaba lo del read. Funciona bien.\n",
    "\n",
    "echo \"Por favor, escriba la primer variable\"\n",
    "read var1\n",
    "\n",
    "echo \"Por favor, ingrese la operacion\"\n",
    "read op\n",
    "\n",
    "echo \"Por favor, escriba la segunda variable\"\n",
    "read var2\n",
    "\n",
    "suma(){\n",
    "    var1=$1\n",
    "    var2=$2\n",
    "    suma=$(( $var1+$var2 ))\n",
    "    echo $suma\n",
    "}\n",
    "\n",
    "resta(){\n",
    "    var1=$1\n",
    "    var2=$2\n",
    "    resta=$(( $var1-$var2 ))\n",
    "    echo $resta\n",
    "}\n",
    "\n",
    "multiplicacion(){\n",
    "    var1=$1\n",
    "    var2=$2\n",
    "    multiplicacion=$(( $var1*$var2 ))\n",
    "    echo $multiplicacion\n",
    "}\n",
    "\n",
    "division(){\n",
    "    var1=$1\n",
    "    var2=$2\n",
    "    division=$(( $var1/$var2 ))\n",
    "    echo $division\n",
    "}\n",
    "\n",
    "if [ $op == \"suma\" ]; then\n",
    "    echo $(suma $var1 $var2)\n",
    "elif [ $op == \"resta\" ]; then\n",
    "    echo $(resta $var1 $var2)\n",
    "elif [ $op == \"multiplicacion\" ]; then\n",
    "    echo $(multiplicacion $var1 $var2)\n",
    "elif [ $op == \"division\" ]; then\n",
    "    echo $(division $var1 $var2)\n",
    "fi\n"
   ]
  }
 ],
 "metadata": {
  "kernelspec": {
   "display_name": "Python 3",
   "language": "python",
   "name": "python3"
  },
  "language_info": {
   "codemirror_mode": {
    "name": "ipython",
    "version": 3
   },
   "file_extension": ".py",
   "mimetype": "text/x-python",
   "name": "python",
   "nbconvert_exporter": "python",
   "pygments_lexer": "ipython3",
   "version": "3.8.3-final"
  }
 },
 "nbformat": 4,
 "nbformat_minor": 2
}